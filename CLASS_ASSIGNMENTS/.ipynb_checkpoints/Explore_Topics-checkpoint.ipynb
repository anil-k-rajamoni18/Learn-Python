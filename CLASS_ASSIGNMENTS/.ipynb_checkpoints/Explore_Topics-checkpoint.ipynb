{
 "cells": [
  {
   "cell_type": "markdown",
   "id": "5af33b0a",
   "metadata": {},
   "source": [
    "### What is git and Github?\n",
    "    - git vs github\n",
    "    - importance of git in realtime\n",
    "    - popular commands\n",
    "    - create a github account\n",
    "    - download git locally \n",
    "    - push new files into github account\n",
    "\n",
    "### WHAT IS JSON ?\n",
    "\t- It's Data Types \n",
    "\t- It's Usage \n",
    "\t\n",
    "### What is an API ?\n",
    "\t- Types of API \n",
    "\t- Different Implementations\n",
    "\t\n",
    "\n",
    "### What is Type Hints or Type Annotations in Python?\n",
    "    - importance\n",
    "    - usages \n",
    "    - examples\n",
    " \n",
    "\n",
    "\n"
   ]
  },
  {
   "cell_type": "code",
   "execution_count": null,
   "id": "3ff2b7e2",
   "metadata": {},
   "outputs": [],
   "source": []
  }
 ],
 "metadata": {
  "kernelspec": {
   "display_name": "Python 3 (ipykernel)",
   "language": "python",
   "name": "python3"
  },
  "language_info": {
   "codemirror_mode": {
    "name": "ipython",
    "version": 3
   },
   "file_extension": ".py",
   "mimetype": "text/x-python",
   "name": "python",
   "nbconvert_exporter": "python",
   "pygments_lexer": "ipython3",
   "version": "3.10.9"
  }
 },
 "nbformat": 4,
 "nbformat_minor": 5
}
