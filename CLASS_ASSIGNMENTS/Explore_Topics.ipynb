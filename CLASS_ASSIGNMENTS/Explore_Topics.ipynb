{
 "cells": [
  {
   "cell_type": "markdown",
   "id": "5af33b0a",
   "metadata": {},
   "source": [
    "### What is git and Github?\n",
    "    - git vs github\n",
    "    - importance of git in realtime\n",
    "    - popular commands\n",
    "    - create a github account\n",
    "    - download git locally \n",
    "    - push new files into github account\n",
    "\n",
    "### WHAT IS JSON ?\n",
    "\t- It's Data Types \n",
    "\t- It's Usage \n",
    "\t\n",
    "### What is an API ?\n",
    "\t- Types of API \n",
    "\t- Different Implementations\n",
    "\t\n",
    "\n",
    "### What is Type Hints or Type Annotations in Python?\n",
    "    - importance\n",
    "    - usages \n",
    "    - examples\n",
    " \n",
    "\n",
    "\n",
    "### APIS \n",
    "\n",
    "    How is an API Different From a Web Application?\n",
    "\n",
    "    What are REST APIs?\n",
    "\n",
    "    Difference between SOAP VS REST and REST vs GRAPHQL ?\n",
    "\n",
    "    What are different API Testing Tools?\n",
    "\n",
    "    How to consume apis in Python and different ways?\n"
   ]
  },
  {
   "cell_type": "code",
   "execution_count": 3,
   "id": "3ff2b7e2",
   "metadata": {},
   "outputs": [
    {
     "name": "stdout",
     "output_type": "stream",
     "text": [
      "{'results': [None, 'Action', 'Adult', 'Adventure', 'Animation', 'Biography', 'Comedy', 'Crime', 'Documentary', 'Drama', 'Family', 'Fantasy', 'Film-Noir', 'Game-Show', 'History', 'Horror', 'Music', 'Musical', 'Mystery', 'News', 'Reality-TV', 'Romance', 'Sci-Fi', 'Short', 'Sport', 'Talk-Show', 'Thriller', 'War', 'Western']}\n"
     ]
    }
   ],
   "source": [
    "import requests\n",
    "\n",
    "url = \"https://moviesdatabase.p.rapidapi.com/actors/random\"\n",
    "\n",
    "headers = {\n",
    "\t\"X-RapidAPI-Key\": \"bbc4e72c95msh764d7107571c9ccp132292jsne000b3620c23\",\n",
    "\t\"X-RapidAPI-Host\": \"moviesdatabase.p.rapidapi.com\"\n",
    "}\n",
    "\n",
    "response = requests.get(url, headers=headers)\n",
    "\n",
    "print(response.json())"
   ]
  },
  {
   "cell_type": "code",
   "execution_count": null,
   "id": "888ed5a2",
   "metadata": {},
   "outputs": [],
   "source": []
  }
 ],
 "metadata": {
  "kernelspec": {
   "display_name": "Python 3 (ipykernel)",
   "language": "python",
   "name": "python3"
  },
  "language_info": {
   "codemirror_mode": {
    "name": "ipython",
    "version": 3
   },
   "file_extension": ".py",
   "mimetype": "text/x-python",
   "name": "python",
   "nbconvert_exporter": "python",
   "pygments_lexer": "ipython3",
   "version": "3.10.9"
  }
 },
 "nbformat": 4,
 "nbformat_minor": 5
}
