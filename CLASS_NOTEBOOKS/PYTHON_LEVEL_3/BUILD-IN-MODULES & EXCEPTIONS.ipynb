{
 "cells": [
  {
   "cell_type": "markdown",
   "metadata": {},
   "source": [
    "### What is Modules? and Why we have to use?\n",
    "\n",
    "- A module , is Large Python file  , which provides function definitions to all methods\n",
    "- In python we have many built-in modules\n",
    "- In development environment we wont develop , everything from scratch  , we will need predefined methods, modules , to Faster our development process.\n",
    "\n",
    "- In modules , the functionality of different modules is coded , what we've to do is just import those when ever need.\n",
    "\n",
    "- It's saves a lot of development time & makes code structured and concise.\n",
    "\n",
    "\n",
    "#### Built-in modules are\n",
    "- os\n",
    "- sys\n",
    "- array\n",
    "- random\n",
    "- sqllite3\n",
    "- hashlib\n",
    "- pathlib\n",
    "- socket\n",
    "- datatime\n",
    "- requests\n",
    "\n",
    "- collections\n",
    "\n",
    "<a href = \"https://docs.python.org/3/py-modindex.html\"> Click on this , for all modules</a>"
   ]
  },
  {
   "cell_type": "code",
   "execution_count": 7,
   "metadata": {},
   "outputs": [],
   "source": [
    "import calendar\n",
    "import math"
   ]
  },
  {
   "cell_type": "code",
   "execution_count": 3,
   "metadata": {},
   "outputs": [
    {
     "name": "stdout",
     "output_type": "stream",
     "text": [
      "['Calendar', 'EPOCH', 'FRIDAY', 'February', 'HTMLCalendar', 'IllegalMonthError', 'IllegalWeekdayError', 'January', 'LocaleHTMLCalendar', 'LocaleTextCalendar', 'MONDAY', 'SATURDAY', 'SUNDAY', 'THURSDAY', 'TUESDAY', 'TextCalendar', 'WEDNESDAY', '_EPOCH_ORD', '__all__', '__builtins__', '__cached__', '__doc__', '__file__', '__loader__', '__name__', '__package__', '__spec__', '_colwidth', '_locale', '_localized_day', '_localized_month', '_monthlen', '_nextmonth', '_prevmonth', '_spacing', 'c', 'calendar', 'datetime', 'day_abbr', 'day_name', 'different_locale', 'error', 'firstweekday', 'format', 'formatstring', 'isleap', 'leapdays', 'main', 'mdays', 'month', 'month_abbr', 'month_name', 'monthcalendar', 'monthrange', 'prcal', 'prmonth', 'prweek', 'repeat', 'setfirstweekday', 'sys', 'timegm', 'week', 'weekday', 'weekheader']\n"
     ]
    }
   ],
   "source": [
    "print(dir(calendar))"
   ]
  },
  {
   "cell_type": "code",
   "execution_count": 8,
   "metadata": {},
   "outputs": [
    {
     "name": "stdout",
     "output_type": "stream",
     "text": [
      "True\n",
      "5\n"
     ]
    }
   ],
   "source": [
    "# dir(calendar)\n",
    "isLeapYear = calendar.isleap(2024)\n",
    "print(isLeapYear)\n",
    "\n",
    "result = math.gcd(10,5)\n",
    "print(result)"
   ]
  },
  {
   "cell_type": "code",
   "execution_count": null,
   "metadata": {},
   "outputs": [],
   "source": []
  },
  {
   "cell_type": "markdown",
   "metadata": {},
   "source": [
    "### User Defined Modules "
   ]
  },
  {
   "cell_type": "code",
   "execution_count": null,
   "metadata": {},
   "outputs": [],
   "source": []
  },
  {
   "cell_type": "code",
   "execution_count": 9,
   "metadata": {},
   "outputs": [],
   "source": [
    "import calculator #module \n",
    "\n",
    "#  module is a large python file which has user defined functions\n",
    "# import <module-name>"
   ]
  },
  {
   "cell_type": "code",
   "execution_count": 10,
   "metadata": {},
   "outputs": [
    {
     "data": {
      "text/plain": [
       "['__builtins__',\n",
       " '__cached__',\n",
       " '__doc__',\n",
       " '__file__',\n",
       " '__loader__',\n",
       " '__name__',\n",
       " '__package__',\n",
       " '__spec__',\n",
       " 'add',\n",
       " 'div',\n",
       " 'exp',\n",
       " 'modulus',\n",
       " 'mult',\n",
       " 'sub']"
      ]
     },
     "execution_count": 10,
     "metadata": {},
     "output_type": "execute_result"
    }
   ],
   "source": [
    "dir(calculator)"
   ]
  },
  {
   "cell_type": "code",
   "execution_count": 11,
   "metadata": {},
   "outputs": [
    {
     "name": "stdout",
     "output_type": "stream",
     "text": [
      "Enter Num1= 10\n",
      "Enter Num2 = 20\n",
      "30\n",
      "Enter Num1= 10\n",
      "Enter Num2= 3\n",
      "1\n"
     ]
    }
   ],
   "source": [
    "res = calculator.add()\n",
    "print(res)\n",
    "\n",
    "print(calculator.modulus())"
   ]
  },
  {
   "cell_type": "code",
   "execution_count": null,
   "metadata": {},
   "outputs": [],
   "source": []
  },
  {
   "cell_type": "code",
   "execution_count": null,
   "metadata": {},
   "outputs": [],
   "source": []
  },
  {
   "cell_type": "code",
   "execution_count": null,
   "metadata": {},
   "outputs": [],
   "source": [
    "# 1way\n",
    "import calculator \n",
    "print(calculator.add())"
   ]
  },
  {
   "cell_type": "code",
   "execution_count": null,
   "metadata": {},
   "outputs": [],
   "source": [
    "# 2way\n",
    "import calculator as cal\n",
    "print(cal.div())"
   ]
  },
  {
   "cell_type": "code",
   "execution_count": null,
   "metadata": {},
   "outputs": [],
   "source": [
    "# 3way\n",
    "from calculator import add, modulus\n",
    "print(add())"
   ]
  },
  {
   "cell_type": "code",
   "execution_count": null,
   "metadata": {},
   "outputs": [],
   "source": [
    "# 4way\n",
    "from calculator import *\n"
   ]
  },
  {
   "cell_type": "code",
   "execution_count": null,
   "metadata": {},
   "outputs": [],
   "source": []
  },
  {
   "cell_type": "markdown",
   "metadata": {},
   "source": [
    "### 4 ways  of importing"
   ]
  },
  {
   "cell_type": "code",
   "execution_count": null,
   "metadata": {},
   "outputs": [],
   "source": [
    "import math "
   ]
  },
  {
   "cell_type": "code",
   "execution_count": null,
   "metadata": {},
   "outputs": [],
   "source": [
    "#1. basic import usin module name\n",
    "# we have to invoke methods using module\n",
    "import math\n",
    "math.gcd() \n",
    "\n",
    "\n",
    "#2 import using module name , but with alias name \n",
    "# when we have long modules name\n",
    "import math as mt\n",
    "mt.gcd()\n",
    "\n",
    "# 3 importing only specific methods , it will save memory \n",
    "from math import pi , gcd\n",
    "gcd()\n",
    "\n",
    "\n",
    "# 4 code complexity\n",
    "from math import *\n",
    "gcd()\n"
   ]
  },
  {
   "cell_type": "markdown",
   "metadata": {},
   "source": [
    "### os\n",
    "\n",
    "The OS module in Python provides functions for interacting with the operating system. OS comes under Python’s standard utility modules. \n",
    "\n",
    "This module provides a portable way of using operating system-dependent functionality.\n",
    "\n",
    "The *os* and *os.path* modules include many functions to interact with the file system\n"
   ]
  },
  {
   "cell_type": "code",
   "execution_count": null,
   "metadata": {},
   "outputs": [],
   "source": [
    "\n"
   ]
  },
  {
   "cell_type": "code",
   "execution_count": 12,
   "metadata": {},
   "outputs": [
    {
     "name": "stdout",
     "output_type": "stream",
     "text": [
      "D:\\2023\\Python\\Learn-Python\\CLASS_NOTEBOOKS\\PYTHON_LEVEL_3\n"
     ]
    }
   ],
   "source": [
    "# importing os module \n",
    "import os \n",
    "      \n",
    "# Get the current working \n",
    "# directory (CWD)\n",
    "\n",
    "cworking = os.getcwd()\n",
    "\n",
    "print(cworking)"
   ]
  },
  {
   "cell_type": "code",
   "execution_count": 13,
   "metadata": {},
   "outputs": [
    {
     "name": "stdout",
     "output_type": "stream",
     "text": [
      "['DirEntry', 'F_OK', 'GenericAlias', 'Mapping', 'MutableMapping', 'O_APPEND', 'O_BINARY', 'O_CREAT', 'O_EXCL', 'O_NOINHERIT', 'O_RANDOM', 'O_RDONLY', 'O_RDWR', 'O_SEQUENTIAL', 'O_SHORT_LIVED', 'O_TEMPORARY', 'O_TEXT', 'O_TRUNC', 'O_WRONLY', 'P_DETACH', 'P_NOWAIT', 'P_NOWAITO', 'P_OVERLAY', 'P_WAIT', 'PathLike', 'R_OK', 'SEEK_CUR', 'SEEK_END', 'SEEK_SET', 'TMP_MAX', 'W_OK', 'X_OK', '_AddedDllDirectory', '_Environ', '__all__', '__builtins__', '__cached__', '__doc__', '__file__', '__loader__', '__name__', '__package__', '__spec__', '_check_methods', '_execvpe', '_exists', '_exit', '_fspath', '_get_exports_list', '_walk', '_wrap_close', 'abc', 'abort', 'access', 'add_dll_directory', 'altsep', 'chdir', 'chmod', 'close', 'closerange', 'cpu_count', 'curdir', 'defpath', 'device_encoding', 'devnull', 'dup', 'dup2', 'environ', 'error', 'execl', 'execle', 'execlp', 'execlpe', 'execv', 'execve', 'execvp', 'execvpe', 'extsep', 'fdopen', 'fsdecode', 'fsencode', 'fspath', 'fstat', 'fsync', 'ftruncate', 'get_exec_path', 'get_handle_inheritable', 'get_inheritable', 'get_terminal_size', 'getcwd', 'getcwdb', 'getenv', 'getlogin', 'getpid', 'getppid', 'isatty', 'kill', 'linesep', 'link', 'listdir', 'lseek', 'lstat', 'makedirs', 'mkdir', 'name', 'open', 'pardir', 'path', 'pathsep', 'pipe', 'popen', 'putenv', 'read', 'readlink', 'remove', 'removedirs', 'rename', 'renames', 'replace', 'rmdir', 'scandir', 'sep', 'set_handle_inheritable', 'set_inheritable', 'spawnl', 'spawnle', 'spawnv', 'spawnve', 'st', 'startfile', 'stat', 'stat_result', 'statvfs_result', 'strerror', 'supports_bytes_environ', 'supports_dir_fd', 'supports_effective_ids', 'supports_fd', 'supports_follow_symlinks', 'symlink', 'sys', 'system', 'terminal_size', 'times', 'times_result', 'truncate', 'umask', 'uname_result', 'unlink', 'unsetenv', 'urandom', 'utime', 'waitpid', 'waitstatus_to_exitcode', 'walk', 'write']\n"
     ]
    }
   ],
   "source": [
    "print(dir(os))"
   ]
  },
  {
   "cell_type": "code",
   "execution_count": 14,
   "metadata": {},
   "outputs": [],
   "source": [
    "#change the current working directory\n",
    "import os\n",
    "def current_path() -> str: \n",
    "    print(\"########## Current working directory ##############\") \n",
    "    print(os.getcwd()) "
   ]
  },
  {
   "cell_type": "code",
   "execution_count": 15,
   "metadata": {},
   "outputs": [
    {
     "name": "stdout",
     "output_type": "stream",
     "text": [
      "########## Current working directory ##############\n",
      "D:\\2023\\Python\\Learn-Python\\CLASS_NOTEBOOKS\\PYTHON_LEVEL_3\n"
     ]
    }
   ],
   "source": [
    "current_path()"
   ]
  },
  {
   "cell_type": "code",
   "execution_count": 16,
   "metadata": {},
   "outputs": [
    {
     "name": "stdout",
     "output_type": "stream",
     "text": [
      "########## Current working directory ##############\n",
      "D:\\2023\\Python\\Learn-Python\\CLASS_NOTEBOOKS\\PYTHON_LEVEL_3\n",
      "########## Current working directory ##############\n",
      "D:\\2023\\Python\\Learn-Python\\CLASS_PY_FILES\n"
     ]
    }
   ],
   "source": [
    "    \n",
    "current_path() \n",
    " \n",
    "os.chdir(r\"D:\\2023\\Python\\Learn-Python\\CLASS_PY_FILES\") #raw string\n",
    "\n",
    "current_path() "
   ]
  },
  {
   "cell_type": "code",
   "execution_count": 17,
   "metadata": {},
   "outputs": [
    {
     "name": "stdout",
     "output_type": "stream",
     "text": [
      "########## Current working directory ##############\n",
      "D:\\2023\\Python\\Learn-Python\\CLASS_PY_FILES\n"
     ]
    }
   ],
   "source": [
    "current_path()"
   ]
  },
  {
   "cell_type": "code",
   "execution_count": 18,
   "metadata": {},
   "outputs": [
    {
     "data": {
      "text/plain": [
       "['calculator',\n",
       " 'firstProgram.py',\n",
       " 'recuExample3.py',\n",
       " 'recurExample.py',\n",
       " 'recurExample2.py',\n",
       " 'whileExample.py']"
      ]
     },
     "execution_count": 18,
     "metadata": {},
     "output_type": "execute_result"
    }
   ],
   "source": [
    "#list all the files\n",
    "os.listdir()"
   ]
  },
  {
   "cell_type": "code",
   "execution_count": 22,
   "metadata": {},
   "outputs": [
    {
     "data": {
      "text/plain": [
       "'D:\\\\2023\\\\Python\\\\Learn-Python\\\\CLASS_PY_FILES\\\\OsModule'"
      ]
     },
     "execution_count": 22,
     "metadata": {},
     "output_type": "execute_result"
    }
   ],
   "source": []
  },
  {
   "cell_type": "code",
   "execution_count": 24,
   "metadata": {},
   "outputs": [
    {
     "name": "stdout",
     "output_type": "stream",
     "text": [
      "D:\\2023\\Python\\Learn-Python\\CLASS_PY_FILES\\OctoberSession\n",
      "Directory OctoberSession created\n",
      "########## Current working directory ##############\n",
      "D:\\2023\\Python\\Learn-Python\\CLASS_PY_FILES\n"
     ]
    }
   ],
   "source": [
    "#create a directory\n",
    "\n",
    "# Directory \n",
    "directory = \"OctoberSession\"\n",
    "\n",
    "# Parent Directory path \n",
    "parent_dir = os.getcwd()\n",
    "\n",
    "\n",
    "# Path \n",
    "path = os.path.join(parent_dir, directory)\n",
    "\n",
    "print(path)\n",
    "\n",
    "os.mkdir(path) \n",
    "\n",
    "print(f\"Directory {directory} created\")\n",
    "current_path()"
   ]
  },
  {
   "cell_type": "code",
   "execution_count": 25,
   "metadata": {},
   "outputs": [
    {
     "data": {
      "text/plain": [
       "['calculator',\n",
       " 'firstProgram.py',\n",
       " 'OctoberSession',\n",
       " 'OsModule',\n",
       " 'recuExample3.py',\n",
       " 'recurExample.py',\n",
       " 'recurExample2.py',\n",
       " 'whileExample.py']"
      ]
     },
     "execution_count": 25,
     "metadata": {},
     "output_type": "execute_result"
    }
   ],
   "source": [
    "#check it\n",
    "os.listdir()"
   ]
  },
  {
   "cell_type": "markdown",
   "metadata": {},
   "source": [
    "### Tricky questions\n",
    "\n",
    "- Create a N numbers of floders "
   ]
  },
  {
   "cell_type": "code",
   "execution_count": 30,
   "metadata": {},
   "outputs": [
    {
     "name": "stdout",
     "output_type": "stream",
     "text": [
      "folder is created: floder-1\n",
      "folder is created: floder-2\n",
      "folder is created: floder-3\n",
      "folder is created: floder-4\n",
      "folder is created: floder-5\n",
      "folder is created: floder-6\n",
      "folder is created: floder-7\n",
      "folder is created: floder-8\n",
      "folder is created: floder-9\n",
      "folder is created: floder-10\n"
     ]
    }
   ],
   "source": [
    "def create_N_NumbersOfFolders(n):\n",
    "    for i in range(1,n+1):\n",
    "        folder_name = 'floder-' + str(i)\n",
    "        parent_path = os.getcwd() \n",
    "        file_path = os.path.join(parent_path, folder_name)\n",
    "        os.mkdir(file_path)\n",
    "        print(f'folder is created: {folder_name}')\n",
    "\n",
    "create_N_NumbersOfFolders(10)"
   ]
  },
  {
   "cell_type": "code",
   "execution_count": 31,
   "metadata": {},
   "outputs": [
    {
     "name": "stdout",
     "output_type": "stream",
     "text": [
      "folder is deleted: floder-1\n",
      "folder is deleted: floder-2\n",
      "folder is deleted: floder-3\n",
      "folder is deleted: floder-4\n",
      "folder is deleted: floder-5\n",
      "folder is deleted: floder-6\n",
      "folder is deleted: floder-7\n",
      "folder is deleted: floder-8\n",
      "folder is deleted: floder-9\n",
      "folder is deleted: floder-10\n"
     ]
    }
   ],
   "source": [
    "# os.rmdir()\n",
    "\n",
    "# os.rmdir() method in Python is used to remove or delete a empty directory. \n",
    "# OSError will be raised if the specified path is not an empty directory.\n",
    "\n",
    "\n",
    "def delete_n_of_floders(n):\n",
    "    for i in range(1,n+1):\n",
    "        folder_name = 'floder-' + str(i)\n",
    "        parent_path = os.getcwd() \n",
    "        file_path = os.path.join(parent_path, folder_name)\n",
    "        os.rmdir(file_path)\n",
    "        print(f'folder is deleted: {folder_name}')\n",
    "        \n",
    "        \n",
    "        \n",
    "delete_n_of_floders(10) "
   ]
  },
  {
   "cell_type": "code",
   "execution_count": null,
   "metadata": {},
   "outputs": [],
   "source": []
  },
  {
   "cell_type": "markdown",
   "metadata": {},
   "source": [
    "### creation of files\n"
   ]
  },
  {
   "cell_type": "code",
   "execution_count": 33,
   "metadata": {},
   "outputs": [
    {
     "name": "stdout",
     "output_type": "stream",
     "text": [
      "########## Current working directory ##############\n",
      "D:\\2023\\Python\\Learn-Python\\CLASS_PY_FILES\n",
      "########## Current working directory ##############\n",
      "D:\\2023\\Python\\Learn-Python\\CLASS_PY_FILES\\OsModule\n"
     ]
    }
   ],
   "source": [
    "current_path()\n",
    "os.chdir('./OsModule')\n",
    "current_path()"
   ]
  },
  {
   "cell_type": "code",
   "execution_count": 34,
   "metadata": {},
   "outputs": [
    {
     "data": {
      "text/plain": [
       "[]"
      ]
     },
     "execution_count": 34,
     "metadata": {},
     "output_type": "execute_result"
    }
   ],
   "source": [
    "os.listdir()"
   ]
  },
  {
   "cell_type": "code",
   "execution_count": 43,
   "metadata": {},
   "outputs": [],
   "source": [
    "#creates a file \n",
    "f = open('test.txt', mode = 'a') # creating file with append\n",
    "\n",
    "f.write(\"hello world python\\n\")\n",
    "f.write(\"discussing built-in modules\")\n",
    "f.close()"
   ]
  },
  {
   "cell_type": "code",
   "execution_count": 39,
   "metadata": {},
   "outputs": [],
   "source": [
    "f = open('addition.py', mode = 'w') # creating file with append\n",
    "\n",
    "f.write(\"num1 = 10\\n\")\n",
    "f.write(\"num2=20\\n\")\n",
    "f.write(\"print(num1+num2)\\n\")\n",
    "f.close()"
   ]
  },
  {
   "cell_type": "code",
   "execution_count": 37,
   "metadata": {},
   "outputs": [
    {
     "name": "stdout",
     "output_type": "stream",
     "text": [
      "hello world python\n",
      "discussing built-in modules\n"
     ]
    }
   ],
   "source": [
    "#  read the file \n",
    "fr = open('demo.txt', mode = 'r')\n",
    "\n",
    "print(fr.read())\n"
   ]
  },
  {
   "cell_type": "code",
   "execution_count": null,
   "metadata": {},
   "outputs": [],
   "source": []
  },
  {
   "cell_type": "code",
   "execution_count": null,
   "metadata": {},
   "outputs": [],
   "source": []
  },
  {
   "cell_type": "code",
   "execution_count": null,
   "metadata": {},
   "outputs": [],
   "source": []
  },
  {
   "cell_type": "code",
   "execution_count": null,
   "metadata": {},
   "outputs": [],
   "source": []
  },
  {
   "cell_type": "code",
   "execution_count": 44,
   "metadata": {},
   "outputs": [
    {
     "name": "stdout",
     "output_type": "stream",
     "text": [
      "path D:\\2023\\Python\\Learn-Python\\CLASS_PY_FILES\\OsModule\\test.txt\n",
      "Deleted Successfully\n",
      "['addition.py', 'demo.txt']\n"
     ]
    }
   ],
   "source": [
    "#os.remove()\n",
    "# os.remove() method in Python is used to remove or delete a file path. \n",
    "# This method can not remove or delete a directory. If the specified path is a directory then OSError will be raised by the method.\n",
    "\n",
    "fileName = 'test.txt'\n",
    "\n",
    "# File location \n",
    "location = os.getcwd()\n",
    "\n",
    "path = os.path.join(location, fileName) \n",
    "\n",
    "print(\"path\" ,path)\n",
    "\n",
    "\n",
    "os.remove(path)  #\n",
    "print(\"Deleted Successfully\")\n",
    "\n",
    "print(os.listdir())"
   ]
  },
  {
   "cell_type": "code",
   "execution_count": 45,
   "metadata": {},
   "outputs": [
    {
     "name": "stdout",
     "output_type": "stream",
     "text": [
      "file not found\n"
     ]
    }
   ],
   "source": [
    "\n",
    "def deleted_File(file_name):\n",
    "    try:\n",
    "        p_dir = os.getcwd()\n",
    "        path = os.path.join(p_dir, file_name)\n",
    "        os.remove(path)\n",
    "        print(os.listdir())\n",
    "    except Exception as e:\n",
    "        print(\"file not found\")\n",
    "    else:\n",
    "        print(\"deletion completed\")\n",
    "\n",
    "deleted_File('demo.txt')"
   ]
  },
  {
   "cell_type": "code",
   "execution_count": 47,
   "metadata": {},
   "outputs": [
    {
     "data": {
      "text/plain": [
       "['addition.py', 'demo.txt', 'test1', 'test2']"
      ]
     },
     "execution_count": 47,
     "metadata": {},
     "output_type": "execute_result"
    }
   ],
   "source": [
    "def listFiles():\n",
    "    return os.listdir()\n",
    "\n",
    "listFiles()"
   ]
  },
  {
   "cell_type": "code",
   "execution_count": null,
   "metadata": {},
   "outputs": [],
   "source": [
    "def changeDir(dir):\n",
    "    os.chdir(\"+dir)\n",
    "    return os.getcwd()\n"
   ]
  },
  {
   "cell_type": "code",
   "execution_count": null,
   "metadata": {},
   "outputs": [],
   "source": [
    "# os.rmdir()\n",
    "\n",
    "# os.rmdir() method in Python is used to remove or delete a empty directory. \n",
    "# OSError will be raised if the specified path is not an empty directory.\n",
    "\n",
    "\n",
    "def deleted_File(file_name):\n",
    "    p_dir = os.getcwd()\n",
    "    print(p_dir, file_name)\n",
    "    \n",
    "# Directory xname \n",
    "directory = \"PythonDemo\"\n",
    "      \n",
    "# Parent Directory \n",
    "parent = os.getcwd()\n",
    "\n",
    "print(parent)\n",
    "      \n",
    "# Path \n",
    "path = os.path.join(parent, directory) \n",
    "      \n",
    "# Remove the Directory \n",
    "\n",
    "\n",
    "os.rmdir(path)\n",
    "\n",
    "listFiles()\n"
   ]
  },
  {
   "cell_type": "code",
   "execution_count": null,
   "metadata": {},
   "outputs": [],
   "source": [
    "# os.getcwd()\n",
    "# os.listdir()\n",
    "# os.mkdir()\n",
    "# os.chdir()\n",
    "# os.rmdir()\n",
    "# os.remove()\n",
    "# os.path.join(path)\n",
    "# open()"
   ]
  },
  {
   "cell_type": "code",
   "execution_count": null,
   "metadata": {},
   "outputs": [],
   "source": []
  },
  {
   "cell_type": "code",
   "execution_count": 54,
   "metadata": {},
   "outputs": [
    {
     "name": "stdout",
     "output_type": "stream",
     "text": [
      "D:\\2023\\Python\\Learn-Python\\CLASS_PY_FILES\\OsModule\n",
      "D:\\2023\\Python\\Learn-Python\\CLASS_PY_FILES\\OsModule\\TejaStore\n"
     ]
    }
   ],
   "source": [
    "currentPath = os.getcwd()\n",
    "print(currentPath)\n",
    "\n",
    "floderName = \"TejaStore\"\n",
    "\n",
    "filePath = os.path.join(currentPath,floderName)\n",
    "print(filePath)\n",
    "os.mkdir(filePath)"
   ]
  },
  {
   "cell_type": "code",
   "execution_count": 55,
   "metadata": {},
   "outputs": [],
   "source": [
    "os.rmdir(filePath)"
   ]
  },
  {
   "cell_type": "code",
   "execution_count": 56,
   "metadata": {},
   "outputs": [
    {
     "data": {
      "text/plain": [
       "'nt'"
      ]
     },
     "execution_count": 56,
     "metadata": {},
     "output_type": "execute_result"
    }
   ],
   "source": [
    "#os.name\n",
    "os.name"
   ]
  },
  {
   "cell_type": "code",
   "execution_count": null,
   "metadata": {},
   "outputs": [],
   "source": []
  },
  {
   "cell_type": "markdown",
   "metadata": {},
   "source": [
    "### platform"
   ]
  },
  {
   "cell_type": "code",
   "execution_count": 58,
   "metadata": {},
   "outputs": [
    {
     "data": {
      "text/plain": [
       "['_Processor',\n",
       " '_WIN32_CLIENT_RELEASES',\n",
       " '_WIN32_SERVER_RELEASES',\n",
       " '__builtins__',\n",
       " '__cached__',\n",
       " '__copyright__',\n",
       " '__doc__',\n",
       " '__file__',\n",
       " '__loader__',\n",
       " '__name__',\n",
       " '__package__',\n",
       " '__spec__',\n",
       " '__version__',\n",
       " '_comparable_version',\n",
       " '_component_re',\n",
       " '_default_architecture',\n",
       " '_follow_symlinks',\n",
       " '_get_machine_win32',\n",
       " '_ironpython26_sys_version_parser',\n",
       " '_ironpython_sys_version_parser',\n",
       " '_java_getprop',\n",
       " '_libc_search',\n",
       " '_mac_ver_xml',\n",
       " '_node',\n",
       " '_norm_version',\n",
       " '_os_release_cache',\n",
       " '_os_release_candidates',\n",
       " '_os_release_line',\n",
       " '_os_release_unescape',\n",
       " '_parse_os_release',\n",
       " '_platform',\n",
       " '_platform_cache',\n",
       " '_pypy_sys_version_parser',\n",
       " '_sys_version',\n",
       " '_sys_version_cache',\n",
       " '_sys_version_parser',\n",
       " '_syscmd_file',\n",
       " '_syscmd_ver',\n",
       " '_uname_cache',\n",
       " '_unknown_as_blank',\n",
       " '_ver_output',\n",
       " '_ver_stages',\n",
       " 'architecture',\n",
       " 'collections',\n",
       " 'freedesktop_os_release',\n",
       " 'functools',\n",
       " 'itertools',\n",
       " 'java_ver',\n",
       " 'libc_ver',\n",
       " 'mac_ver',\n",
       " 'machine',\n",
       " 'node',\n",
       " 'os',\n",
       " 'platform',\n",
       " 'processor',\n",
       " 'python_branch',\n",
       " 'python_build',\n",
       " 'python_compiler',\n",
       " 'python_implementation',\n",
       " 'python_revision',\n",
       " 'python_version',\n",
       " 'python_version_tuple',\n",
       " 're',\n",
       " 'release',\n",
       " 'subprocess',\n",
       " 'sys',\n",
       " 'system',\n",
       " 'system_alias',\n",
       " 'uname',\n",
       " 'uname_result',\n",
       " 'version',\n",
       " 'win32_edition',\n",
       " 'win32_is_iot',\n",
       " 'win32_ver']"
      ]
     },
     "execution_count": 58,
     "metadata": {},
     "output_type": "execute_result"
    }
   ],
   "source": [
    "import platform\n",
    "dir(platform)"
   ]
  },
  {
   "cell_type": "code",
   "execution_count": 59,
   "metadata": {},
   "outputs": [
    {
     "data": {
      "text/plain": [
       "'Windows'"
      ]
     },
     "execution_count": 59,
     "metadata": {},
     "output_type": "execute_result"
    }
   ],
   "source": [
    "platform.system()"
   ]
  },
  {
   "cell_type": "code",
   "execution_count": 60,
   "metadata": {},
   "outputs": [
    {
     "data": {
      "text/plain": [
       "'10.0.22621'"
      ]
     },
     "execution_count": 60,
     "metadata": {},
     "output_type": "execute_result"
    }
   ],
   "source": [
    "platform.version()"
   ]
  },
  {
   "cell_type": "code",
   "execution_count": 61,
   "metadata": {},
   "outputs": [
    {
     "data": {
      "text/plain": [
       "'10'"
      ]
     },
     "execution_count": 61,
     "metadata": {},
     "output_type": "execute_result"
    }
   ],
   "source": [
    "platform.release()"
   ]
  },
  {
   "cell_type": "code",
   "execution_count": 62,
   "metadata": {},
   "outputs": [
    {
     "data": {
      "text/plain": [
       "uname_result(system='Windows', node='Groot', release='10', version='10.0.22621', machine='AMD64')"
      ]
     },
     "execution_count": 62,
     "metadata": {},
     "output_type": "execute_result"
    }
   ],
   "source": [
    "platform.uname()"
   ]
  },
  {
   "cell_type": "code",
   "execution_count": 63,
   "metadata": {},
   "outputs": [
    {
     "data": {
      "text/plain": [
       "<module 'os' from 'C:\\\\Users\\\\akraj\\\\anaconda3\\\\lib\\\\os.py'>"
      ]
     },
     "execution_count": 63,
     "metadata": {},
     "output_type": "execute_result"
    }
   ],
   "source": [
    "platform.os"
   ]
  },
  {
   "cell_type": "code",
   "execution_count": 64,
   "metadata": {},
   "outputs": [
    {
     "name": "stdout",
     "output_type": "stream",
     "text": [
      "########## Current working directory ##############\n",
      "D:\\2023\\Python\\Learn-Python\\CLASS_PY_FILES\\OsModule\n"
     ]
    }
   ],
   "source": [
    "current_path()"
   ]
  },
  {
   "cell_type": "code",
   "execution_count": 65,
   "metadata": {},
   "outputs": [
    {
     "name": "stdout",
     "output_type": "stream",
     "text": [
      "Okay Success Renamed\n"
     ]
    }
   ],
   "source": [
    "# os.rename():\n",
    "\n",
    "# import os\n",
    "fd =\"addition.py\"\n",
    "os.rename(fd,\"add.py\")\n",
    "# os.rename(fd,'New.txt')\n",
    "print(\"Okay Success Renamed\")"
   ]
  },
  {
   "cell_type": "code",
   "execution_count": 66,
   "metadata": {},
   "outputs": [
    {
     "data": {
      "text/plain": [
       "'C:\\\\Users\\\\akraj\\\\anaconda3;C:\\\\Users\\\\akraj\\\\anaconda3\\\\Library\\\\mingw-w64\\\\bin;C:\\\\Users\\\\akraj\\\\anaconda3\\\\Library\\\\usr\\\\bin;C:\\\\Users\\\\akraj\\\\anaconda3\\\\Library\\\\bin;C:\\\\Users\\\\akraj\\\\anaconda3\\\\Scripts;C:\\\\Users\\\\akraj\\\\anaconda3\\\\bin;C:\\\\Users\\\\akraj\\\\anaconda3\\\\condabin;C:\\\\WINDOWS\\\\system32;C:\\\\WINDOWS;C:\\\\WINDOWS\\\\System32\\\\Wbem;C:\\\\WINDOWS\\\\System32\\\\WindowsPowerShell\\\\v1.0;C:\\\\WINDOWS\\\\System32\\\\OpenSSH;C:\\\\Program Files\\\\nodejs;C:\\\\Program Files\\\\Git\\\\cmd;D:\\\\Java\\\\Java-8\\\\bin;C:\\\\Users\\\\akraj\\\\.jdks\\\\corretto-17.0.7\\\\bin;C:\\\\Program Files\\\\nodejs;D:\\\\Java\\\\gradle-8.0.2\\\\bin;C:\\\\Program Files\\\\MongoDB\\\\Server\\\\6.0\\\\bin;D:\\\\DB\\\\mongosh-1.8.2-win32-x64\\\\bin;C:\\\\Program Files\\\\JetBrains\\\\IntelliJ IDEA Community Edition 2023.1\\\\bin;C:\\\\Program Files\\\\MySQL\\\\MySQL Server 8.0\\\\bin;C:\\\\Users\\\\akraj\\\\AppData\\\\Local\\\\Programs\\\\Python\\\\Python311\\\\Scripts;C:\\\\Users\\\\akraj\\\\AppData\\\\Local\\\\Programs\\\\Python\\\\Python311;C:\\\\Program Files (x86)\\\\Groovy\\\\bin;C:\\\\Program Files (x86)\\\\Groovy\\\\bin;C:\\\\MinGW\\\\bin;C:\\\\Program Files\\\\MySQL\\\\MySQL Shell 8.0\\\\bin;C:\\\\Users\\\\akraj\\\\AppData\\\\Local\\\\Microsoft\\\\WindowsApps;C:\\\\Users\\\\akraj\\\\AppData\\\\Roaming\\\\npm;C:\\\\Users\\\\akraj\\\\AppData\\\\Local\\\\Programs\\\\Microsoft VS Code\\\\bin;C:\\\\Program Files\\\\MySQL\\\\MySQL Server 8.0\\\\bin;C:\\\\Users\\\\akraj\\\\.jdks\\\\corretto-17.0.7\\\\bin\\\\mysql-connector-j-8.1.0.jar;.;C:\\\\Program Files\\\\JetBrains\\\\PyCharm 2023.2.3\\\\bin;.'"
      ]
     },
     "execution_count": 66,
     "metadata": {},
     "output_type": "execute_result"
    }
   ],
   "source": [
    "#get the environmental variable\n",
    "import os\n",
    "os.getenv(\"Path\")"
   ]
  },
  {
   "cell_type": "code",
   "execution_count": 72,
   "metadata": {},
   "outputs": [
    {
     "name": "stdout",
     "output_type": "stream",
     "text": [
      "akraj\n"
     ]
    }
   ],
   "source": [
    "print(os.getenv(\"USERNAME\"))"
   ]
  },
  {
   "cell_type": "code",
   "execution_count": 73,
   "metadata": {},
   "outputs": [
    {
     "data": {
      "text/plain": [
       "'akraj'"
      ]
     },
     "execution_count": 73,
     "metadata": {},
     "output_type": "execute_result"
    }
   ],
   "source": [
    "os.getlogin()"
   ]
  },
  {
   "cell_type": "code",
   "execution_count": null,
   "metadata": {},
   "outputs": [],
   "source": []
  },
  {
   "cell_type": "code",
   "execution_count": null,
   "metadata": {},
   "outputs": [],
   "source": []
  },
  {
   "cell_type": "markdown",
   "metadata": {},
   "source": [
    "### sys\n",
    "\n",
    "This module provides access to some variables used or maintained by the interpreter and to functions that interact strongly with the interpreter. It is always available"
   ]
  },
  {
   "cell_type": "code",
   "execution_count": null,
   "metadata": {},
   "outputs": [],
   "source": []
  },
  {
   "cell_type": "code",
   "execution_count": null,
   "metadata": {},
   "outputs": [],
   "source": []
  },
  {
   "cell_type": "code",
   "execution_count": 74,
   "metadata": {},
   "outputs": [],
   "source": [
    "import sys"
   ]
  },
  {
   "cell_type": "code",
   "execution_count": 75,
   "metadata": {},
   "outputs": [
    {
     "data": {
      "text/plain": [
       "['__breakpointhook__',\n",
       " '__displayhook__',\n",
       " '__doc__',\n",
       " '__excepthook__',\n",
       " '__interactivehook__',\n",
       " '__loader__',\n",
       " '__name__',\n",
       " '__package__',\n",
       " '__spec__',\n",
       " '__stderr__',\n",
       " '__stdin__',\n",
       " '__stdout__',\n",
       " '__unraisablehook__',\n",
       " '_base_executable',\n",
       " '_clear_type_cache',\n",
       " '_current_exceptions',\n",
       " '_current_frames',\n",
       " '_deactivate_opcache',\n",
       " '_debugmallocstats',\n",
       " '_enablelegacywindowsfsencoding',\n",
       " '_framework',\n",
       " '_getframe',\n",
       " '_git',\n",
       " '_home',\n",
       " '_xoptions',\n",
       " 'addaudithook',\n",
       " 'api_version',\n",
       " 'argv',\n",
       " 'audit',\n",
       " 'base_exec_prefix',\n",
       " 'base_prefix',\n",
       " 'breakpointhook',\n",
       " 'builtin_module_names',\n",
       " 'byteorder',\n",
       " 'call_tracing',\n",
       " 'copyright',\n",
       " 'displayhook',\n",
       " 'dllhandle',\n",
       " 'dont_write_bytecode',\n",
       " 'exc_info',\n",
       " 'excepthook',\n",
       " 'exec_prefix',\n",
       " 'executable',\n",
       " 'exit',\n",
       " 'flags',\n",
       " 'float_info',\n",
       " 'float_repr_style',\n",
       " 'get_asyncgen_hooks',\n",
       " 'get_coroutine_origin_tracking_depth',\n",
       " 'get_int_max_str_digits',\n",
       " 'getallocatedblocks',\n",
       " 'getdefaultencoding',\n",
       " 'getfilesystemencodeerrors',\n",
       " 'getfilesystemencoding',\n",
       " 'getprofile',\n",
       " 'getrecursionlimit',\n",
       " 'getrefcount',\n",
       " 'getsizeof',\n",
       " 'getswitchinterval',\n",
       " 'gettrace',\n",
       " 'getwindowsversion',\n",
       " 'hash_info',\n",
       " 'hexversion',\n",
       " 'implementation',\n",
       " 'int_info',\n",
       " 'intern',\n",
       " 'is_finalizing',\n",
       " 'last_traceback',\n",
       " 'last_type',\n",
       " 'last_value',\n",
       " 'maxsize',\n",
       " 'maxunicode',\n",
       " 'meta_path',\n",
       " 'modules',\n",
       " 'orig_argv',\n",
       " 'path',\n",
       " 'path_hooks',\n",
       " 'path_importer_cache',\n",
       " 'platform',\n",
       " 'platlibdir',\n",
       " 'prefix',\n",
       " 'ps1',\n",
       " 'ps2',\n",
       " 'ps3',\n",
       " 'pycache_prefix',\n",
       " 'set_asyncgen_hooks',\n",
       " 'set_coroutine_origin_tracking_depth',\n",
       " 'set_int_max_str_digits',\n",
       " 'setprofile',\n",
       " 'setrecursionlimit',\n",
       " 'setswitchinterval',\n",
       " 'settrace',\n",
       " 'stderr',\n",
       " 'stdin',\n",
       " 'stdlib_module_names',\n",
       " 'stdout',\n",
       " 'thread_info',\n",
       " 'unraisablehook',\n",
       " 'version',\n",
       " 'version_info',\n",
       " 'warnoptions',\n",
       " 'winver']"
      ]
     },
     "execution_count": 75,
     "metadata": {},
     "output_type": "execute_result"
    }
   ],
   "source": [
    "dir(sys)"
   ]
  },
  {
   "cell_type": "code",
   "execution_count": 76,
   "metadata": {},
   "outputs": [
    {
     "ename": "AttributeError",
     "evalue": "module 'sys' has no attribute '__version__'",
     "output_type": "error",
     "traceback": [
      "\u001b[1;31m---------------------------------------------------------------------------\u001b[0m",
      "\u001b[1;31mAttributeError\u001b[0m                            Traceback (most recent call last)",
      "Cell \u001b[1;32mIn[76], line 1\u001b[0m\n\u001b[1;32m----> 1\u001b[0m \u001b[38;5;28mprint\u001b[39m(\u001b[43msys\u001b[49m\u001b[38;5;241;43m.\u001b[39;49m\u001b[43m__version__\u001b[49m)\n",
      "\u001b[1;31mAttributeError\u001b[0m: module 'sys' has no attribute '__version__'"
     ]
    }
   ],
   "source": []
  },
  {
   "cell_type": "code",
   "execution_count": 81,
   "metadata": {},
   "outputs": [
    {
     "name": "stdout",
     "output_type": "stream",
     "text": [
      "3.10\n"
     ]
    }
   ],
   "source": [
    "#it prints the version\n",
    "# A module can contains\n",
    "#    - methods -> ()\n",
    "#    - attribute\n",
    "#   - submodule\n",
    "    \n",
    "    \n",
    "import sys\n",
    "print(sys.winver)\n"
   ]
  },
  {
   "cell_type": "code",
   "execution_count": 78,
   "metadata": {},
   "outputs": [
    {
     "data": {
      "text/plain": [
       "'win32'"
      ]
     },
     "execution_count": 78,
     "metadata": {},
     "output_type": "execute_result"
    }
   ],
   "source": [
    "#it prints the platform\n",
    "sys.platform"
   ]
  },
  {
   "cell_type": "code",
   "execution_count": 79,
   "metadata": {},
   "outputs": [
    {
     "name": "stdout",
     "output_type": "stream",
     "text": [
      "C:\\Users\\akraj\\anaconda3\\python.exe\n"
     ]
    }
   ],
   "source": [
    "#returns the path of the interpreter \n",
    "print(sys.executable)"
   ]
  },
  {
   "cell_type": "code",
   "execution_count": null,
   "metadata": {},
   "outputs": [],
   "source": [
    "a = [10,2030,102,102,100,102,20,300,209920]\n",
    "\n",
    "b = (10,1029,1029,101,12,12,1,12,1,2,1,2,3,1,1,21,1,2,)\n",
    "\n",
    "c = tuple(a)\n",
    "\n",
    "\n",
    "int_var = 1\n",
    "float_var = 10.22\n",
    "str1_var= \"Python Session\"\n",
    "\n",
    "print(sys.getsizeof(a))\n",
    "print(sys.getsizeof(b))\n",
    "print(sys.getsizeof(c))\n",
    "print(sys.getsizeof(int_var))\n",
    "print(sys.getsizeof(float_var))\n",
    "\n",
    "print(sys.getsizeof(str1_var))"
   ]
  },
  {
   "cell_type": "code",
   "execution_count": null,
   "metadata": {},
   "outputs": [],
   "source": [
    "sys.path"
   ]
  },
  {
   "cell_type": "code",
   "execution_count": null,
   "metadata": {},
   "outputs": [],
   "source": [
    "# sys.modules\n",
    "# sys.version\n",
    "# sys.winver\n",
    "# sys.executable\n",
    "# sys.getsizeof(var)\n",
    "# sys.path\n"
   ]
  },
  {
   "cell_type": "code",
   "execution_count": null,
   "metadata": {},
   "outputs": [],
   "source": [
    "# LIST \n",
    "# - SEQUENCE , INDEX , COLLECTIONS , HETROGENOUS\n",
    "# - MUTABLE - (we change data at loc's)\n",
    "\n",
    "\n",
    "lst = [10,10.5,\"kumar\",\"hello\",10+2j]\n",
    "print(lst)"
   ]
  },
  {
   "cell_type": "markdown",
   "metadata": {},
   "source": [
    "### array\n",
    "This module defines an object type which can compactly represent an array of basic values: characters, integers, floating point numbers. \n",
    "\n",
    "Arrays are sequence types and behave very much like lists, except that the type of objects stored in them is constrained. \n",
    "\n",
    "The type is specified at object creation time by using a type code, which is a single character. The following type codes are defined:"
   ]
  },
  {
   "cell_type": "code",
   "execution_count": null,
   "metadata": {},
   "outputs": [],
   "source": []
  },
  {
   "cell_type": "code",
   "execution_count": null,
   "metadata": {},
   "outputs": [],
   "source": [
    "# marks = [10,20,30,40] -> array"
   ]
  },
  {
   "cell_type": "code",
   "execution_count": null,
   "metadata": {},
   "outputs": [],
   "source": [
    "import array as arr"
   ]
  },
  {
   "cell_type": "code",
   "execution_count": null,
   "metadata": {},
   "outputs": [],
   "source": [
    "  Type code   C Type             Minimum size in bytes\n",
    "    'b'         signed integer     1\n",
    "    'B'         unsigned integer   1\n",
    "    'u'         Unicode character  2 (see note)\n",
    "    'h'         signed integer     2\n",
    "    'H'         unsigned integer   2\n",
    "    'i'         signed integer     2\n",
    "    'I'         unsigned integer   2\n",
    "    'l'         signed integer     4\n",
    "    'L'         unsigned integer   4\n",
    "    'q'         signed integer     8 (see note)\n",
    "    'Q'         unsigned integer   8 (see note)\n",
    "    'f'         floating point     4\n",
    "    'd'         floating point     8"
   ]
  },
  {
   "cell_type": "code",
   "execution_count": null,
   "metadata": {},
   "outputs": [],
   "source": [
    "# importing \"array\" for array creations\n",
    "import array as arr\n",
    "\n",
    "# array.array(typecode,data)\n",
    "\n",
    "# creating an array with integer type\n",
    "a = arr.array('i', ( -1, -2 , 1, 2, 3))\n",
    "\n",
    "print(a)\n",
    "print(type(a))"
   ]
  },
  {
   "cell_type": "code",
   "execution_count": null,
   "metadata": {},
   "outputs": [],
   "source": [
    "a = arr.array('I', (1, 2, 3,4))\n",
    "\n",
    "print(a)"
   ]
  },
  {
   "cell_type": "code",
   "execution_count": null,
   "metadata": {},
   "outputs": [],
   "source": [
    "print(\"hello kumar\".encode())"
   ]
  },
  {
   "cell_type": "code",
   "execution_count": null,
   "metadata": {
    "scrolled": false
   },
   "outputs": [],
   "source": [
    "x = arr.array('B')\n",
    "print(x)\n",
    "\n",
    "x.frombytes('abc ABC'.encode()) # CONVERTING STRING TO BYTES\n",
    "print(x)\n",
    "\n",
    "# for i in x:\n",
    "#     print(i)"
   ]
  },
  {
   "cell_type": "code",
   "execution_count": null,
   "metadata": {},
   "outputs": [],
   "source": []
  },
  {
   "cell_type": "code",
   "execution_count": null,
   "metadata": {},
   "outputs": [],
   "source": [
    "# creating an array with float type\n",
    "b = arr.array('d', [2.5, 3, 3.3, 1])\n",
    "  \n",
    "\n",
    "for i in range (len(b)):\n",
    "    print (b[i], end =\" \")"
   ]
  },
  {
   "cell_type": "code",
   "execution_count": null,
   "metadata": {},
   "outputs": [],
   "source": [
    "#accesing\n",
    "\n",
    "print(b[2]) #forward\n",
    "\n",
    "print(b[-2]) #backward"
   ]
  },
  {
   "cell_type": "code",
   "execution_count": null,
   "metadata": {},
   "outputs": [],
   "source": [
    "print(b[4])"
   ]
  },
  {
   "cell_type": "code",
   "execution_count": null,
   "metadata": {},
   "outputs": [],
   "source": [
    "print(bool(True))"
   ]
  },
  {
   "cell_type": "code",
   "execution_count": null,
   "metadata": {},
   "outputs": [],
   "source": [
    "#appending \n",
    "\n",
    "\n",
    "b.append(110)\n",
    "b.append(True)\n",
    "\n",
    "print(b)"
   ]
  },
  {
   "cell_type": "code",
   "execution_count": null,
   "metadata": {},
   "outputs": [],
   "source": [
    "int_arr = arr.array(\"i\" , (1,2,3,34,55))\n",
    "\n",
    "int_arr.append(1)\n"
   ]
  },
  {
   "cell_type": "code",
   "execution_count": null,
   "metadata": {},
   "outputs": [],
   "source": [
    "print(int_arr)"
   ]
  },
  {
   "cell_type": "code",
   "execution_count": null,
   "metadata": {},
   "outputs": [],
   "source": [
    "#removing \n",
    "b.pop()\n",
    "print(b)"
   ]
  },
  {
   "cell_type": "code",
   "execution_count": null,
   "metadata": {},
   "outputs": [],
   "source": [
    "#silicing\n",
    "\n",
    "\n",
    "b.append(1.222)\n",
    "b.append(2.9892)\n",
    "\n",
    "print(b)\n",
    "\n",
    "print(b[1:5:2])"
   ]
  },
  {
   "cell_type": "code",
   "execution_count": null,
   "metadata": {},
   "outputs": [],
   "source": []
  },
  {
   "cell_type": "code",
   "execution_count": null,
   "metadata": {},
   "outputs": [],
   "source": [
    "#insertion at location\n",
    "\n",
    "b.insert(1,99.2)\n"
   ]
  },
  {
   "cell_type": "code",
   "execution_count": null,
   "metadata": {},
   "outputs": [],
   "source": [
    "print(b)"
   ]
  },
  {
   "cell_type": "code",
   "execution_count": null,
   "metadata": {},
   "outputs": [],
   "source": [
    "b.index(3.3)"
   ]
  },
  {
   "cell_type": "code",
   "execution_count": null,
   "metadata": {},
   "outputs": [],
   "source": [
    "#reversing\n",
    "b.reverse()"
   ]
  },
  {
   "cell_type": "code",
   "execution_count": null,
   "metadata": {},
   "outputs": [],
   "source": [
    "b"
   ]
  },
  {
   "cell_type": "code",
   "execution_count": null,
   "metadata": {},
   "outputs": [],
   "source": [
    "for ch in b:\n",
    "    print(ch , type(ch))"
   ]
  },
  {
   "cell_type": "code",
   "execution_count": null,
   "metadata": {},
   "outputs": [],
   "source": [
    "def sum_avg(arr):\n",
    "    sum1 = 0\n",
    "    for i in arr:\n",
    "        sum1+=i\n",
    "    avg = sum1/len(arr)\n",
    "    return f\"the average is {avg}\""
   ]
  },
  {
   "cell_type": "code",
   "execution_count": null,
   "metadata": {},
   "outputs": [],
   "source": [
    "a1 = arr.array('d',[2.9892, 1.222, 100.0, 1.0, 1.0, 1.0, 1.0, 1.212, 3.3, 3.2, 99.2, 2.5])\n",
    "print(sum(a1)/len(a1))\n",
    "print(a1)\n"
   ]
  },
  {
   "cell_type": "code",
   "execution_count": null,
   "metadata": {},
   "outputs": [],
   "source": [
    "\n",
    "print(sum_avg(a1))\n"
   ]
  },
  {
   "cell_type": "code",
   "execution_count": null,
   "metadata": {},
   "outputs": [],
   "source": [
    "print(dir(b))\n"
   ]
  },
  {
   "cell_type": "code",
   "execution_count": null,
   "metadata": {},
   "outputs": [],
   "source": [
    "#summary\n",
    "# .array(typecode , data)\n",
    "# .append()\n",
    "# .pop()\n",
    "# .insert()\n",
    "# .index()\n",
    "# .reverse()\n"
   ]
  },
  {
   "cell_type": "markdown",
   "metadata": {},
   "source": [
    "### random\n",
    "Python has a built-in module that you can use to make random numbers."
   ]
  },
  {
   "cell_type": "code",
   "execution_count": null,
   "metadata": {},
   "outputs": [],
   "source": [
    "import random as r"
   ]
  },
  {
   "cell_type": "code",
   "execution_count": null,
   "metadata": {},
   "outputs": [],
   "source": [
    "print(dir(r))"
   ]
  },
  {
   "cell_type": "code",
   "execution_count": null,
   "metadata": {},
   "outputs": [],
   "source": [
    "# randint()\tReturns a random number between the given range\n",
    "r.randint(10,200)"
   ]
  },
  {
   "cell_type": "code",
   "execution_count": null,
   "metadata": {},
   "outputs": [],
   "source": [
    "for i in range(100):\n",
    "    print(r.randint(10,1000) , end = \" \") "
   ]
  },
  {
   "cell_type": "code",
   "execution_count": null,
   "metadata": {},
   "outputs": [],
   "source": [
    "# choice()\tReturns a random element from the given sequence\n",
    "\n",
    "some_list =[\"Google\",\"MS\",\"Amazon\",\"Netflix\",\"Yahhoo\",\"TCS\"]\n",
    "\n",
    "a= r.choice(some_list)\n",
    "print(a)\n",
    "\n",
    "some_list2= [1,2,3,4.212322]\n",
    "b= r.choice(some_list2)\n",
    "print(b)\n",
    "\n"
   ]
  },
  {
   "cell_type": "code",
   "execution_count": null,
   "metadata": {},
   "outputs": [],
   "source": [
    "r.randint(1,100)"
   ]
  },
  {
   "cell_type": "code",
   "execution_count": null,
   "metadata": {},
   "outputs": [],
   "source": [
    "# randrange()\tReturns a random number between the given range\n",
    "r.randrange(0,100,2)"
   ]
  },
  {
   "cell_type": "code",
   "execution_count": null,
   "metadata": {
    "scrolled": true
   },
   "outputs": [],
   "source": [
    "for i in range(10):\n",
    "    res = r.randrange(0,10,2)\n",
    "    print(res, end =\" \")"
   ]
  },
  {
   "cell_type": "code",
   "execution_count": null,
   "metadata": {},
   "outputs": [],
   "source": [
    "#shuffle()\tTakes a sequence and returns the sequence in a random order\n",
    "\n",
    "coll = ['a','n','i','l','R','a','j',10,20]\n",
    "\n",
    "doll2 = [1,12,1,31,3,1,31,3222]\n",
    "\n",
    "r.shuffle(doll2)\n",
    "#after shuffle\n",
    "doll2"
   ]
  },
  {
   "cell_type": "code",
   "execution_count": null,
   "metadata": {},
   "outputs": [],
   "source": [
    "coll\n",
    "r.shuffle(coll)\n",
    "coll"
   ]
  },
  {
   "cell_type": "code",
   "execution_count": null,
   "metadata": {},
   "outputs": [],
   "source": [
    "a = \"random module methods may sesion discussion\".split()\n",
    "\n",
    "print(a)\n",
    "\n",
    "r.shuffle(a)\n",
    "\n",
    "print(a)"
   ]
  },
  {
   "cell_type": "code",
   "execution_count": null,
   "metadata": {},
   "outputs": [],
   "source": [
    "\n"
   ]
  },
  {
   "cell_type": "code",
   "execution_count": null,
   "metadata": {},
   "outputs": [],
   "source": [
    "# sample()\tReturns a given sample of a sequence\n",
    "r.sample(['random', 'module', 'methods', 'may', 'sesion', 'discussion'],3)"
   ]
  },
  {
   "cell_type": "code",
   "execution_count": null,
   "metadata": {},
   "outputs": [],
   "source": [
    "# random()\tReturns a random float number between 0 and 1\n",
    "r.random()"
   ]
  },
  {
   "cell_type": "code",
   "execution_count": null,
   "metadata": {},
   "outputs": [],
   "source": [
    "#summary\n",
    "import random as r\n",
    "# r.randint(start, stop)\n",
    "# r.randrange(start,stop,step)\n",
    "# r.shuffle(seq)  - changes the order of seq\n",
    "# r.sample(seq,sample_size) - extract the data\n",
    "# r.choice(seq)  - returns random  ele from seq\n",
    "# r.random()    - return random float num from 0-1\n"
   ]
  },
  {
   "cell_type": "code",
   "execution_count": null,
   "metadata": {},
   "outputs": [],
   "source": [
    "def RandomPasswd_generator(length):\n",
    "    import random\n",
    "    lower = 'abcdefghijklmnopqrstuvwxyz'\n",
    "    upper = lower.upper()\n",
    "    numbers = '0123456789'\n",
    "    symbols = \"~!@#$%^&*,.\"\n",
    "\n",
    "    password = lower + upper + numbers + symbols\n",
    "\n",
    "    return \"\".join(random.sample(password, length))\n",
    "\n",
    "\n",
    "RandomPasswd_generator(12)"
   ]
  },
  {
   "cell_type": "code",
   "execution_count": null,
   "metadata": {},
   "outputs": [],
   "source": []
  },
  {
   "cell_type": "code",
   "execution_count": null,
   "metadata": {},
   "outputs": [],
   "source": []
  },
  {
   "cell_type": "markdown",
   "metadata": {},
   "source": [
    "### hashlib\n",
    "\n",
    "SHA, ( Secure Hash Algorithms ) are set of cryptographic hash functions defined by the language to be used for various applications such as password security etc. \n",
    "\n",
    "Some variants of it are supported by Python in the “hashlib” library. \n",
    "\n",
    "These can be found using “algorithms_guaranteed” function of hashlib.\n",
    "\n",
    "\n",
    "encode() : Converts the string into bytes to be acceptable by hash function.\n",
    "\n",
    "hexdigest() : Returns the encoded data in hexadecimal format"
   ]
  },
  {
   "cell_type": "code",
   "execution_count": null,
   "metadata": {},
   "outputs": [],
   "source": [
    "import hashlib\n",
    "\n",
    "print (hashlib.algorithms_guaranteed)"
   ]
  },
  {
   "cell_type": "code",
   "execution_count": null,
   "metadata": {},
   "outputs": [],
   "source": [
    "import hashlib as hsh\n",
    "  \n",
    "\n",
    "passwd = \"Kumar@123\"\n",
    "\n",
    "# then sending to SHA256()\n",
    "\n",
    "result = hsh.sha256(passwd.encode())\n",
    "  \n",
    "print(result)\n",
    "\n",
    "# # printing the equivalent hexadecimal value.\n",
    "print(\"The hexadecimal equivalent of SHA256 is : \")\n",
    "\n",
    "print(result.hexdigest()) #0-9 a=10,b=11, 15=f"
   ]
  },
  {
   "cell_type": "code",
   "execution_count": null,
   "metadata": {},
   "outputs": [],
   "source": [
    "import hashlib\n",
    "hashlib.md5(\"Kumar@123\".encode()).hexdigest()"
   ]
  },
  {
   "cell_type": "code",
   "execution_count": null,
   "metadata": {},
   "outputs": [],
   "source": []
  },
  {
   "cell_type": "code",
   "execution_count": null,
   "metadata": {},
   "outputs": [],
   "source": []
  },
  {
   "cell_type": "code",
   "execution_count": null,
   "metadata": {},
   "outputs": [],
   "source": [
    "def createDBEntries(uname,passwd):\n",
    "    d={}\n",
    "    d[\"username\"]=uname\n",
    "    d[\"password\"]= encryptPassword(passwd)\n",
    "    return d\n",
    "\n",
    "def encryptPassword(passwd):\n",
    "    return hashlib.md5(passwd.encode()).hexdigest()\n",
    "\n",
    "\n",
    "\n",
    "database = createDBEntries(\"kumar\",\"kumar@123\")\n",
    "print(database)"
   ]
  },
  {
   "cell_type": "code",
   "execution_count": null,
   "metadata": {},
   "outputs": [],
   "source": []
  },
  {
   "cell_type": "code",
   "execution_count": null,
   "metadata": {},
   "outputs": [],
   "source": [
    "\n",
    "if __name__ == '__main__':\n",
    "    inp_username= input(\"enter username: \")\n",
    "    \n",
    "    if(inp_username==database[\"username\"]):\n",
    "        inp_passwd= input(\"enter password: \")\n",
    "        if(encryptPassword(inp_passwd) == database[\"password\"]):\n",
    "            print(\"=== LOGIN SUCCESS ==\")\n",
    "        else:\n",
    "            print(\" invalid password \")\n",
    "    else:\n",
    "        print(\"user name is invalid\")"
   ]
  },
  {
   "cell_type": "code",
   "execution_count": null,
   "metadata": {},
   "outputs": [],
   "source": []
  },
  {
   "cell_type": "markdown",
   "metadata": {},
   "source": [
    "### date time\n",
    "\n",
    "A date in Python is not a data type of its own, but we can import a module named datetime to work with dates as date objects.\n"
   ]
  },
  {
   "cell_type": "code",
   "execution_count": null,
   "metadata": {},
   "outputs": [],
   "source": [
    "data = \"2023/05/06 08:32:21PM\"\n",
    "\n",
    "print(data,type(data))\n",
    "data[0:4]"
   ]
  },
  {
   "cell_type": "code",
   "execution_count": null,
   "metadata": {},
   "outputs": [],
   "source": []
  },
  {
   "cell_type": "code",
   "execution_count": null,
   "metadata": {},
   "outputs": [],
   "source": [
    "import datetime as dt\n",
    "# from datetime import datetime\n",
    "\n",
    "x = dt.datetime.now() \n",
    "print(x)\n",
    "print(type(x))"
   ]
  },
  {
   "cell_type": "code",
   "execution_count": null,
   "metadata": {},
   "outputs": [],
   "source": [
    "dir(x)"
   ]
  },
  {
   "cell_type": "code",
   "execution_count": null,
   "metadata": {},
   "outputs": [],
   "source": [
    "print(x.year )#attribute"
   ]
  },
  {
   "cell_type": "code",
   "execution_count": null,
   "metadata": {},
   "outputs": [],
   "source": [
    "print(x.month)"
   ]
  },
  {
   "cell_type": "code",
   "execution_count": null,
   "metadata": {},
   "outputs": [],
   "source": [
    "x.day"
   ]
  },
  {
   "cell_type": "code",
   "execution_count": null,
   "metadata": {},
   "outputs": [],
   "source": [
    "x.hour"
   ]
  },
  {
   "cell_type": "code",
   "execution_count": null,
   "metadata": {},
   "outputs": [],
   "source": [
    "x.today() #method or fun"
   ]
  },
  {
   "cell_type": "code",
   "execution_count": null,
   "metadata": {},
   "outputs": [],
   "source": [
    "x.weekday()"
   ]
  },
  {
   "cell_type": "code",
   "execution_count": null,
   "metadata": {},
   "outputs": [],
   "source": []
  },
  {
   "cell_type": "code",
   "execution_count": null,
   "metadata": {},
   "outputs": [],
   "source": []
  },
  {
   "cell_type": "code",
   "execution_count": null,
   "metadata": {},
   "outputs": [],
   "source": []
  },
  {
   "cell_type": "code",
   "execution_count": null,
   "metadata": {},
   "outputs": [],
   "source": [
    "import datetime\n",
    "\n",
    "x = datetime.datetime.now()\n",
    "\n",
    "print(x.year)\n",
    "print(x.strftime(\"%Y\")) #It is another method to print the datetime # format specifiers\n",
    "print(x.strftime(\"%y\"))\n",
    "print(x.year , x.month,x.day)\n",
    "print(x.strftime(\"%d-%m-%Y\")) #strftime(\"format specifiers\")/"
   ]
  },
  {
   "cell_type": "code",
   "execution_count": null,
   "metadata": {},
   "outputs": [],
   "source": [
    "#creating objects\n",
    "\n",
    "import datetime\n",
    "\n",
    "x = datetime.datetime(1990, 12, 26,12,5,54)\n",
    "\n",
    "print(x)\n"
   ]
  },
  {
   "cell_type": "code",
   "execution_count": null,
   "metadata": {},
   "outputs": [],
   "source": [
    "x.year"
   ]
  },
  {
   "cell_type": "code",
   "execution_count": null,
   "metadata": {},
   "outputs": [],
   "source": [
    "x.day"
   ]
  },
  {
   "cell_type": "code",
   "execution_count": null,
   "metadata": {},
   "outputs": [],
   "source": [
    "x.month"
   ]
  },
  {
   "cell_type": "code",
   "execution_count": null,
   "metadata": {},
   "outputs": [],
   "source": [
    "x.day"
   ]
  },
  {
   "cell_type": "code",
   "execution_count": null,
   "metadata": {},
   "outputs": [],
   "source": [
    "x.strftime(\"%Y %m %d\")"
   ]
  },
  {
   "cell_type": "code",
   "execution_count": null,
   "metadata": {},
   "outputs": [],
   "source": [
    "x.strftime(\"%m\")"
   ]
  },
  {
   "cell_type": "code",
   "execution_count": null,
   "metadata": {},
   "outputs": [],
   "source": [
    "def ageCaculator(Y,M,D):\n",
    "    # create\n",
    "    dob = datetime.datetime(Y,M,D)  #birthday\n",
    "    \n",
    "    present = datetime.datetime.now() #present day\n",
    "    \n",
    "\n",
    "    return (present - dob).days/365\n"
   ]
  },
  {
   "cell_type": "code",
   "execution_count": null,
   "metadata": {},
   "outputs": [],
   "source": [
    "ageCaculator(2013,1,14)"
   ]
  },
  {
   "cell_type": "code",
   "execution_count": null,
   "metadata": {},
   "outputs": [],
   "source": [
    "round(ageCaculator(1998,1,14))"
   ]
  },
  {
   "cell_type": "code",
   "execution_count": null,
   "metadata": {},
   "outputs": [],
   "source": [
    "from datetime import datetime\n",
    "print(datetime.now())"
   ]
  },
  {
   "cell_type": "code",
   "execution_count": null,
   "metadata": {},
   "outputs": [],
   "source": [
    "from datetime import date\n",
    "print(date.today())"
   ]
  },
  {
   "cell_type": "code",
   "execution_count": null,
   "metadata": {},
   "outputs": [],
   "source": [
    "# Python3 code to calculate age in years\n",
    "\n",
    "from datetime import date\n",
    "\n",
    "def calculateAge(birthDate):\n",
    "\ttoday = date.today()\n",
    "\tage = today.year - birthDate.year -((today.month, today.day) <(birthDate.month, birthDate.day))\n",
    "\n",
    "\treturn age\n",
    "\t\n",
    "# Driver code\n",
    "print(calculateAge(date(2013, 4, 16)), \"years\")\n"
   ]
  },
  {
   "cell_type": "markdown",
   "metadata": {},
   "source": [
    "#### strftime()\n",
    "The datetime object has a method for formatting date objects into readable strings.\n",
    "\n",
    "The method is called strftime(), and takes one parameter, format, to specify the format of the returned string:\n",
    "\n",
    "\n",
    "%a\tWeekday, short version\tWed\n",
    "\n",
    "%A\tWeekday, full version\tWednesday\t\n",
    "\n",
    "%w\tWeekday as a number 0-6, 0 is Sunday\t3\n",
    "\n",
    "%d\tDay of month 01-31\t31\t\n",
    "\n",
    "%b\tMonth name, short version\tDec\t\n",
    "\n",
    "%B\tMonth name, full version\tDecember\n",
    "\n",
    "%m\tMonth as a number 01-12\t12\t\n",
    "\n",
    "%y\tYear, short version, without century\t18"
   ]
  },
  {
   "cell_type": "markdown",
   "metadata": {},
   "source": [
    "### requests\n",
    "\n",
    "\n",
    "The requests module allows you to send HTTP requests using Python. The HTTP request returns a Response Object with all the response data (content, encoding, status, etc)."
   ]
  },
  {
   "cell_type": "code",
   "execution_count": null,
   "metadata": {},
   "outputs": [],
   "source": [
    "import requests  as r\n",
    "\n",
    "print(dir(r))"
   ]
  },
  {
   "cell_type": "code",
   "execution_count": null,
   "metadata": {},
   "outputs": [],
   "source": [
    "#GET - YOU MAKING A GET REQUEST TO THE WEB SERVICE .\n",
    "# URL - UNIVERSIONAL RESOUCE LOCATOR\n",
    "\n",
    "import requests  as r\n",
    "\n",
    "res = r.get(\"https://api.nasa.gov/planetary/apod\") #MAKING A GET TO THE URL \n",
    "\n",
    "print(res.text)\n",
    "print(res.status_code)"
   ]
  },
  {
   "cell_type": "code",
   "execution_count": null,
   "metadata": {},
   "outputs": [],
   "source": [
    "import requests  as r\n",
    "\n",
    "res = r.get(\"https://reqres.in/api/users?page=2\") #MAKING A GET TO THE URL \n",
    "\n",
    "# print(res.text) #string\n",
    "\n",
    "responseData = res.json()\n",
    "\n",
    "for dt in responseData[\"data\"]:\n",
    "    for k , v in dt.items():\n",
    "        if k in [\"first_name\",\"last_name\",\"email\"]:\n",
    "            print(v,end= \" \")\n",
    "    print()"
   ]
  },
  {
   "cell_type": "code",
   "execution_count": null,
   "metadata": {},
   "outputs": [],
   "source": [
    "a = {\n",
    "      \"id\": 7,\n",
    "      \"email\": \"michael.lawson@reqres.in\",\n",
    "      \"first_name\": \"Michael\",\n",
    "      \"last_name\": \"Lawson\",\n",
    "      \"avatar\": \"https://reqres.in/img/faces/7-image.jpg\"\n",
    "    }\n",
    "\n",
    "\n",
    "for k,v in a.items():\n",
    "    if k==\"first_name\" or k==\"last_name\":\n",
    "        print(v)"
   ]
  },
  {
   "cell_type": "code",
   "execution_count": null,
   "metadata": {},
   "outputs": [],
   "source": [
    "print(\"kumar\" in [\"radha\",\"ravi\",\"avinash\",\"kumar\"])"
   ]
  },
  {
   "cell_type": "code",
   "execution_count": null,
   "metadata": {},
   "outputs": [],
   "source": [
    "import requests  as r\n",
    "\n",
    "res = r.get(\"https://reqres.in/api/users?page=2\") #MAKING A GET TO THE URL \n",
    "\n",
    "data_json = res.json()\n",
    "\n",
    "print(type(data_json))\n",
    "\n",
    "print(data_json[\"data\"])\n",
    "\n",
    "\n"
   ]
  },
  {
   "cell_type": "code",
   "execution_count": null,
   "metadata": {},
   "outputs": [],
   "source": [
    "for dt in data_json[\"data\"]:\n",
    "    print(dt)\n",
    "    print(dt[\"email\"] , dt[\"first_name\"] ,sep = \"  \")"
   ]
  },
  {
   "cell_type": "code",
   "execution_count": null,
   "metadata": {},
   "outputs": [],
   "source": [
    "print(dir(res))"
   ]
  },
  {
   "cell_type": "code",
   "execution_count": null,
   "metadata": {},
   "outputs": [],
   "source": [
    "res.text #str"
   ]
  },
  {
   "cell_type": "code",
   "execution_count": null,
   "metadata": {},
   "outputs": [],
   "source": [
    "res.url"
   ]
  },
  {
   "cell_type": "code",
   "execution_count": null,
   "metadata": {},
   "outputs": [],
   "source": [
    "res.reason"
   ]
  },
  {
   "cell_type": "code",
   "execution_count": null,
   "metadata": {},
   "outputs": [],
   "source": [
    "res.status_code"
   ]
  },
  {
   "cell_type": "code",
   "execution_count": null,
   "metadata": {},
   "outputs": [],
   "source": [
    "res.json() #dict"
   ]
  },
  {
   "cell_type": "code",
   "execution_count": null,
   "metadata": {},
   "outputs": [],
   "source": [
    "res.links"
   ]
  },
  {
   "cell_type": "code",
   "execution_count": null,
   "metadata": {},
   "outputs": [],
   "source": [
    "res.ok"
   ]
  },
  {
   "cell_type": "code",
   "execution_count": null,
   "metadata": {},
   "outputs": [],
   "source": [
    "res.headers"
   ]
  },
  {
   "cell_type": "code",
   "execution_count": null,
   "metadata": {},
   "outputs": [],
   "source": [
    "# JSON \n",
    "# LIST of dicts\n",
    "[\n",
    "    \n",
    "    {},\n",
    "    {},\n",
    "    {},\n",
    "    {}\n",
    "]"
   ]
  },
  {
   "cell_type": "code",
   "execution_count": null,
   "metadata": {},
   "outputs": [],
   "source": [
    "# 2 ways \n",
    "1. requests.get(url)\n",
    "2. requests.request(\"TYPE\",URL , headers, querystring)"
   ]
  },
  {
   "cell_type": "code",
   "execution_count": null,
   "metadata": {},
   "outputs": [],
   "source": [
    "import requests\n",
    "\n",
    "url = \"https://imdb8.p.rapidapi.com/auto-complete\"\n",
    "\n",
    "querystring = {\"q\":\"KGF\"}\n",
    "\n",
    "headers = {\n",
    "\t\"X-RapidAPI-Key\": \"bbc4e72c95msh764d7107571c9ccp132292jsne000b3620c23\",\n",
    "\t\"X-RapidAPI-Host\": \"imdb8.p.rapidapi.com\"\n",
    "}\n",
    "\n",
    "response = requests.request(\"GET\", url, headers=headers, params=querystring)\n",
    "\n",
    "print(response.status_code)\n",
    "# print(response.json())\n",
    "\n"
   ]
  },
  {
   "cell_type": "code",
   "execution_count": null,
   "metadata": {},
   "outputs": [],
   "source": [
    "print(response.status_code)\n",
    "# print(response.text)\n",
    "print(response.reason)\n",
    "print(response.ok)\n",
    "print(response.url)\n",
    "print(response.json())"
   ]
  },
  {
   "cell_type": "code",
   "execution_count": null,
   "metadata": {},
   "outputs": [],
   "source": [
    "data = response.json()\n",
    "\n",
    "images = []\n",
    "for dt in data[\"d\"]:\n",
    "    for k,v in dt.items():\n",
    "        if k==\"i\":\n",
    "           images.append(v[\"imageUrl\"])"
   ]
  },
  {
   "cell_type": "code",
   "execution_count": null,
   "metadata": {},
   "outputs": [],
   "source": [
    "for k , v in data.items():\n",
    "    if k== \"d\":\n",
    "        for ndict in v:\n",
    "            for nk1,nv1 in ndict.items():\n",
    "                if nk1==\"i\":\n",
    "                    print(nv1[\"imageUrl\"])"
   ]
  },
  {
   "cell_type": "code",
   "execution_count": null,
   "metadata": {},
   "outputs": [],
   "source": []
  },
  {
   "cell_type": "code",
   "execution_count": null,
   "metadata": {},
   "outputs": [],
   "source": [
    "import requests\n",
    "\n",
    "url = \"https://covid-19-data.p.rapidapi.com/report/country/name\"\n",
    "\n",
    "querystring = {\"name\":\"Italy\",\"date\":\"2020-04-01\"}\n",
    "\n",
    "headers = {\n",
    "\t\"X-RapidAPI-Key\": \"bbc4e72c95msh764d7107571c9ccp132292jsne000b3620c23\",\n",
    "\t\"X-RapidAPI-Host\": \"covid-19-data.p.rapidapi.com\"\n",
    "}\n",
    "\n",
    "response = requests.request(\"GET\", url, headers=headers, params=querystring)\n",
    "\n",
    "print(response.text)\n",
    "print(response.ok)\n",
    "print(response.status_code)"
   ]
  },
  {
   "cell_type": "code",
   "execution_count": null,
   "metadata": {},
   "outputs": [],
   "source": [
    "import requests\n",
    "\n",
    "url = \"https://google-translate1.p.rapidapi.com/language/translate/v2/detect\"\n",
    "\n",
    "payload = \"q=English%20is%20hard%2C%20but%20detectably%20so\"\n",
    "headers = {\n",
    "\t\"content-type\": \"application/x-www-form-urlencoded\",\n",
    "\t\"Accept-Encoding\": \"application/gzip\",\n",
    "\t\"X-RapidAPI-Key\": \"bbc4e72c95msh764d7107571c9ccp132292jsne000b3620c23\",\n",
    "\t\"X-RapidAPI-Host\": \"google-translate1.p.rapidapi.com\"\n",
    "}\n",
    "\n",
    "response = requests.request(\"POST\", url, data=payload, headers=headers)\n",
    "\n",
    "print(response.text)\n",
    "print(response.ok)\n",
    "print(response.status_code)"
   ]
  },
  {
   "cell_type": "code",
   "execution_count": null,
   "metadata": {},
   "outputs": [],
   "source": [
    "import requests\n",
    "\n",
    "url = \"https://google-translate1.p.rapidapi.com/language/translate/v2/languages\"\n",
    "\n",
    "headers = {\n",
    "\t\"Accept-Encoding\": \"application/gzip\",\n",
    "\t\"X-RapidAPI-Key\": \"bbc4e72c95msh764d7107571c9ccp132292jsne000b3620c23\",\n",
    "\t\"X-RapidAPI-Host\": \"google-translate1.p.rapidapi.com\"\n",
    "}\n",
    "\n",
    "response = requests.request(\"GET\", url, headers=headers)\n",
    "\n",
    "print(response.text)"
   ]
  },
  {
   "cell_type": "code",
   "execution_count": null,
   "metadata": {},
   "outputs": [],
   "source": [
    "import requests\n",
    "\n",
    "url = \"https://google-translate1.p.rapidapi.com/language/translate/v2\"\n",
    "\n",
    "payload = \"q=Hello%2C%20 Hey Hi!&target=es&source=en\"\n",
    "headers = {\n",
    "\t\"content-type\": \"application/x-www-form-urlencoded\",\n",
    "\t\"Accept-Encoding\": \"application/gzip\",\n",
    "\t\"X-RapidAPI-Key\": \"bbc4e72c95msh764d7107571c9ccp132292jsne000b3620c23\",\n",
    "\t\"X-RapidAPI-Host\": \"google-translate1.p.rapidapi.com\"\n",
    "}\n",
    "\n",
    "response = requests.request(\"POST\", url, data=payload, headers=headers)\n",
    "\n",
    "print(response.text)\n",
    "print(response.headers)"
   ]
  },
  {
   "cell_type": "code",
   "execution_count": null,
   "metadata": {},
   "outputs": [],
   "source": [
    "import requests\n",
    "\n",
    "x = requests.get('https://techcrunch.com/') #making a request to the web url\n",
    "\n",
    "print(x.text)\n",
    "# print(x.content)"
   ]
  },
  {
   "cell_type": "code",
   "execution_count": null,
   "metadata": {
    "scrolled": true
   },
   "outputs": [],
   "source": [
    "x.status_code #successfully  , accessiable "
   ]
  },
  {
   "cell_type": "code",
   "execution_count": null,
   "metadata": {},
   "outputs": [],
   "source": [
    "import requests\n",
    "\n",
    "x = requests.get('https://4movierulz.gg/')\n",
    "print(x.status_code) #200 Accessible or Avaiable "
   ]
  },
  {
   "cell_type": "code",
   "execution_count": null,
   "metadata": {},
   "outputs": [],
   "source": [
    "#url"
   ]
  },
  {
   "cell_type": "code",
   "execution_count": null,
   "metadata": {},
   "outputs": [],
   "source": [
    "#auth\n",
    "# import requests module\n",
    "import requests\n",
    "from requests.auth import HTTPBasicAuth\n",
    "  \n",
    "# Making a get request\n",
    "response = requests.get('https://api.github.com / user, ',\n",
    "            auth = HTTPBasicAuth('user', 'pass'))\n",
    "  \n",
    "# print request object\n",
    "# print(response)\n",
    "\n"
   ]
  },
  {
   "cell_type": "code",
   "execution_count": null,
   "metadata": {},
   "outputs": [],
   "source": [
    "#Session Objects\n",
    "\n",
    "# import requests module\n",
    "import requests\n",
    "  \n",
    "# create a session object\n",
    "s = requests.Session()\n",
    "  \n",
    "# make a get request\n",
    "s.get('https://httpbin.org/cookies/set/sessioncookie/123456789')\n",
    "  \n",
    "# again make a get request\n",
    "r = s.get('https://httpbin.org/cookies')\n",
    "  \n",
    "# check if cookie is still set\n",
    "print(r.text)"
   ]
  },
  {
   "cell_type": "code",
   "execution_count": null,
   "metadata": {},
   "outputs": [],
   "source": [
    "import os\n",
    "os.getcwd()"
   ]
  },
  {
   "cell_type": "code",
   "execution_count": null,
   "metadata": {},
   "outputs": [],
   "source": [
    "# 1. store all images urls in some list or dictionary format\n",
    "images = [\n",
    "    \"https://images.unsplash.com/photo-1675673428645-5fb5fa263898?ixlib=rb-4.0.3&ixid=MnwxMjA3fDB8MHxwaG90by1wYWdlfHx8fGVufDB8fHx8&auto=format&fit=crop&w=1964&q=80\",\n",
    "    \"https://images.unsplash.com/photo-1675702664508-0235c0e9d4e2?ixlib=rb-4.0.3&ixid=MnwxMjA3fDB8MHxwaG90by1wYWdlfHx8fGVufDB8fHx8&auto=format&fit=crop&w=2070&q=80\",\n",
    "    \"https://images.unsplash.com/photo-1675566226944-792ebf1e9b10?ixlib=rb-4.0.3&ixid=MnwxMjA3fDB8MHxwaG90by1wYWdlfHx8fGVufDB8fHx8&auto=format&fit=crop&w=774&q=80\"\n",
    "]\n",
    "# 2. make a call , and download all images in one call \n",
    "    saves the images in the format of \n",
    "    image_1.jpg\n",
    "    image_2.jpg\n",
    "    "
   ]
  },
  {
   "cell_type": "code",
   "execution_count": null,
   "metadata": {},
   "outputs": [],
   "source": [
    "#image downloading using request\n",
    "\n",
    "import requests\n",
    "\n",
    "file_name = \"demo1.jpg\"\n",
    "\n",
    "url = \"https://images.unsplash.com/photo-1675673428645-5fb5fa263898?ixlib=rb-4.0.3&ixid=MnwxMjA3fDB8MHxwaG90by1wYWdlfHx8fGVufDB8fHx8&auto=format&fit=crop&w=1964&q=80\"\n",
    "\n",
    "\n",
    "res = requests.get(url)  #GET\n",
    "# print(res.content)\n",
    "\n",
    "with open(file_name,'wb') as f:\n",
    "    f.write(res.content)\n",
    "    \n",
    "# fil_obj= open(\"filename\",mode=\"r\",enconding=\"utf-8\")"
   ]
  },
  {
   "cell_type": "markdown",
   "metadata": {},
   "source": [
    "### Regular expression (RegEx)\n",
    "\n",
    "- A RegEx, or Regular Expression, is a sequence of characters that forms a search pattern.\n",
    "- \n",
    "- RegEx can be used to check if a string contains the specified search pattern.\n",
    "\n",
    "- ex : password validation , email , names validation\n",
    "\n",
    "\n",
    "\n",
    "- Python has a built-in package called re, which can be used to work with Regular Expressions.\n",
    "\n",
    "syntax:\n",
    "\n",
    "\n",
    "import re"
   ]
  },
  {
   "cell_type": "code",
   "execution_count": null,
   "metadata": {},
   "outputs": [],
   "source": [
    "s=\"abshjsbvemurijkajkskh\"\n",
    "# validate\n",
    "# a-zA-z \n",
    "# a-z0-9 @gmail.com"
   ]
  },
  {
   "cell_type": "code",
   "execution_count": null,
   "metadata": {},
   "outputs": [],
   "source": [
    "import re"
   ]
  },
  {
   "cell_type": "code",
   "execution_count": null,
   "metadata": {},
   "outputs": [],
   "source": [
    "print(dir(re))"
   ]
  },
  {
   "cell_type": "code",
   "execution_count": null,
   "metadata": {},
   "outputs": [],
   "source": [
    "print(help(re))"
   ]
  },
  {
   "cell_type": "markdown",
   "metadata": {},
   "source": [
    "#### search()\n",
    "\n",
    "The search() function searches the string for a match, and returns a Match object if there is a match.\n",
    "\n",
    "If there is more than one match, only the first occurrence of the match will be returned:"
   ]
  },
  {
   "cell_type": "code",
   "execution_count": null,
   "metadata": {},
   "outputs": [],
   "source": [
    "#Search the string to see if it starts with \n",
    "# \"India\" and ends with \"corona\"\n",
    "import re\n",
    "\n",
    "txt = \"india set a new record with the highest number of Covid tests conducted in the last month\"\n",
    "\n",
    "txt1 = \"The rain in Spain\"\n",
    "\n",
    "x= re.search(\"^india\",txt)\n",
    "print(x)\n",
    "\n",
    "\n",
    "y = re.search(\"month$\",txt)\n",
    "print(y)\n",
    "\n",
    "#^ starts\n",
    "\n",
    "#$ end "
   ]
  },
  {
   "cell_type": "code",
   "execution_count": null,
   "metadata": {},
   "outputs": [],
   "source": [
    "print(x)\n",
    "print(y)"
   ]
  },
  {
   "cell_type": "code",
   "execution_count": null,
   "metadata": {},
   "outputs": [],
   "source": [
    "import re\n",
    "\n",
    "#Check if the string starts with \"The\" and ends with \"Spain\":\n",
    "\n",
    "txt = \"The rain in and feeling good Spain\"\n",
    "x = re.search(\"^The.*Spain$\", txt)\n",
    "\n",
    "print(x)\n",
    "if x:\n",
    "  print(\"YES! We have a match!\")\n",
    "else:\n",
    "  print(\"No match\")"
   ]
  },
  {
   "cell_type": "code",
   "execution_count": null,
   "metadata": {},
   "outputs": [],
   "source": [
    "name = \"Kumar897979\"\n",
    "\n",
    "x = re.search(\"[0-9]+\",name)\n",
    "\n",
    "print(x)"
   ]
  },
  {
   "cell_type": "code",
   "execution_count": null,
   "metadata": {},
   "outputs": [],
   "source": [
    "name =\"python0908 Iam78 Kumar\"\n",
    "\n",
    "x= re.search(\"([a-zA-Z0-9]+) ([a-zA-Z]+) ([a-zA-Z]+)\",name)\n",
    "print(x)"
   ]
  },
  {
   "cell_type": "code",
   "execution_count": null,
   "metadata": {},
   "outputs": [],
   "source": []
  },
  {
   "cell_type": "markdown",
   "metadata": {},
   "source": [
    "The re module offers a set of functions that allows us to search a string for a match:\n",
    "\n",
    "Function\tDescription\n",
    "\n",
    "- findall\tReturns a list containing all matches\n",
    "- search\tReturns a Match object if there is a match anywhere in the string\n",
    "- split\tReturns a list where the string has been split at each match\n",
    "- sub\tReplaces one or many matches with a string\n",
    "\n"
   ]
  },
  {
   "cell_type": "code",
   "execution_count": null,
   "metadata": {},
   "outputs": [],
   "source": [
    "[]\tA set of characters\t\"[a-m]\"\t\n",
    "\\\tSignals a special sequence (can also be used to escape special characters)\t\"\\d\"\t\n",
    ".\tAny character (except newline character)\t\"he..o\"\t\n",
    "^\tStarts with\t\"^hello\"\t\n",
    "$\tEnds with\t\"world$\"\t\n",
    "*\tZero or more occurrences\t\"aix*\"\t\n",
    "+\tOne or more occurrences\t\"aix+\"\t\n",
    "{}\tExactly the specified number of occurrences\t\"al{2}\"\t\n",
    "|\tEither or\t\"falls | stays\"\t\n",
    "()\tCapture and group"
   ]
  },
  {
   "cell_type": "markdown",
   "metadata": {},
   "source": [
    "#### set"
   ]
  },
  {
   "cell_type": "code",
   "execution_count": null,
   "metadata": {},
   "outputs": [],
   "source": [
    "[arn]\tReturns a match where one of the specified characters (a, r, or n) are present\t\n",
    "[a-n]\tReturns a match for any lower case character, alphabetically between a and n\t\n",
    "[^arn]\tReturns a match for any character EXCEPT a, r, and n\t\n",
    "[0123]\tReturns a match where any of the specified digits (0, 1, 2, or 3) are present\t\n",
    "[0-9]\tReturns a match for any digit between 0 and 9\t\n",
    "[0-5][0-9]\tReturns a match for any two-digit numbers from 00 and 59\t\n",
    "[a-zA-Z]\tReturns a match for any character alphabetically between a and z, lower case OR upper case\t\n",
    "[+]\tIn sets, +, *, ., |, (), $,{} has no special meaning, so [+] means: return a match for any + character in the string"
   ]
  },
  {
   "cell_type": "markdown",
   "metadata": {},
   "source": [
    "##### findall()\n",
    "\n",
    "The findall() function returns a list containing all matches."
   ]
  },
  {
   "cell_type": "code",
   "execution_count": null,
   "metadata": {},
   "outputs": [],
   "source": [
    "import re\n",
    "\n",
    "txt = \"JAJAJA208092\"\n",
    "\n",
    "x = re.search(\"[A-Z0-9]+\",txt)\n",
    "\n",
    "print(x)"
   ]
  },
  {
   "cell_type": "code",
   "execution_count": null,
   "metadata": {},
   "outputs": [],
   "source": [
    "import re\n",
    "\n",
    "txt = \"Python is OOP's Language LanguagePython AK\"\n",
    "\n",
    "x = re.findall(\"[A-Z]{5}\", txt)\n",
    "print(x)"
   ]
  },
  {
   "cell_type": "code",
   "execution_count": null,
   "metadata": {},
   "outputs": [],
   "source": [
    "import re\n",
    "\n",
    "txt = \"python is robust and portal\"\n",
    "x = re.findall(\" \", txt)\n",
    "print(x)"
   ]
  },
  {
   "cell_type": "code",
   "execution_count": null,
   "metadata": {},
   "outputs": [],
   "source": [
    "txt = \"python is robust and portal\"\n",
    "\n",
    "# count number of words \n",
    "# give the length.\n",
    "# give the length without spaces.\n",
    "\n",
    "\n",
    "\n",
    "txt=\"Python is robust and portal\"\n",
    "print(len(txt))\n",
    "\n",
    "\n",
    "txt = \"python is robust and portal\"\n",
    "print(len(txt))\n",
    "print(len(txt.split(\" \")))\n",
    "print(len(txt.replace(\" \",\"\")))"
   ]
  },
  {
   "cell_type": "markdown",
   "metadata": {},
   "source": [
    "### split()\n",
    "\n",
    "The split() function returns a list where the string has been split at each match:"
   ]
  },
  {
   "cell_type": "code",
   "execution_count": null,
   "metadata": {},
   "outputs": [],
   "source": [
    "import re\n",
    "\n",
    "txt = \"python  is          interpreted language\"\n",
    "x = re.split(\" \", txt)\n",
    "print(x)\n"
   ]
  },
  {
   "cell_type": "code",
   "execution_count": null,
   "metadata": {},
   "outputs": [],
   "source": [
    "import re\n",
    "\n",
    "txt = \"python  is interpreted language\"\n",
    "x = re.split(\"is\", txt)\n",
    "print(x)"
   ]
  },
  {
   "cell_type": "markdown",
   "metadata": {},
   "source": [
    "### sub() Function\n",
    "The sub() function replaces the matches with the text of your choice:"
   ]
  },
  {
   "cell_type": "code",
   "execution_count": null,
   "metadata": {},
   "outputs": [],
   "source": [
    "import re\n",
    "\n",
    "txt = \"Pythoncurent version is 3.10x\"\n",
    "x = re.sub(\"3.10\", \"3.11\", txt)\n",
    "print(x)"
   ]
  },
  {
   "cell_type": "code",
   "execution_count": null,
   "metadata": {},
   "outputs": [],
   "source": [
    "import re\n",
    "\n",
    "txt = \"Python curent version is 3.9x\"\n",
    "x = re.sub(\"Python\", \"javascript\", txt)\n",
    "print(x)"
   ]
  },
  {
   "cell_type": "code",
   "execution_count": null,
   "metadata": {},
   "outputs": [],
   "source": [
    "import re\n",
    "\n",
    "re.search(\"[a-z]+\",\"Kumar\")"
   ]
  },
  {
   "cell_type": "code",
   "execution_count": null,
   "metadata": {},
   "outputs": [],
   "source": [
    "#name validation\n",
    "\n",
    "import re\n",
    "\n",
    "name = input(\"Enter the name:\")\n",
    "\n",
    "\n",
    "reg2 = re.compile(r'[A-Za-z]{2,25}\\s[A-Za-z]{2,25}',re.IGNORECASE)\n",
    "\n",
    "name_validation =reg2.search(name)\n",
    "\n",
    "print(name_validation)\n",
    "\n",
    "if name_validation:\n",
    "    if(len(name.split()[0])<=25 and len(name.split()[1])<=25):\n",
    "        print(\"name is valid\")\n",
    "    else:\n",
    "        print(\"more than 25 characters\")\n",
    "        \n",
    "else:\n",
    "    print(\"Sorry , Invalid name\")"
   ]
  },
  {
   "cell_type": "code",
   "execution_count": null,
   "metadata": {},
   "outputs": [],
   "source": [
    "import re\n",
    "\n",
    "name = input(\"Enter the name:\")\n",
    "\n",
    "validate_res = re.findall('[A-Za-z]{2,25}\\s[A-Za-z]{2,25}', name)\n",
    "\n",
    "\n",
    "print(validate_res)\n",
    "if validate_res:\n",
    "    print(\"name is valid\")\n",
    "else:\n",
    "    print(\"Sorry , Invalid name\")"
   ]
  },
  {
   "cell_type": "code",
   "execution_count": null,
   "metadata": {},
   "outputs": [],
   "source": []
  },
  {
   "cell_type": "code",
   "execution_count": null,
   "metadata": {},
   "outputs": [],
   "source": []
  },
  {
   "cell_type": "code",
   "execution_count": null,
   "metadata": {},
   "outputs": [],
   "source": [
    "#mail validation\n",
    "\n",
    "# Make a regular expression\n",
    "# for validating an Email\n",
    "\n",
    "regex = \"^[a-z0-9]+@[a-zA-Z0-9.-]+$\"\n",
    "\n",
    "email = input()\n",
    "\n",
    "reg = re.findall(regex,email)\n",
    "\n",
    "print(reg)"
   ]
  },
  {
   "cell_type": "code",
   "execution_count": null,
   "metadata": {},
   "outputs": [],
   "source": [
    "# Password Validation\n",
    "\n",
    "# At least one upper case English letter, (?=.*?[A-Z]) #atleast\n",
    "# At least one lower case English letter, (?=.*?[a-z])\n",
    "# At least one digit, (?=.*?[0-9])\n",
    "# At least one special character, (?=.*?[#?!@$%^&*-])\n",
    "# Minimum eight in length .{8,} (with the anchors)"
   ]
  },
  {
   "cell_type": "code",
   "execution_count": null,
   "metadata": {},
   "outputs": [],
   "source": [
    "import re \n",
    "\n",
    "regpass = re.compile(r'^(?=.*?[A-Z])(?=.*?[a-z])(?=.*?[0-9])(?=.*?[#?!@$%^&*-]).{8,}$')\n",
    "\n",
    "passwd = input(\"Enter the password: \")\n",
    "\n",
    "reg = regpass.search(passwd)\n",
    "\n",
    "if reg:\n",
    "    print(\"Login success\")\n",
    "else:\n",
    "    print(\"Invalid details\")\n",
    "    \n"
   ]
  },
  {
   "cell_type": "code",
   "execution_count": null,
   "metadata": {},
   "outputs": [],
   "source": []
  },
  {
   "cell_type": "code",
   "execution_count": null,
   "metadata": {},
   "outputs": [],
   "source": []
  },
  {
   "cell_type": "code",
   "execution_count": null,
   "metadata": {},
   "outputs": [],
   "source": []
  },
  {
   "cell_type": "markdown",
   "metadata": {},
   "source": [
    "## Procedural Functioning\n",
    "\n",
    "- In Function programming , we focus more on function rather than data\n",
    "\n",
    "the 4 methods are\n",
    "- map\n",
    "- reduce\n",
    "- filter\n",
    "- lambda"
   ]
  },
  {
   "cell_type": "markdown",
   "metadata": {},
   "source": [
    "##### map(function,iterable)\n",
    "\n",
    "syntax:\n",
    "    \n",
    "    map(function, iterables)\n",
    "\n",
    "\n",
    "\n",
    "\n",
    "The map() function executes a specified function for each item in an iterable.\n",
    "\n",
    "The item is sent to the function as a parameter.\n",
    "\n",
    "It return a map object\n",
    "\n",
    "Map it to another dataype or sequence to display"
   ]
  },
  {
   "cell_type": "code",
   "execution_count": null,
   "metadata": {},
   "outputs": [],
   "source": [
    "# str\n",
    "# list\n",
    "# tuple\n",
    "# dictionary\n",
    "#set\n",
    "\n",
    "# noniterable\n",
    "\n",
    "# int \n",
    "# float\n",
    "# bool\n",
    "# complex\n",
    "#None\n"
   ]
  },
  {
   "cell_type": "code",
   "execution_count": null,
   "metadata": {},
   "outputs": [],
   "source": [
    "lst=[1,2,3,4,5]\n",
    "for i in range(len(lst)):\n",
    "    lst[i] = lst[i]*9\n",
    "print(lst)"
   ]
  },
  {
   "cell_type": "code",
   "execution_count": null,
   "metadata": {},
   "outputs": [],
   "source": [
    "def fun(a):\n",
    "    return a/10\n",
    "\n",
    "res = map(fun,[1,2,3,4,5])\n",
    "print(res)\n",
    "print(list(res))"
   ]
  },
  {
   "cell_type": "code",
   "execution_count": null,
   "metadata": {},
   "outputs": [],
   "source": [
    "\n",
    "\n",
    "def fun(a):\n",
    "    return a*10\n",
    "\n",
    "print(list(map(fun,[1,2,3,4,5.2,6.6,\"kumar\"])))\n"
   ]
  },
  {
   "cell_type": "code",
   "execution_count": null,
   "metadata": {},
   "outputs": [],
   "source": []
  },
  {
   "cell_type": "code",
   "execution_count": null,
   "metadata": {},
   "outputs": [],
   "source": [
    "\n",
    "x = map(len, ('apple', 'banana', 'cherry'))\n",
    "print(list(x))"
   ]
  },
  {
   "cell_type": "code",
   "execution_count": null,
   "metadata": {},
   "outputs": [],
   "source": []
  },
  {
   "cell_type": "code",
   "execution_count": null,
   "metadata": {},
   "outputs": [],
   "source": [
    "liter=('apple', 'banana', 'cherry')\n",
    "res=[]\n",
    "\n",
    "for data  in liter:\n",
    "    count=0\n",
    "    for ch in data:\n",
    "        count+=1\n",
    "    res.append(count)\n",
    "print(res)\n",
    "        \n",
    "        "
   ]
  },
  {
   "cell_type": "markdown",
   "metadata": {},
   "source": [
    "#### mapping\n",
    "\n",
    "- coverting one type to another type\n",
    "- list to tuple or tuple to set\n",
    "\n",
    "- int()\n",
    "- float()\n",
    "- str()\n",
    "- complex()\n",
    "- list()\n",
    "- tuple()\n",
    "- dict()\n",
    "- set()"
   ]
  },
  {
   "cell_type": "code",
   "execution_count": null,
   "metadata": {},
   "outputs": [],
   "source": [
    "\n",
    "x = map(max, [1,2,4],[1,0,4])\n",
    "\n",
    "print(list(x))"
   ]
  },
  {
   "cell_type": "code",
   "execution_count": null,
   "metadata": {},
   "outputs": [],
   "source": []
  },
  {
   "cell_type": "code",
   "execution_count": null,
   "metadata": {},
   "outputs": [],
   "source": []
  },
  {
   "cell_type": "code",
   "execution_count": null,
   "metadata": {},
   "outputs": [],
   "source": [
    "def myfunc(a, b):\n",
    "    return a + b\n",
    "\n",
    "y = map(myfunc , [1,3,4,8],[4,5,6,3]) #list addition\n",
    "list(y)"
   ]
  },
  {
   "cell_type": "code",
   "execution_count": null,
   "metadata": {},
   "outputs": [],
   "source": [
    "[1,3,4]+[4,5,6] #list concat"
   ]
  },
  {
   "cell_type": "code",
   "execution_count": null,
   "metadata": {},
   "outputs": [],
   "source": [
    "def powerN(n):\n",
    "    return n**n\n",
    "\n",
    "power = map(powerN,[1,2,3,4,5,6,7,8,9,10]) #it will return map obj\n",
    "\n",
    "print(list(power))"
   ]
  },
  {
   "cell_type": "code",
   "execution_count": null,
   "metadata": {},
   "outputs": [],
   "source": [
    "def StringAddition(a,b):\n",
    "    return a + b\n",
    "\n",
    "x= map(myfunc, \"abcde\", \"xyzm\")\n",
    "x = list(x)\n",
    "print(x)"
   ]
  },
  {
   "cell_type": "code",
   "execution_count": null,
   "metadata": {},
   "outputs": [],
   "source": [
    "#[30,22,17,27,18]\n",
    "        "
   ]
  },
  {
   "cell_type": "code",
   "execution_count": null,
   "metadata": {},
   "outputs": [],
   "source": [
    "\n"
   ]
  },
  {
   "cell_type": "code",
   "execution_count": null,
   "metadata": {},
   "outputs": [],
   "source": [
    "def sub2(a):\n",
    "    return a%10 , a-10\n",
    "\n",
    "mod= map(sub2,[30,22,17,27,18])\n",
    "\n",
    "print(list(mod))\n",
    "\n",
    "\n",
    "\n",
    "\n",
    "def sub1(a):\n",
    "    return a-10\n",
    "\n",
    "res=map(sub1,[30,22,17,27,18])\n",
    "print(list(res))\n"
   ]
  },
  {
   "cell_type": "code",
   "execution_count": null,
   "metadata": {},
   "outputs": [],
   "source": [
    "# map(fun,iterable)\n",
    "# fun --> prebuild , user-defined.\n",
    "--> map will map object , for displaying typecaste to list() , tuple()"
   ]
  },
  {
   "cell_type": "code",
   "execution_count": null,
   "metadata": {},
   "outputs": [],
   "source": []
  },
  {
   "cell_type": "markdown",
   "metadata": {},
   "source": [
    "#### filter(function,iterable)\n",
    "\n",
    "The filter() method filters the given sequence with the help of a function that tests each element in the sequence to be true or not"
   ]
  },
  {
   "cell_type": "code",
   "execution_count": null,
   "metadata": {},
   "outputs": [],
   "source": [
    "def printVowels(name):\n",
    "    vowels = \"aeiouAEIOU\"\n",
    "    for ch in name:\n",
    "        if ch in vowels:\n",
    "            print(ch)\n",
    "            \n",
    "printVowels(\"python is easiest languages among all languages\")"
   ]
  },
  {
   "cell_type": "code",
   "execution_count": null,
   "metadata": {},
   "outputs": [],
   "source": []
  },
  {
   "cell_type": "code",
   "execution_count": null,
   "metadata": {},
   "outputs": [],
   "source": [
    "def printVowels(name):\n",
    "    vowels = \"aeiouAEIOU\"\n",
    "    for ch in name:\n",
    "        if ch not in vowels:\n",
    "            print(ch , end= \" \")\n",
    "            \n",
    "printVowels(\"Chat GPT is very powerful\")"
   ]
  },
  {
   "cell_type": "code",
   "execution_count": null,
   "metadata": {},
   "outputs": [],
   "source": [
    "#print the vowels in the given String \n",
    "\n",
    "def fun(variable):\n",
    "    vowels = 'aeiouAEIOU'\n",
    "    count=0\n",
    "    for i in variable:\n",
    "        if i not in vowels:\n",
    "            count= count+1\n",
    "    print(count)\n",
    "\n",
    "string = \"python is oops language\"\n",
    "fun(string)"
   ]
  },
  {
   "cell_type": "code",
   "execution_count": null,
   "metadata": {},
   "outputs": [],
   "source": [
    "'a' in ['a', 'e', 'i', 'o', 'u']"
   ]
  },
  {
   "cell_type": "code",
   "execution_count": null,
   "metadata": {},
   "outputs": [],
   "source": [
    "def fun(variable):\n",
    "    letters = ['a', 'e', 'i', 'o', 'u'] #List of vowels\n",
    "    if (variable in letters):\n",
    "        return True\n",
    "    else:\n",
    "        return False\n",
    "\n",
    "\n",
    "\n",
    "filtered = filter(fun,\"akrajamoniU\")\n",
    "\n",
    "print(list(filtered))\n",
    "\n"
   ]
  },
  {
   "cell_type": "code",
   "execution_count": null,
   "metadata": {},
   "outputs": [],
   "source": [
    "for s in filtered:\n",
    "    print(s, end=\" \")"
   ]
  },
  {
   "cell_type": "code",
   "execution_count": null,
   "metadata": {},
   "outputs": [],
   "source": [
    "[i for i in range(1,30) if i%2==1]"
   ]
  },
  {
   "cell_type": "code",
   "execution_count": null,
   "metadata": {},
   "outputs": [],
   "source": [
    "def odd_filter(num):\n",
    "    if(num%2==1):\n",
    "        return True\n",
    "    else:\n",
    "        return False\n",
    "\n",
    "odd_generator = filter(lambda num: num%2 == 1,range(1,40))\n",
    "\n",
    "print(list(odd_generator))"
   ]
  },
  {
   "cell_type": "code",
   "execution_count": null,
   "metadata": {},
   "outputs": [],
   "source": [
    "print(list(filter(lambda num: num%2 == 1,range(1,40))))"
   ]
  },
  {
   "cell_type": "code",
   "execution_count": null,
   "metadata": {},
   "outputs": [],
   "source": [
    "def fun(num):\n",
    "    if (num%2==0):\n",
    "        return True\n",
    "    else:\n",
    "        return False\n",
    "\n",
    "even = filter(fun, range(1,40))\n",
    "\n",
    "for s in even:\n",
    "    print(s,end=\",\")\n"
   ]
  },
  {
   "cell_type": "code",
   "execution_count": null,
   "metadata": {},
   "outputs": [],
   "source": [
    "def somefun(ch):\n",
    "    if ch.isupper():\n",
    "        return True\n",
    "    else:\n",
    "        return False\n",
    "    \n",
    "print(list(filter(somefun,\"PYThOn iS a LaAg\")))"
   ]
  },
  {
   "cell_type": "code",
   "execution_count": null,
   "metadata": {},
   "outputs": [],
   "source": [
    "for dt in \"PYThOn iS a LaAg\":\n",
    "    if(somefun(dt) is True):\n",
    "        print(dt,end=\" \")"
   ]
  },
  {
   "cell_type": "code",
   "execution_count": null,
   "metadata": {},
   "outputs": [],
   "source": [
    "\n",
    "    \n",
    "print(list(filter(lambda ch: ch.isupper(),\"PYThOn iS a LaAg\")))"
   ]
  },
  {
   "cell_type": "code",
   "execution_count": null,
   "metadata": {},
   "outputs": [],
   "source": []
  },
  {
   "cell_type": "markdown",
   "metadata": {},
   "source": [
    "#### Lambda\n",
    "\n",
    "In Python, an anonymous function means that a function is without a name. As we already know that the def keyword is used to define a normal function in Python. \n",
    "\n",
    "Similarly, the lambda keyword is used to define an anonymous function in Python. \n",
    "\n",
    "It has the following syntax: \n",
    "\n",
    "Syntax: lambda arguments: expression"
   ]
  },
  {
   "cell_type": "code",
   "execution_count": null,
   "metadata": {},
   "outputs": [],
   "source": [
    "def addition(a,b):\n",
    "    return a+b\n",
    "\n",
    "addition(11,22)"
   ]
  },
  {
   "cell_type": "code",
   "execution_count": null,
   "metadata": {},
   "outputs": [],
   "source": [
    "y = lambda a,b:a+b\n",
    "\n",
    "print(type(y))\n",
    "\n",
    "print(y(10,30))"
   ]
  },
  {
   "cell_type": "code",
   "execution_count": null,
   "metadata": {},
   "outputs": [],
   "source": [
    "def cube(y):\n",
    "    return y*y*y\n",
    " \n",
    "lambda_cube = lambda y: y*y*y\n",
    " \n",
    "print(cube(5))\n",
    " \n",
    "# using the lambda function\n",
    "print(lambda_cube(5))"
   ]
  },
  {
   "cell_type": "code",
   "execution_count": null,
   "metadata": {},
   "outputs": [],
   "source": [
    "\n",
    "  \n",
    "# result contains odd numbers of the list\n",
    "result = filter(lambda x: x % 2 == 1,range(40))\n",
    "\n",
    "print(list(result))"
   ]
  },
  {
   "cell_type": "code",
   "execution_count": null,
   "metadata": {},
   "outputs": [],
   "source": [
    "result = filter(lambda x: x % 2 == 0, range(1,40))\n",
    "print(list(result))"
   ]
  },
  {
   "cell_type": "code",
   "execution_count": null,
   "metadata": {},
   "outputs": [],
   "source": [
    "# def somefun(s):\n",
    "#     if s.isupper():\n",
    "#         return True\n",
    "#     else:\n",
    "\n",
    "#         return False\n",
    "    \n",
    "print(list(filter(lambda ff: ff.isupper(),\"PYThOn iS a LaAg\")))"
   ]
  },
  {
   "cell_type": "code",
   "execution_count": null,
   "metadata": {},
   "outputs": [],
   "source": []
  },
  {
   "cell_type": "code",
   "execution_count": null,
   "metadata": {},
   "outputs": [],
   "source": []
  },
  {
   "cell_type": "code",
   "execution_count": null,
   "metadata": {},
   "outputs": [],
   "source": [
    "str_filter = filter(lambda x:x.split(\" \") ,\"IAM A PYTHON\")"
   ]
  },
  {
   "cell_type": "code",
   "execution_count": null,
   "metadata": {},
   "outputs": [],
   "source": [
    "print(list(str_filter))"
   ]
  },
  {
   "cell_type": "code",
   "execution_count": null,
   "metadata": {},
   "outputs": [],
   "source": [
    "#read a list or array\n",
    "#  10 , 20 , 40, 50, 60 \n",
    "# lst variable\n",
    "lst=[]\n",
    "n=10\n",
    "for i in range(n):\n",
    "    lst.append(int(input(\"Enter the[\"+str(i)+\"]\")))"
   ]
  },
  {
   "cell_type": "code",
   "execution_count": null,
   "metadata": {},
   "outputs": [],
   "source": [
    "print(lst)"
   ]
  },
  {
   "cell_type": "code",
   "execution_count": null,
   "metadata": {},
   "outputs": [],
   "source": [
    "print(\"10 20 30 40\".split())"
   ]
  },
  {
   "cell_type": "code",
   "execution_count": null,
   "metadata": {},
   "outputs": [],
   "source": [
    "numbers = input()\n",
    "\n",
    "print(numbers,type(numbers))\n",
    "print(numbers.split())"
   ]
  },
  {
   "cell_type": "code",
   "execution_count": null,
   "metadata": {},
   "outputs": [],
   "source": [
    "marks = list(map(float,input('Enter Makrs').split()))\n",
    "\n",
    "print(marks)"
   ]
  },
  {
   "cell_type": "code",
   "execution_count": null,
   "metadata": {},
   "outputs": [],
   "source": []
  },
  {
   "cell_type": "markdown",
   "metadata": {},
   "source": [
    "### reduce()\n",
    "\n",
    "The reduce() function in Python takes in a function and a list as an argument. \n",
    "The function is called with a lambda function and an iterable and a new reduced result is returned. \n",
    "\n",
    "This performs a repetitive operation over the pairs of the iterable. The reduce() function belongs to the  functools"
   ]
  },
  {
   "cell_type": "code",
   "execution_count": null,
   "metadata": {},
   "outputs": [],
   "source": [
    "li = [5, 8, 10, 20, 50, 100]\n",
    "\n",
    "# print(sum(li))\n",
    "\n",
    "s=0\n",
    "for i in li:\n",
    "    s=s+i\n",
    "print(s)"
   ]
  },
  {
   "cell_type": "code",
   "execution_count": null,
   "metadata": {},
   "outputs": [],
   "source": []
  },
  {
   "cell_type": "code",
   "execution_count": null,
   "metadata": {},
   "outputs": [],
   "source": [
    "a = lambda x,y,z:x+y+z\n",
    "a(2,3,4)\n"
   ]
  },
  {
   "cell_type": "code",
   "execution_count": null,
   "metadata": {},
   "outputs": [],
   "source": [
    "import functools as f\n",
    "dir(f)"
   ]
  },
  {
   "cell_type": "code",
   "execution_count": null,
   "metadata": {},
   "outputs": [],
   "source": [
    "from functools import reduce\n",
    "\n",
    "li = [5, 8, 10, 20, 50, 100]\n",
    "\n",
    "sum1 = reduce((lambda x,y: x+y), li)  #reduce(func,iterable)\n",
    "print(sum1)"
   ]
  },
  {
   "cell_type": "code",
   "execution_count": null,
   "metadata": {},
   "outputs": [],
   "source": [
    "from functools import reduce\n",
    "\n",
    "li = [5, 8, 10, 20, 50, 100]\n",
    "\n",
    "sum = reduce((lambda x, y: x+y), [[1,2,3],[12,11,12]])\n",
    "print(sum)"
   ]
  },
  {
   "cell_type": "code",
   "execution_count": null,
   "metadata": {},
   "outputs": [],
   "source": [
    "from functools import reduce\n",
    "\n",
    "li = [5, 8, 10, 20, 50, 100]\n",
    "\n",
    "sum1 = reduce(lambda x,y:x+y, [1,2,3])\n",
    "print (sum1)"
   ]
  },
  {
   "cell_type": "code",
   "execution_count": null,
   "metadata": {},
   "outputs": [],
   "source": []
  },
  {
   "cell_type": "code",
   "execution_count": null,
   "metadata": {},
   "outputs": [],
   "source": [
    "num = int(input())\n",
    " \n",
    "fact = 0\n",
    " \n",
    "for i in range(1, num + 1): \n",
    "    fact = fact * i\n",
    " \n",
    "print(fact)\n"
   ]
  },
  {
   "cell_type": "code",
   "execution_count": null,
   "metadata": {},
   "outputs": [],
   "source": [
    "def fact(n):\n",
    "    if n==0: \n",
    "        return 1\n",
    "    return n*fact(n-1)\n",
    "\n",
    "print(fact(5))"
   ]
  },
  {
   "cell_type": "code",
   "execution_count": null,
   "metadata": {},
   "outputs": [],
   "source": []
  },
  {
   "cell_type": "code",
   "execution_count": null,
   "metadata": {},
   "outputs": [],
   "source": [
    "\n",
    "lambFac = lambda num:1 if num<=1 else num*lambFac(num-1)\n",
    "\n",
    "print(lambFac(5))"
   ]
  },
  {
   "cell_type": "code",
   "execution_count": null,
   "metadata": {},
   "outputs": [],
   "source": [
    "list(range(1, 4))"
   ]
  },
  {
   "cell_type": "code",
   "execution_count": null,
   "metadata": {},
   "outputs": [],
   "source": [
    "n = int(input('Enter number: '))\n",
    "\n",
    "\n",
    "factorial = reduce(lambda x, y: x * y, range(1, n+1))\n",
    "\n",
    "print(factorial)"
   ]
  },
  {
   "cell_type": "code",
   "execution_count": null,
   "metadata": {},
   "outputs": [],
   "source": [
    "#Summary\n",
    "\n",
    "- map(func , Iterable ) - > Apply the functional logic on every item in the iterable .\n",
    "- filter(func, Iterable) - > Apply the functional logic on every item in the iterable , Capture only True Values(iterations)\n",
    "- lambda args:logic/expression \n",
    "- reduce(func , Iterable ) -> Takes Two arguments at a time  , Perserve the result of previous iteration."
   ]
  },
  {
   "cell_type": "code",
   "execution_count": null,
   "metadata": {},
   "outputs": [],
   "source": [
    "lst = [11,22,33,44,62]\n",
    "\n",
    "# for i in range(len(lst)):\n",
    "#     print(lst[i]%10)\n",
    "    \n",
    "    \n",
    "result = map(lambda x: x-10,lst)\n",
    "\n",
    "print(list(result))"
   ]
  },
  {
   "cell_type": "code",
   "execution_count": null,
   "metadata": {},
   "outputs": [],
   "source": [
    "res = list(filter(lambda x:x.isalpha() , \"Kumar 1562 *#^& sjks\"))\n",
    "print(res)"
   ]
  },
  {
   "cell_type": "code",
   "execution_count": null,
   "metadata": {},
   "outputs": [],
   "source": []
  },
  {
   "cell_type": "markdown",
   "metadata": {},
   "source": [
    "# Exceptional Handling\n",
    "\n",
    "- Exception handling ensures that the flow of the program doesn't break when an exception occurs. \n",
    "\n",
    "\n",
    "- For example, if a program has bunch of statements and an exception occurs mid way after executing certain statements then the statements after the exception will not execute and the program will terminate abruptly.\n",
    "\n",
    "\n",
    "- Error in Python can be of two types \n",
    "- i.e. Syntax errors and Exceptions. \n",
    "\n",
    "- Errors are the problems in a program due to which the program will stop the execution. \n",
    "\n",
    "- On the other hand, exceptions are raised when some internal events occur which changes the normal flow of the program\n",
    "\n",
    "##### Syntax Error: As the name suggest this error is caused by wrong syntax in the code. It leads to the termination of the program.\n",
    "\n",
    "\n",
    "##### Exceptions are raised when the program is syntactically correct but the code resulted in an error. This error does not stop the execution of the program, however, it changes the normal flow of the program.\n"
   ]
  },
  {
   "cell_type": "code",
   "execution_count": null,
   "metadata": {},
   "outputs": [],
   "source": [
    "name=\"PythonStuent\"\n",
    "print(name)\n",
    "a=10\n",
    "print(a-a)\n",
    "print(a/(a-a)) #syntax error\n",
    "print(\"ikheike\")\n",
    "print(\"ikheike\")\n",
    "print(\"ikheike\")\n",
    "print(\"ikheike\")\n",
    "print(\"ikheike\")"
   ]
  },
  {
   "cell_type": "code",
   "execution_count": null,
   "metadata": {},
   "outputs": [],
   "source": [
    "print(int(\"10\"))"
   ]
  },
  {
   "cell_type": "code",
   "execution_count": null,
   "metadata": {},
   "outputs": [],
   "source": [
    "age = int(input(\"Enter the age: \"))\n",
    "\n",
    "print(age)\n"
   ]
  },
  {
   "cell_type": "code",
   "execution_count": null,
   "metadata": {},
   "outputs": [],
   "source": [
    "while True:\n",
    "    try:\n",
    "        age = int(input(\"Enter the age: \"))\n",
    "        if type(age) is int:\n",
    "            print(age)\n",
    "            break\n",
    "    except:\n",
    "        print(\"Invalid input , please enter only integers\")\n",
    "        continue\n",
    "\n",
    "\n",
    "print(\"After the exception\")"
   ]
  },
  {
   "cell_type": "code",
   "execution_count": null,
   "metadata": {},
   "outputs": [],
   "source": []
  },
  {
   "cell_type": "code",
   "execution_count": null,
   "metadata": {},
   "outputs": [],
   "source": []
  },
  {
   "cell_type": "code",
   "execution_count": null,
   "metadata": {},
   "outputs": [],
   "source": [
    "# 0/anything =0\n",
    "# anything/0 = undefined or infinity"
   ]
  },
  {
   "cell_type": "code",
   "execution_count": null,
   "metadata": {},
   "outputs": [],
   "source": []
  },
  {
   "cell_type": "code",
   "execution_count": null,
   "metadata": {},
   "outputs": [],
   "source": [
    "# initialize the amount variable\n",
    "marks = 10000\n",
    "print(type(marks))\n",
    "# perform division with 0\n",
    "a = marks / 0\n",
    "print(a)\n"
   ]
  },
  {
   "cell_type": "code",
   "execution_count": null,
   "metadata": {},
   "outputs": [],
   "source": [
    "a=10\n",
    "b=2\n",
    "print(a/(a%b))"
   ]
  },
  {
   "cell_type": "code",
   "execution_count": null,
   "metadata": {},
   "outputs": [],
   "source": [
    "# Note: Exception is the base class for all the exceptions in Python."
   ]
  },
  {
   "cell_type": "code",
   "execution_count": null,
   "metadata": {},
   "outputs": [],
   "source": [
    "a=10\n",
    "b=10\n",
    "print(a*10)\n",
    "print(type(sum))"
   ]
  },
  {
   "cell_type": "markdown",
   "metadata": {},
   "source": [
    "### try - except\n",
    "\n",
    "- try statement is used to write exploit or error prone code.\n",
    "- except statement is used to handle the error occur in try statement.\n",
    "- try will handle both errors and exceptions.\n",
    "\n",
    "- A try statement can have more than one except clause, to specify handlers for different exceptions. Please note that at most one handler will be executed.\n"
   ]
  },
  {
   "cell_type": "code",
   "execution_count": null,
   "metadata": {},
   "outputs": [],
   "source": [
    "a = [10, 20, 30]\n",
    "ind = int(input(\"Enter the index: \"))\n",
    "\n",
    "print(a[ind])\n",
    "print(a[ind+1])"
   ]
  },
  {
   "cell_type": "code",
   "execution_count": null,
   "metadata": {},
   "outputs": [],
   "source": [
    "Exception --> Base class (will handle all exceptions)\n",
    "IndexError, TypeError, ZeroDivisionError,NameError --> child class of Exception"
   ]
  },
  {
   "cell_type": "code",
   "execution_count": null,
   "metadata": {},
   "outputs": [],
   "source": [
    "a = [10, 20, 30]\n",
    "\n",
    "try: \n",
    "    inp = int(input(\"Enter the index: \"))\n",
    "    print(a[inp])\n",
    "    print(a[inp+1])\n",
    "    \n",
    "except IndexError as e: #Base Execptions class  all exceptions\n",
    "    print(f\"Exception handled :  {e}\")\n",
    "\n",
    "except ValueError as e: #Base Execptions class  all exceptions\n",
    "    print(f\"Exception handled :  {e}\")\n",
    "\n",
    "for i in range(10):\n",
    "    print(\"Hello \"+str(i))"
   ]
  },
  {
   "cell_type": "code",
   "execution_count": null,
   "metadata": {},
   "outputs": [],
   "source": [
    "a = [10, 20, 30]\n",
    "\n",
    "try: \n",
    "    inp = int(input(\"Enter the index: \"))\n",
    "    print(a[inp])\n",
    "    print(a[inp+1])\n",
    "    \n",
    "except Exception as e: #Base Execptions class  all exceptions\n",
    "    print(f\"Exception handled :  {e}\")\n",
    "\n",
    "\n",
    "for i in range(10):\n",
    "    print(\"Hello \"+str(i))"
   ]
  },
  {
   "cell_type": "code",
   "execution_count": null,
   "metadata": {},
   "outputs": [],
   "source": [
    "a = [10, 20, 30]\n",
    "try: \n",
    "    \n",
    "    inp = int(input(\"Enter the index: \"))\n",
    "    print(a[inp])\n",
    "  \n",
    "    # Throws error since there are only 3 elements in array\n",
    "    print(a[inp+1])\n",
    "    \n",
    "except Exception: #Base Execptions class  all exceptions\n",
    "    print(\"Hanlded exception\")\n",
    "\n",
    "for i in range(10):\n",
    "    print(\"Hello \"+str(i))"
   ]
  },
  {
   "cell_type": "code",
   "execution_count": null,
   "metadata": {},
   "outputs": [],
   "source": [
    "a = [1, 2, 3]\n",
    "print(a[4])"
   ]
  },
  {
   "cell_type": "code",
   "execution_count": null,
   "metadata": {},
   "outputs": [],
   "source": [
    "a = [1, 2, 3]\n",
    "try: \n",
    "    \n",
    "    inp = int(input(\"Enter the index: \"))\n",
    "    print(a[inp])\n",
    "    print(a[inp+1])\n",
    "    print(a+d)\n",
    "  \n",
    "except IndexError as e:\n",
    "    print (\"except-1 An error occurred\",e)\n",
    "except ValueError as e:\n",
    "    print(\"please enter integer index===>\" ,e)\n",
    "except NameError as e:\n",
    "    print(\"undefined variable\")"
   ]
  },
  {
   "cell_type": "code",
   "execution_count": null,
   "metadata": {},
   "outputs": [],
   "source": []
  },
  {
   "cell_type": "code",
   "execution_count": null,
   "metadata": {},
   "outputs": [],
   "source": []
  },
  {
   "cell_type": "code",
   "execution_count": null,
   "metadata": {},
   "outputs": [],
   "source": [
    "def fun(a:int)->int:\n",
    "    try :\n",
    "        if a < 4 :\n",
    "            b = a/(a-3)\n",
    "        print( \"Value of b = \", b)\n",
    "    \n",
    "    except(ZeroDivisionError, NameError , ValueError,TypeError) as e:\n",
    "        print (\"\\nError Occurred and Handled:\",e)\n",
    "\n",
    "\n",
    "\n",
    "        \n",
    "fun(2)"
   ]
  },
  {
   "cell_type": "code",
   "execution_count": null,
   "metadata": {},
   "outputs": [],
   "source": [
    "fun(3)"
   ]
  },
  {
   "cell_type": "code",
   "execution_count": null,
   "metadata": {},
   "outputs": [],
   "source": [
    "fun(\"a\")"
   ]
  },
  {
   "cell_type": "code",
   "execution_count": null,
   "metadata": {},
   "outputs": [],
   "source": [
    "import os\n",
    "print(os.listdir())\n"
   ]
  },
  {
   "cell_type": "markdown",
   "metadata": {},
   "source": [
    "#### File creations\n",
    "\n",
    "fileObj = open(filename,mode)\n"
   ]
  },
  {
   "cell_type": "code",
   "execution_count": null,
   "metadata": {},
   "outputs": [],
   "source": [
    "f = open('chatgpt.txt','r')"
   ]
  },
  {
   "cell_type": "code",
   "execution_count": null,
   "metadata": {},
   "outputs": [],
   "source": [
    "# try:\n",
    "#     f = open('chatgpt.txt',mode='r')\n",
    "#     print(f.read())\n",
    "    \n",
    "# except FileNotFoundError as e:\n",
    "#     print('this code is not correct Please check' ,e)\n",
    "\n",
    "    \n",
    "    \n",
    "    \n",
    "try:\n",
    "    b=int(input(\"enter= \"))\n",
    "    c=6/b\n",
    "    print(c)\n",
    "except:\n",
    "    print(\"I'm executed only when input is 0: Hey i got the input 0 , You raised a exception\")\n",
    "finally:\n",
    "    print(\"Finally executed\")"
   ]
  },
  {
   "cell_type": "markdown",
   "metadata": {},
   "source": [
    "### nested try\n",
    "\n"
   ]
  },
  {
   "cell_type": "code",
   "execution_count": null,
   "metadata": {},
   "outputs": [],
   "source": [
    "try:\n",
    "  \n",
    "    try:\n",
    "        f=open('test21.txt',mode=\"a\") #default mode : r\n",
    "        print(f.read())\n",
    "    except Exception as e:\n",
    "        print(\"Inner try\",e)\n",
    "\n",
    "    b=int(input(\"enter= \"))\n",
    "    c=6/b\n",
    "    print(c)\n",
    "    \n",
    "\n",
    "except Exception as e: #default 'except:' must be last\n",
    "    print(\"Opps exception\",e)"
   ]
  },
  {
   "cell_type": "code",
   "execution_count": null,
   "metadata": {},
   "outputs": [],
   "source": [
    "try:\n",
    "    f=open('test21.txt')\n",
    "    print(f.write('DSdjbs'))\n",
    "except:\n",
    "        print('this  code is not correct')\n",
    "        try:\n",
    "            c=int(input(\"Enter an integer:\"))\n",
    "            a=6+c\n",
    "            print(a)\n",
    "        except Exception as e:\n",
    "            print(\"this is a nested try block\",e)"
   ]
  },
  {
   "cell_type": "code",
   "execution_count": null,
   "metadata": {},
   "outputs": [],
   "source": [
    "while True:\n",
    "    try:\n",
    "        a=int(input())\n",
    "        b=int(input())\n",
    "        print(a/b)\n",
    "        break\n",
    "    except ZeroDivisionError:\n",
    "        break\n",
    "    except:\n",
    "        print(\"enter the valid\")\n",
    "        continue"
   ]
  },
  {
   "cell_type": "code",
   "execution_count": null,
   "metadata": {},
   "outputs": [],
   "source": [
    "while True:\n",
    "    try:\n",
    "        name = input(\"Enter name:\")\n",
    "        if(name.isalpha()):\n",
    "            print(name)\n",
    "            break\n",
    "        else:\n",
    "            raise Exception\n",
    "    except Exception as e:\n",
    "        print(\"==== Enter valid name =====\",e)\n",
    "        continue\n"
   ]
  },
  {
   "cell_type": "code",
   "execution_count": null,
   "metadata": {},
   "outputs": [],
   "source": [
    "while True:\n",
    "    try:\n",
    "        msg = input(\"Enter message :\")\n",
    "        if(msg =='bye'):\n",
    "            break\n",
    "        if(msg.isalpha()):\n",
    "            print(msg)\n",
    "            break\n",
    "        else: \n",
    "            raise NameError('not an alpha message , please try again')\n",
    "    except NameError as e:\n",
    "        print(e)\n",
    "        continue"
   ]
  },
  {
   "cell_type": "code",
   "execution_count": null,
   "metadata": {},
   "outputs": [],
   "source": [
    "\"name12\".isalpha()"
   ]
  },
  {
   "cell_type": "code",
   "execution_count": null,
   "metadata": {},
   "outputs": [],
   "source": [
    "while True:\n",
    "    name = input(\"Enter message :\")\n",
    "    if(name=='bye'):\n",
    "            break\n",
    "    print(name)\n",
    "    \n",
    "    "
   ]
  },
  {
   "cell_type": "code",
   "execution_count": null,
   "metadata": {},
   "outputs": [],
   "source": [
    "# else ---> will execute if loop body completed all it's iteration.\n",
    "# break - completely break the execution of the loop body\n",
    "# continue --> skip the current itertaion , continue with next iteration."
   ]
  },
  {
   "cell_type": "code",
   "execution_count": null,
   "metadata": {},
   "outputs": [],
   "source": [
    "for i in range(10):\n",
    "    if (i==3):\n",
    "        continue\n",
    "    print(i)\n",
    "else: #no break inside for loop\n",
    "    print(\"else executed...\")\n",
    "    print(\"no break\")"
   ]
  },
  {
   "cell_type": "code",
   "execution_count": null,
   "metadata": {},
   "outputs": [],
   "source": [
    "1/0"
   ]
  },
  {
   "cell_type": "code",
   "execution_count": null,
   "metadata": {},
   "outputs": [],
   "source": [
    "for data in [1,2,3,422,2]:\n",
    "    if data==22:\n",
    "        break\n",
    "    print(data)\n",
    "else: #will executed , when for loop completed all iterations.\n",
    "    print(\"else executed\")\n"
   ]
  },
  {
   "cell_type": "code",
   "execution_count": null,
   "metadata": {},
   "outputs": [],
   "source": [
    "if-else\n",
    "\n",
    "for-else\n",
    "\n",
    "try-except-else\n"
   ]
  },
  {
   "cell_type": "markdown",
   "metadata": {},
   "source": [
    "#### try-except-else\n",
    "\n",
    "#### In python, we can also use else clause on the try-except block which must be present after all the except clauses. \n",
    "\n",
    "#### The code enters the else block only if the try clause does not raise an exception\n"
   ]
  },
  {
   "cell_type": "code",
   "execution_count": null,
   "metadata": {},
   "outputs": [],
   "source": [
    "a=[1,2,3]\n",
    "try:\n",
    "    n = int(input(\"Enter the index:\"))\n",
    "    print(a[n])\n",
    "\n",
    "except ValueError:\n",
    "    print(\"Hello\")\n",
    "except (ZeroDivisionError,NameError ):\n",
    "    print(\"zero\")\n",
    "except Exception as e:\n",
    "    print(e)\n",
    "else: #No exceptioon in the try block\n",
    "    print(\"No Exception ,So I executed \")\n",
    "finally:\n",
    "    print(\"finally executed...\")"
   ]
  },
  {
   "cell_type": "code",
   "execution_count": null,
   "metadata": {},
   "outputs": [],
   "source": [
    "a=[1,2,3,4]\n",
    "try:\n",
    "    n = int(input(\"Enter the index:\"))\n",
    "    print(a[n])\n",
    "except IndexError:\n",
    "    print(\"Error occured & Captured\")\n",
    "else:\n",
    "    print(\"No Exception ,So I executed \")\n",
    "    \n",
    "print(\"after else \")"
   ]
  },
  {
   "cell_type": "code",
   "execution_count": null,
   "metadata": {},
   "outputs": [],
   "source": [
    "# for \n",
    "# # no break\n",
    "# else # else will no break statement"
   ]
  },
  {
   "cell_type": "code",
   "execution_count": null,
   "metadata": {},
   "outputs": [],
   "source": [
    "l =[1,2,3,4]"
   ]
  },
  {
   "cell_type": "code",
   "execution_count": null,
   "metadata": {},
   "outputs": [],
   "source": [
    "a=-1\n",
    "print(a/10)"
   ]
  },
  {
   "cell_type": "code",
   "execution_count": null,
   "metadata": {},
   "outputs": [],
   "source": [
    "#In Functions\n",
    "\n",
    "def AbyB(a , b):\n",
    "    try:\n",
    "        c = ((a+b) / (a-b))\n",
    "    except ZeroDivisionError:\n",
    "        print(\"a/b result in 0\")\n",
    "    else:\n",
    "        print(c)\n",
    "  \n",
    "# Driver program to test above function\n",
    "AbyB(2.0, 3.0)\n",
    "AbyB(3.0, 3.0)"
   ]
  },
  {
   "cell_type": "markdown",
   "metadata": {},
   "source": [
    "#### try Finally\n",
    "\n",
    "- Python provides a keyword finally, which is always executed after try and except blocks. \n",
    "- The finally block always executes after normal termination of try block or after try block terminates due to some exception.\n",
    "\n",
    "\n",
    "try:\n",
    "       # Some Code.... \n",
    "\n",
    "except:\n",
    "       # optional block\n",
    "       # Handling of exception (if required)\n",
    "\n",
    "else:\n",
    "       # execute if no exception\n",
    "\n",
    "finally:\n",
    "      # Some code .....(always executed)"
   ]
  },
  {
   "cell_type": "code",
   "execution_count": null,
   "metadata": {},
   "outputs": [],
   "source": [
    "try: \n",
    "    k = 5/(0)\n",
    "    print(k) \n",
    "    \n",
    "    \n",
    "except ZeroDivisionError:    \n",
    "    print(\"Can't divide by zero\") \n",
    "    \n",
    "else: #when there is no exception\n",
    "    print(\"Im else block\")\n",
    "        \n",
    "finally: \n",
    "    # this block is always executed  \n",
    "    # regardless of exception generation. \n",
    "    print('This is always executed')\n",
    "    \n"
   ]
  },
  {
   "cell_type": "markdown",
   "metadata": {},
   "source": [
    "### Raising Exception\n",
    "\n",
    "- The raise statement allows the programmer to force a specific exception to occur. The sole argument in raise indicates the exception to be raised. \n",
    "\n",
    "\n",
    "- This must be either an exception instance or an exception class (a class that derives from Exception)\n",
    "\n",
    "- The raise keyword is used to raise an exception.\n",
    "\n",
    "- You can define what kind of error to raise, and the text to print to the user.\n"
   ]
  },
  {
   "cell_type": "code",
   "execution_count": null,
   "metadata": {},
   "outputs": [],
   "source": [
    "try: \n",
    "    raise NameError(\"Hi Ak raising a exception\")  # Raise Error\n",
    "except NameError as e:\n",
    "    print (e)\n",
    "#     raise  # To determine whether the exception was raised or not"
   ]
  },
  {
   "cell_type": "code",
   "execution_count": null,
   "metadata": {},
   "outputs": [],
   "source": [
    "x = -1\n",
    "\n",
    "try:\n",
    "    if x < 0:\n",
    "      raise Exception(\"Sorry, no numbers below zero\")\n",
    "\n",
    "except Exception as e:\n",
    "    print(e)"
   ]
  },
  {
   "cell_type": "code",
   "execution_count": null,
   "metadata": {},
   "outputs": [],
   "source": [
    "x = \"hello\"\n",
    "\n",
    "if not type(x) is int:\n",
    "  raise TypeError(\"Only integers are allowed\")\n",
    "print(\"ehje\")"
   ]
  },
  {
   "cell_type": "markdown",
   "metadata": {},
   "source": [
    "- exception = handlilng erros\n",
    "- 2types errors\n",
    "    - syntax error\n",
    "    - exceptions\n",
    "- for handle\n",
    "    - try\n",
    "    - except\n",
    "    - finally \n",
    "    - else\n",
    "    \n"
   ]
  },
  {
   "cell_type": "markdown",
   "metadata": {},
   "source": [
    "#### order of exception order.\n",
    "```python\n",
    "except InderError:\n",
    "    pass\n",
    "except NameError:\n",
    "    pass\n",
    "except Exception:\n",
    "    pass\n",
    "\n",
    "```"
   ]
  },
  {
   "cell_type": "markdown",
   "metadata": {},
   "source": [
    "### User Define Exceptions"
   ]
  },
  {
   "cell_type": "code",
   "execution_count": null,
   "metadata": {},
   "outputs": [],
   "source": [
    "class StudentNotFoundException(Exception):\n",
    "    def __init__(self,msg):\n",
    "        super().__init__(msg)"
   ]
  },
  {
   "cell_type": "code",
   "execution_count": null,
   "metadata": {},
   "outputs": [],
   "source": [
    "name = \"Kumar\"\n",
    "studentNames = [\"sowmay\",\"fenil\"]\n",
    "\n",
    "if name in studentNames:\n",
    "    print(\"attendance checked \")\n",
    "else:\n",
    "    raise StudentNotFoundException('student name not found')"
   ]
  },
  {
   "cell_type": "code",
   "execution_count": null,
   "metadata": {},
   "outputs": [],
   "source": [
    "try:\n",
    "    \n",
    "    if name in studentNames:\n",
    "        print(\"attendance checked \")\n",
    "    else:\n",
    "        raise StudentNotFoundException('student name not found')\n",
    "except StudentNotFoundException as e:\n",
    "    print(e)"
   ]
  },
  {
   "cell_type": "code",
   "execution_count": null,
   "metadata": {},
   "outputs": [],
   "source": []
  }
 ],
 "metadata": {
  "kernelspec": {
   "display_name": "Python 3 (ipykernel)",
   "language": "python",
   "name": "python3"
  },
  "language_info": {
   "codemirror_mode": {
    "name": "ipython",
    "version": 3
   },
   "file_extension": ".py",
   "mimetype": "text/x-python",
   "name": "python",
   "nbconvert_exporter": "python",
   "pygments_lexer": "ipython3",
   "version": "3.10.9"
  }
 },
 "nbformat": 4,
 "nbformat_minor": 4
}
