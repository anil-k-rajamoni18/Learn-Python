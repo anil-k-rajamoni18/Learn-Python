{
 "cells": [
  {
   "cell_type": "code",
   "execution_count": null,
   "metadata": {},
   "outputs": [],
   "source": [
    "from IPython.core.interactiveshell import InteractiveShell\n",
    "InteractiveShell.ast_node_interactivity = \"all\""
   ]
  },
  {
   "cell_type": "markdown",
   "metadata": {},
   "source": [
    "### without functions"
   ]
  },
  {
   "cell_type": "code",
   "execution_count": null,
   "metadata": {},
   "outputs": [],
   "source": [
    "#  print even numbers in range of n\n",
    "#  print odd numbers in range of n\n",
    "#  print multiple of 3 in range of n\n",
    "#  print multiple of 5 in range of n\n",
    "\n",
    "\n",
    "n = int(input(\"enter n :\"))\n",
    "\n",
    "for i in range(n):\n",
    "    if i%2 == 0:\n",
    "        print(i , end=\" \")\n",
    "\n",
    "print()\n",
    "\n",
    "for j in range(n):\n",
    "    if j%2 == 1:\n",
    "        print(j , end=\" \")\n",
    "print()\n",
    "\n",
    "\n",
    "\n",
    "for k in range(n):\n",
    "    if k%3 == 0:\n",
    "        print(k , end= ' ')\n",
    "\n",
    "print()\n",
    "\n",
    "for d in range(n):\n",
    "    if d%5 == 0:\n",
    "        print(d , end= ' ')"
   ]
  },
  {
   "cell_type": "markdown",
   "metadata": {},
   "source": [
    "### with functions"
   ]
  },
  {
   "cell_type": "code",
   "execution_count": null,
   "metadata": {},
   "outputs": [],
   "source": [
    "def printEvenNumbers(n): #declaration\n",
    "    for i in range(n):\n",
    "        if i%2 == 0:\n",
    "            print(i , end=\" \")\n",
    "    print()\n",
    "\n",
    "def printOddNumbers(n):\n",
    "    for j in range(n):\n",
    "        if j%2 == 1:\n",
    "            print(j , end=\" \")\n",
    "    print()\n",
    "            \n",
    "def printMultipleThree(n):\n",
    "    for k in range(n):\n",
    "        if k%3 == 0:\n",
    "            print(k , end= ' ')\n",
    "    print()\n",
    "            \n",
    "def printMultipleFive(n): #params\n",
    "    for d in range(n):\n",
    "        if d%5 == 0:\n",
    "            print(d , end= ' ')\n",
    "    print()\n",
    "    "
   ]
  },
  {
   "cell_type": "code",
   "execution_count": null,
   "metadata": {},
   "outputs": [],
   "source": [
    "n = 100\n",
    "\n",
    "printEvenNumbers(n) #calling , args\n",
    "\n",
    "printMultipleThree(n)"
   ]
  },
  {
   "cell_type": "markdown",
   "metadata": {},
   "source": [
    "### Functions\n",
    "\n",
    "- A function is a block of code which only runs when it is called.\n",
    "\n",
    "- In simple terms , grouping a set of lines of code , place it under a container.\n",
    "\n",
    "- It Performs the Specific Task \n",
    "- Its another level of Abstraction\n",
    "- Functions accept the Data in the form of parameters / agruments\n",
    "- In Python Functions return something as result\n",
    "- By default it returns None type\n",
    "\n",
    "- A function is a block of organized, reusable code that is used to perform a single, related action. Functions provide better modularity for your application and a high degree of code reusing.\n",
    "\n",
    "- In Python def Keyword is used to declare the Functions\n",
    "- syntax:\n",
    "\n",
    "\n",
    "```python\n",
    "def functionName(param1, param2):\n",
    "\n",
    "    # body\n",
    "    return \n",
    "  \n",
    "```\n",
    "    \n",
    "\n",
    "- two phases of functions\n",
    " \n",
    " 1.Declaration \n",
    " \n",
    " 2.Invoking / Calling\n",
    " \n",
    "- A function Must Declare before calling it\n",
    "\n",
    "#### Advantages:\n",
    "\n",
    "- Perform a specific Action\n",
    "- Code Resuability\n",
    "- Modularity\n"
   ]
  },
  {
   "cell_type": "code",
   "execution_count": null,
   "metadata": {},
   "outputs": [],
   "source": []
  },
  {
   "cell_type": "markdown",
   "metadata": {},
   "source": [
    "<img src =\" https://swcarpentry.github.io/python-novice-inflammation/fig/python-function.svg\">"
   ]
  },
  {
   "cell_type": "code",
   "execution_count": null,
   "metadata": {},
   "outputs": [],
   "source": []
  },
  {
   "cell_type": "code",
   "execution_count": null,
   "metadata": {},
   "outputs": [],
   "source": [
    "a = print('hello') # print() returns None type\n",
    "print(a)"
   ]
  },
  {
   "cell_type": "code",
   "execution_count": null,
   "metadata": {},
   "outputs": [],
   "source": [
    "print(print(\"hello\")) # inner function returns None Type "
   ]
  },
  {
   "cell_type": "markdown",
   "metadata": {},
   "source": [
    "### Note\n",
    "\n",
    "- whenever we store fun calling in variable or calling from another function/method always it will expect the return value.\n",
    "- If the function is not returning any value , by default it will return None Type"
   ]
  },
  {
   "cell_type": "code",
   "execution_count": null,
   "metadata": {},
   "outputs": [],
   "source": [
    "def fahrToCelsisus(temp):\n",
    "    res = ((temp-32) * (5/9))\n",
    "    return (res)\n",
    "    \n",
    "    "
   ]
  },
  {
   "cell_type": "code",
   "execution_count": null,
   "metadata": {},
   "outputs": [],
   "source": [
    "print(fahrToCelsisus(100))\n"
   ]
  },
  {
   "cell_type": "code",
   "execution_count": null,
   "metadata": {},
   "outputs": [],
   "source": []
  },
  {
   "cell_type": "markdown",
   "metadata": {},
   "source": [
    "### Types \n",
    "   - PreBuild\n",
    "   - UserBuild"
   ]
  },
  {
   "cell_type": "code",
   "execution_count": null,
   "metadata": {},
   "outputs": [],
   "source": [
    "\n",
    "# prebuild methods/functions \n",
    "print() , range() , type() , dir() , id() , max() , min()\n",
    "\n",
    "sum()  , round() , pow() , input() , int() , float() , complex() . \n",
    "\n",
    "#prebuild methods code written by python language developer.\n",
    "\n",
    "#  if you want to define your own methods , we have to write the user defined functions.\n",
    "\n",
    "#  method/functions to  do a specific task."
   ]
  },
  {
   "cell_type": "code",
   "execution_count": null,
   "metadata": {},
   "outputs": [],
   "source": [
    "lst = [10,20,30,40,50]\n",
    "sumLst = 0 \n",
    "\n",
    "for ele in lst:\n",
    "    sumLst = sumLst + ele\n",
    "    \n",
    "print(sumLst)\n",
    "\n",
    "\n",
    "#methods \n",
    "print(sum((20,30)))"
   ]
  },
  {
   "cell_type": "code",
   "execution_count": null,
   "metadata": {},
   "outputs": [],
   "source": [
    "odd_ind_sum = 0 \n",
    "\n",
    "for i in range(len(lst)):\n",
    "    if i%2 == 1:\n",
    "        odd_ind_sum+= lst[i]\n",
    "        \n",
    "        \n",
    "print(odd_ind_sum)"
   ]
  },
  {
   "cell_type": "code",
   "execution_count": null,
   "metadata": {},
   "outputs": [],
   "source": []
  },
  {
   "cell_type": "markdown",
   "metadata": {},
   "source": [
    "### Use Case -1\n",
    "- Print Each name 10 times \n",
    "- In order to print 100 names , how many lines of code required?\n"
   ]
  },
  {
   "cell_type": "code",
   "execution_count": null,
   "metadata": {},
   "outputs": [],
   "source": [
    "name=\"Ravi\"\n",
    "for i in range(10):\n",
    "    print(name,end=\" \")"
   ]
  },
  {
   "cell_type": "code",
   "execution_count": null,
   "metadata": {
    "scrolled": true
   },
   "outputs": [],
   "source": [
    "name=\"swati\"\n",
    "for i in range(10):\n",
    "    print(name,end=\" \")"
   ]
  },
  {
   "cell_type": "code",
   "execution_count": null,
   "metadata": {
    "scrolled": true
   },
   "outputs": [],
   "source": [
    "name=\"Ganesh\"\n",
    "for i in range(10):\n",
    "    print(name,end=\" \")"
   ]
  },
  {
   "cell_type": "code",
   "execution_count": null,
   "metadata": {
    "scrolled": true
   },
   "outputs": [],
   "source": []
  },
  {
   "cell_type": "code",
   "execution_count": null,
   "metadata": {
    "scrolled": true
   },
   "outputs": [],
   "source": [
    "name=\"Eddie the Eagle\"\n",
    "for i in range(10):\n",
    "    print(name,end=\" \")"
   ]
  },
  {
   "cell_type": "code",
   "execution_count": null,
   "metadata": {
    "scrolled": true
   },
   "outputs": [],
   "source": [
    "def userPrint(name): # Declaration\n",
    "    for i in range(10):\n",
    "        print(name , end=\" \")"
   ]
  },
  {
   "cell_type": "code",
   "execution_count": null,
   "metadata": {
    "scrolled": true
   },
   "outputs": [],
   "source": [
    "userPrint(\"Ganesh\") #calling"
   ]
  },
  {
   "cell_type": "code",
   "execution_count": null,
   "metadata": {
    "scrolled": true
   },
   "outputs": [],
   "source": [
    "userPrint(\"Fenil\")"
   ]
  },
  {
   "cell_type": "code",
   "execution_count": null,
   "metadata": {
    "scrolled": true
   },
   "outputs": [],
   "source": [
    "userPrint(\"Sowmya\")"
   ]
  },
  {
   "cell_type": "code",
   "execution_count": null,
   "metadata": {},
   "outputs": [],
   "source": [
    "userPrint(\"Shivani\")"
   ]
  },
  {
   "cell_type": "code",
   "execution_count": null,
   "metadata": {},
   "outputs": [],
   "source": [
    "result = userPrint(\"Lasya\")\n",
    "\n",
    "print(result)"
   ]
  },
  {
   "cell_type": "code",
   "execution_count": null,
   "metadata": {},
   "outputs": [],
   "source": [
    "\n",
    "print(userPrint(\"Mahesh\"))"
   ]
  },
  {
   "cell_type": "code",
   "execution_count": null,
   "metadata": {},
   "outputs": [],
   "source": []
  },
  {
   "cell_type": "code",
   "execution_count": null,
   "metadata": {},
   "outputs": [],
   "source": []
  },
  {
   "cell_type": "code",
   "execution_count": null,
   "metadata": {},
   "outputs": [],
   "source": []
  },
  {
   "cell_type": "code",
   "execution_count": null,
   "metadata": {
    "scrolled": true
   },
   "outputs": [],
   "source": [
    "def myFun(a,b): #declaration\n",
    "    return a+b\n",
    "\n",
    "r = myFun(10,2) #calling\n",
    "\n",
    "print(r)"
   ]
  },
  {
   "cell_type": "code",
   "execution_count": null,
   "metadata": {},
   "outputs": [],
   "source": [
    "print(myFun(10,230))"
   ]
  },
  {
   "cell_type": "code",
   "execution_count": null,
   "metadata": {
    "scrolled": true
   },
   "outputs": [],
   "source": []
  },
  {
   "cell_type": "code",
   "execution_count": null,
   "metadata": {
    "scrolled": true
   },
   "outputs": [],
   "source": [
    "def calculation(a,b,op):\n",
    "    if op==\"+\":\n",
    "        return a+b\n",
    "    elif op==\"*\":\n",
    "        return a*b\n",
    "    elif op == \"-\":\n",
    "        return a-b\n",
    "    elif op == \"/\":\n",
    "        return a/b\n",
    "    elif op == \"%\":\n",
    "        return a % b \n",
    "    elif op == \"//\":\n",
    "        return a // b\n",
    "    else:\n",
    "        return \"Invalid operator\"\n",
    "\n",
    "def power(num):\n",
    "    return num**num"
   ]
  },
  {
   "cell_type": "code",
   "execution_count": null,
   "metadata": {
    "scrolled": true
   },
   "outputs": [],
   "source": [
    "res = calculation(10,30,\"+\")\n",
    "print(res)"
   ]
  },
  {
   "cell_type": "code",
   "execution_count": null,
   "metadata": {
    "scrolled": true
   },
   "outputs": [],
   "source": [
    "print(calculation(10,360,\"-\"))"
   ]
  },
  {
   "cell_type": "code",
   "execution_count": null,
   "metadata": {
    "scrolled": true
   },
   "outputs": [],
   "source": [
    "res = calculation(2,2,'*')\n",
    "print(res)\n",
    "\n",
    "power_res = power(res)\n",
    "print(power_res,res)"
   ]
  },
  {
   "cell_type": "code",
   "execution_count": null,
   "metadata": {
    "scrolled": true
   },
   "outputs": [],
   "source": []
  },
  {
   "cell_type": "code",
   "execution_count": null,
   "metadata": {
    "scrolled": true
   },
   "outputs": [],
   "source": [
    "def simple(n, c): #params\n",
    "    print(f\"Hey Hi Welcome to functions {n} and course {c}\")\n",
    "\n",
    "\n",
    "simple(\"Hemanth\",\"Java\") # arg values\n",
    "simple(\"Radha\",\"Python\")"
   ]
  },
  {
   "cell_type": "code",
   "execution_count": null,
   "metadata": {
    "scrolled": true
   },
   "outputs": [],
   "source": []
  },
  {
   "cell_type": "code",
   "execution_count": null,
   "metadata": {
    "scrolled": true
   },
   "outputs": [],
   "source": []
  },
  {
   "cell_type": "code",
   "execution_count": null,
   "metadata": {},
   "outputs": [],
   "source": []
  },
  {
   "cell_type": "code",
   "execution_count": null,
   "metadata": {},
   "outputs": [],
   "source": []
  },
  {
   "cell_type": "markdown",
   "metadata": {},
   "source": [
    "### Try these\n",
    "\n",
    "```code \n",
    "\n",
    "def simple1():\n",
    "    pass\n",
    "    \n",
    "a = simple1()\n",
    "print(a)\n",
    "\n",
    "```"
   ]
  },
  {
   "cell_type": "code",
   "execution_count": null,
   "metadata": {},
   "outputs": [],
   "source": [
    "def simple1():\n",
    "    pass\n",
    "    \n",
    "    \n",
    "    \n",
    "a = simple1()\n",
    "print(a)"
   ]
  },
  {
   "cell_type": "code",
   "execution_count": null,
   "metadata": {},
   "outputs": [],
   "source": []
  },
  {
   "cell_type": "markdown",
   "metadata": {},
   "source": [
    "### Inputs to the Functions"
   ]
  },
  {
   "cell_type": "markdown",
   "metadata": {},
   "source": [
    "- Data to the functions is  passed  as arguments.\n",
    "\n",
    "- Arguments are specified after the function name, inside the parentheses. You can add as many arguments as you want, just separate them with a comma.\n",
    "\n",
    "A parameter is the variable listed inside the parentheses in the function definition.\n",
    "\n",
    "An argument is the value that is sent to the function when it is called."
   ]
  },
  {
   "cell_type": "code",
   "execution_count": null,
   "metadata": {
    "scrolled": true
   },
   "outputs": [],
   "source": [
    "def greet(name,age): #parameters\n",
    "    print(f\"Hey Hi {name}  am {age} years old !\")\n",
    " \n",
    "\n",
    "\n",
    "\n",
    "# greet(\"john\" , 20) #arguments\n",
    "#no params == no args\n",
    "\n",
    "# greet(10)\n",
    "greet(\"Kumar\")"
   ]
  },
  {
   "cell_type": "code",
   "execution_count": null,
   "metadata": {
    "scrolled": true
   },
   "outputs": [],
   "source": []
  },
  {
   "cell_type": "code",
   "execution_count": null,
   "metadata": {},
   "outputs": [],
   "source": []
  },
  {
   "cell_type": "code",
   "execution_count": null,
   "metadata": {
    "scrolled": true
   },
   "outputs": [],
   "source": [
    "\n",
    "def addition(num1,num2):\n",
    "    add = num1+num2\n",
    "    print(f'{num1} + {num2} and result is {add}')"
   ]
  },
  {
   "cell_type": "code",
   "execution_count": null,
   "metadata": {
    "scrolled": true
   },
   "outputs": [],
   "source": [
    "addition(1,2) #int \n",
    "addition('a','b') #str\n",
    "addition(1.2,8.5) #float\n",
    "addition(10+2j,3+4j) #complex\n",
    "addition([1,2],[3,4]) # list\n",
    "addition((10,20),(30,40)) #tuple\n"
   ]
  },
  {
   "cell_type": "code",
   "execution_count": null,
   "metadata": {},
   "outputs": [],
   "source": []
  },
  {
   "cell_type": "code",
   "execution_count": null,
   "metadata": {},
   "outputs": [],
   "source": []
  },
  {
   "cell_type": "code",
   "execution_count": null,
   "metadata": {
    "scrolled": false
   },
   "outputs": [],
   "source": [
    "def printName(fname,lname):  #declaration.\n",
    "    print(fname+' '+lname)\n",
    "    printName('Akumar' , \"K\") \n",
    "\n",
    "    \n",
    "printName('Kumar','R') #calling."
   ]
  },
  {
   "cell_type": "code",
   "execution_count": null,
   "metadata": {
    "scrolled": false
   },
   "outputs": [],
   "source": []
  },
  {
   "cell_type": "code",
   "execution_count": null,
   "metadata": {
    "scrolled": true
   },
   "outputs": [],
   "source": [
    "def fun(name):\n",
    "    print(f\"Hi Hi {name}\")\n",
    "    \n",
    "\n",
    "\n",
    "for name in [\"shivani\",\"mahesh\",\"lasya\",\"venkat\"]:\n",
    "    fun(name)"
   ]
  },
  {
   "cell_type": "markdown",
   "metadata": {},
   "source": [
    "### Even Or Odd \n"
   ]
  },
  {
   "cell_type": "code",
   "execution_count": null,
   "metadata": {},
   "outputs": [],
   "source": []
  },
  {
   "cell_type": "code",
   "execution_count": null,
   "metadata": {},
   "outputs": [],
   "source": [
    "def evenoddchecker(num):\n",
    "    return num%2 == 0\n",
    "\n",
    "for i in range(100):\n",
    "    if evenoddchecker(i):\n",
    "        print(i , end = ' ')\n",
    "    "
   ]
  },
  {
   "cell_type": "markdown",
   "metadata": {},
   "source": [
    "### Prime numbers\n",
    "- A number having two factors , one and itself.\n",
    "\n",
    "ex: 2 , 3, 5 , 7 , 11 , 13, 17"
   ]
  },
  {
   "cell_type": "code",
   "execution_count": null,
   "metadata": {},
   "outputs": [],
   "source": [
    "def primeChecker(num):\n",
    "    factors = 0\n",
    "    for i in range(1,num+1):\n",
    "        if num%i == 0:\n",
    "            factors+=1\n",
    "    return factors == 2\n",
    "\n",
    "\n",
    "\n",
    "primeChecker(100000000)    #O(n)  , optimized O(sqrt(n))"
   ]
  },
  {
   "cell_type": "code",
   "execution_count": null,
   "metadata": {},
   "outputs": [],
   "source": [
    "method- 1: O(N)\n",
    "n = 100 : 100 iterations\n",
    "    \n",
    "method-2: O(sqrt(N))\n",
    "n = 100 : 10  iterations"
   ]
  },
  {
   "cell_type": "code",
   "execution_count": null,
   "metadata": {},
   "outputs": [],
   "source": [
    "import time \n",
    "\n",
    "def primeChecker(num):\n",
    "    factors = 0\n",
    "    for i in range(1,num+1):\n",
    "        if num%i == 0:\n",
    "            factors+=1\n",
    "    return factors == 2\n",
    "\n",
    "\n",
    "s  = time.time()\n",
    "\n",
    "primeChecker(100000000)    #O(n)\n",
    "\n",
    "e = time.time()\n",
    "\n",
    "print(f'time taken {e-s}')"
   ]
  },
  {
   "cell_type": "code",
   "execution_count": null,
   "metadata": {},
   "outputs": [],
   "source": []
  },
  {
   "cell_type": "code",
   "execution_count": null,
   "metadata": {},
   "outputs": [],
   "source": []
  },
  {
   "cell_type": "code",
   "execution_count": null,
   "metadata": {
    "scrolled": true
   },
   "outputs": [],
   "source": [
    "#passing the LIST , Tuple , Set , Dictionary  Sequences \n",
    "# iterating through them , to print the values\n",
    "\n",
    "def sequences(seq):\n",
    "    if type(seq)==list:\n",
    "        print(\"LIST\")\n",
    "        for item in seq:\n",
    "            print(item,end=\" \")\n",
    "    \n",
    "    elif type(seq)==tuple:\n",
    "        print(\"TUPLE\")\n",
    "        for item in seq:\n",
    "            print(item,end=\" \")\n",
    "    \n",
    "    elif type(seq)==set:\n",
    "        print(\"SET\")\n",
    "        for item in seq:\n",
    "            print(item,end=\" \")\n",
    "    \n",
    "    elif type(seq)==dict:\n",
    "        print(\"Dictionary\")\n",
    "        for key,val in seq.items():\n",
    "            print(key,val)\n",
    "    else:\n",
    "        print(\"Invalid Type\")"
   ]
  },
  {
   "cell_type": "code",
   "execution_count": null,
   "metadata": {
    "scrolled": true
   },
   "outputs": [],
   "source": [
    "sequences((1,2,3))"
   ]
  },
  {
   "cell_type": "code",
   "execution_count": null,
   "metadata": {
    "scrolled": true
   },
   "outputs": [],
   "source": [
    "sequences({\"Name\":\"Vemuri\",\"class\":\"Python\",\"Country\":\"usa\"})"
   ]
  },
  {
   "cell_type": "code",
   "execution_count": null,
   "metadata": {
    "scrolled": true
   },
   "outputs": [],
   "source": [
    "sequences((\"IND\",\"USA\",\"UK\"))"
   ]
  },
  {
   "cell_type": "code",
   "execution_count": null,
   "metadata": {
    "scrolled": true
   },
   "outputs": [],
   "source": [
    "sequences({\"Rita\",\"Bubu\",\"Roshan\",\"roshan\",\"Rita\",\"Bubu\"})"
   ]
  },
  {
   "cell_type": "code",
   "execution_count": null,
   "metadata": {
    "scrolled": true
   },
   "outputs": [],
   "source": [
    "developer ={\n",
    "    \"name\":\"Mixie\",\n",
    "    \"Company\":\"MS\",\n",
    "    \"Role\":\"Azure Analyst\"\n",
    "}\n",
    "sequences(developer)"
   ]
  },
  {
   "cell_type": "code",
   "execution_count": null,
   "metadata": {
    "scrolled": true
   },
   "outputs": [],
   "source": [
    "sequences(10)"
   ]
  },
  {
   "cell_type": "code",
   "execution_count": null,
   "metadata": {
    "scrolled": true
   },
   "outputs": [],
   "source": [
    "bool(\"False\")\n",
    "bool(\"\")\n",
    "bool([])\n",
    "bool({})\n",
    "bool(0)\n",
    "bool(0.0)\n",
    "bool(\"Vemuri\")"
   ]
  },
  {
   "cell_type": "code",
   "execution_count": null,
   "metadata": {
    "scrolled": true
   },
   "outputs": [],
   "source": [
    "bool(something) ---> true \n",
    "bool(nothing/len Zero) --- false"
   ]
  },
  {
   "cell_type": "code",
   "execution_count": null,
   "metadata": {},
   "outputs": [],
   "source": [
    "print(bool(\"\"))\n",
    "print(bool(\"False\"))\n",
    "print(bool([10]))\n",
    "print(bool(()))\n",
    "print(bool({})\n",
    "print(bool(set()))\n",
    "print(bool(0))\n",
    "print(bool(0.0))\n",
    "print(bool(None))\n"
   ]
  },
  {
   "cell_type": "markdown",
   "metadata": {},
   "source": [
    "## Types of Args\n",
    "\n",
    "- *args\n",
    "- keyword args\n",
    "- default args\n",
    "- required postional args"
   ]
  },
  {
   "cell_type": "code",
   "execution_count": null,
   "metadata": {
    "scrolled": true
   },
   "outputs": [],
   "source": [
    "def addition(a,b,c,d): #params #required postional args\n",
    "    return a+b+c+d\n",
    "\n",
    "r = addition(10,20,30) #args\n",
    "\n",
    "print(r)\n",
    "\n",
    "#  no of params == no of args "
   ]
  },
  {
   "cell_type": "code",
   "execution_count": null,
   "metadata": {},
   "outputs": [],
   "source": [
    "def addition(num1 , num2): #required postional\n",
    "    return num1 + num2\n",
    "\n",
    "\n",
    "print(addition(10,20))\n",
    "\n",
    "\n",
    "\n",
    "def sumOfNaturalNumbers(*nums): # * args \n",
    "    return sum(nums)\n",
    "\n",
    "\n",
    "print(sumOfNaturalNumbers(1,2,3,4,5,6,7,8,9,10))\n",
    "\n",
    "\n",
    "\n",
    "def multiplication(num1 = 10, num2 = 5): # default args\n",
    "    return num1 * num2 \n",
    "\n",
    "print(multiplication(5,7))\n"
   ]
  },
  {
   "cell_type": "code",
   "execution_count": null,
   "metadata": {},
   "outputs": [],
   "source": []
  },
  {
   "cell_type": "code",
   "execution_count": null,
   "metadata": {},
   "outputs": [],
   "source": [
    "k = 10,10\n",
    "print(type(k))"
   ]
  },
  {
   "cell_type": "code",
   "execution_count": null,
   "metadata": {
    "scrolled": true
   },
   "outputs": [],
   "source": [
    "def addition(*a): #params #required postional args\n",
    "    print(a)\n",
    "    print(type(a))\n",
    "\n",
    "r = addition(10,203,1289,10,20,30,40,40,30,30,30,202,330,30,[10,20]) #args \n",
    "\n",
    "print(r)"
   ]
  },
  {
   "cell_type": "code",
   "execution_count": null,
   "metadata": {},
   "outputs": [],
   "source": []
  },
  {
   "cell_type": "code",
   "execution_count": null,
   "metadata": {},
   "outputs": [],
   "source": []
  },
  {
   "cell_type": "markdown",
   "metadata": {},
   "source": [
    "##### * args \n",
    "\n",
    "If you do not know how many arguments that will be passed into your function, \n",
    "add a * before the parameter name in the function definition.\n",
    "\n",
    "The Functions receive the list of args as Tuple Type"
   ]
  },
  {
   "cell_type": "code",
   "execution_count": null,
   "metadata": {
    "scrolled": true
   },
   "outputs": [],
   "source": [
    "def simple(*k):\n",
    "    print(k)\n",
    "    print(type(k))\n",
    "    print(k[6])\n",
    "\n",
    "simple(10,20,4,0,2,[1,10],{\"A\",\"B\"},(1,2,3,5))"
   ]
  },
  {
   "cell_type": "code",
   "execution_count": null,
   "metadata": {
    "scrolled": false
   },
   "outputs": [],
   "source": [
    "def my_function(*args):\n",
    "    print(args)\n",
    "    print(type(args))\n",
    "    print(args[0])\n",
    "    \n",
    "my_function([\"Emil\", \"Tobias\", \"Linus\"],10,20 ) "
   ]
  },
  {
   "cell_type": "markdown",
   "metadata": {},
   "source": [
    "### Try these"
   ]
  },
  {
   "cell_type": "code",
   "execution_count": null,
   "metadata": {
    "scrolled": true
   },
   "outputs": [],
   "source": [
    "#pass list of [10,9,7,6] to function \n",
    "# calculate the sum  , by iterating through each value(loop) \n",
    "# return sum from the function \n",
    "# print res\n",
    "\n"
   ]
  },
  {
   "cell_type": "markdown",
   "metadata": {},
   "source": [
    "#### Keyword\n",
    "You can also send arguments with the key = value syntax.\n",
    "\n",
    "This way the order of the arguments does not matter.\n",
    "\n",
    "If you do not know how many keyword arguments that will be passed into your function, add two asterisk: ** before the parameter name in the function definition.\n",
    "\n",
    "- type of arguments received are Dict"
   ]
  },
  {
   "cell_type": "code",
   "execution_count": null,
   "metadata": {
    "scrolled": true
   },
   "outputs": [],
   "source": []
  },
  {
   "cell_type": "code",
   "execution_count": null,
   "metadata": {
    "scrolled": true
   },
   "outputs": [],
   "source": [
    "def my_function(**ab):\n",
    "    print(ab)\n",
    "    print(type(ab))\n",
    "    print(f' role is {ab[\"role\"]} ')"
   ]
  },
  {
   "cell_type": "code",
   "execution_count": null,
   "metadata": {
    "scrolled": true
   },
   "outputs": [],
   "source": [
    "my_function(name = \"swati\",company = \"Google\",role = \"SDE\",skills = [\"java\",\"springboot\",\"python\",\"devops\"])\n"
   ]
  },
  {
   "cell_type": "code",
   "execution_count": null,
   "metadata": {
    "scrolled": true
   },
   "outputs": [],
   "source": [
    "my_function(name=\"AKR\",course=\"python\",role=\"Data Eng\")\n"
   ]
  },
  {
   "cell_type": "markdown",
   "metadata": {},
   "source": [
    "#### Default Arguments\n",
    "when ever If we call the function without argument, it uses the default value:"
   ]
  },
  {
   "cell_type": "code",
   "execution_count": null,
   "metadata": {
    "scrolled": true
   },
   "outputs": [],
   "source": [
    "def addition(num1,num2): #required positional args\n",
    "    return num1+num2\n",
    "\n",
    "res = addition(10)\n",
    "\n",
    "print(res)"
   ]
  },
  {
   "cell_type": "code",
   "execution_count": null,
   "metadata": {},
   "outputs": [],
   "source": [
    "def addition(num1,num2=600): #default args\n",
    "    return num1+num2\n",
    "\n",
    "res = addition(10)\n",
    "\n",
    "print(res)"
   ]
  },
  {
   "cell_type": "code",
   "execution_count": null,
   "metadata": {},
   "outputs": [],
   "source": []
  },
  {
   "cell_type": "code",
   "execution_count": null,
   "metadata": {
    "scrolled": true
   },
   "outputs": [],
   "source": [
    "addition()"
   ]
  },
  {
   "cell_type": "code",
   "execution_count": null,
   "metadata": {
    "scrolled": true
   },
   "outputs": [],
   "source": [
    "def simple(a=40):  #default\n",
    "    print(a)\n",
    "    \n",
    "simple(30)\n",
    "simple()"
   ]
  },
  {
   "cell_type": "code",
   "execution_count": null,
   "metadata": {
    "scrolled": true
   },
   "outputs": [],
   "source": [
    "def my_function(lang=\"Python\"):\n",
    "    print(\"I like  \" + lang)\n",
    "\n",
    "my_function(\"C\")\n",
    "my_function(\"Ruby\")\n",
    "my_function()\n",
    "my_function(\"Java\") \n",
    "my_function()"
   ]
  },
  {
   "cell_type": "code",
   "execution_count": null,
   "metadata": {
    "scrolled": true
   },
   "outputs": [],
   "source": [
    "#Note \n",
    "\n",
    "# when ever we use both required & Default Arguments\n",
    "\n",
    "# non-default argument follows default argument\n",
    "\n",
    "def func(a,b=10):\n",
    "    print(a+b)\n",
    "    \n",
    "func(100)"
   ]
  },
  {
   "cell_type": "code",
   "execution_count": null,
   "metadata": {
    "scrolled": true
   },
   "outputs": [],
   "source": [
    "def func(b=10,a):\n",
    "    print(a+b)\n",
    "    \n",
    "func(100)"
   ]
  },
  {
   "cell_type": "code",
   "execution_count": null,
   "metadata": {
    "scrolled": true
   },
   "outputs": [],
   "source": [
    "def func(x,a=10,y,b=10):\n",
    "    print(x,y,a,b)\n",
    "    \n",
    "func(10,20)"
   ]
  },
  {
   "cell_type": "code",
   "execution_count": null,
   "metadata": {},
   "outputs": [],
   "source": [
    "def func(x,y,a=20,b=10):\n",
    "    print(x,y,a,b)\n",
    "    \n",
    "func(10,20)"
   ]
  },
  {
   "cell_type": "code",
   "execution_count": null,
   "metadata": {
    "scrolled": true
   },
   "outputs": [],
   "source": [
    "def f1():\n",
    "    print(\"Hey\")\n",
    "    f2()\n",
    "    print(\"Python\")\n",
    "    \n",
    "    \n",
    "def f2():\n",
    "    f3()\n",
    "    print(\"hello\")\n",
    "    \n",
    "def f3():\n",
    "    print(\"Welcome\")\n",
    "  \n",
    "f1()"
   ]
  },
  {
   "cell_type": "code",
   "execution_count": null,
   "metadata": {},
   "outputs": [],
   "source": []
  },
  {
   "cell_type": "markdown",
   "metadata": {},
   "source": [
    "## Returning Values\n",
    "\n",
    "- Functions in Python Always returns some Value type\n",
    "- By default ,it returns None type\n",
    "- To let a function return a value, use the return statement:"
   ]
  },
  {
   "cell_type": "code",
   "execution_count": null,
   "metadata": {
    "scrolled": true
   },
   "outputs": [],
   "source": [
    "def addition(num1,num2):\n",
    "    add=num1+num2\n",
    "    print(add)\n",
    "\n",
    "res = addition(14,12)  # store fun calling in a variable, the variable will expect return value\n",
    "print(\"res : \" ,res)"
   ]
  },
  {
   "cell_type": "code",
   "execution_count": null,
   "metadata": {
    "scrolled": true
   },
   "outputs": [],
   "source": [
    "print(addition(10,20))"
   ]
  },
  {
   "cell_type": "code",
   "execution_count": null,
   "metadata": {
    "scrolled": true
   },
   "outputs": [],
   "source": [
    "def fun(str1,str2):\n",
    "    str3 = \"hello\"\n",
    "    print(str1,str2)\n",
    "   \n",
    "    \n",
    "res = fun(\"Hello\",\"Ak\")\n",
    "print(res)\n",
    "print(str3) "
   ]
  },
  {
   "cell_type": "code",
   "execution_count": null,
   "metadata": {
    "scrolled": true
   },
   "outputs": [],
   "source": []
  },
  {
   "cell_type": "code",
   "execution_count": null,
   "metadata": {
    "scrolled": true
   },
   "outputs": [],
   "source": []
  },
  {
   "cell_type": "code",
   "execution_count": null,
   "metadata": {
    "scrolled": true
   },
   "outputs": [],
   "source": [
    "def simple():\n",
    "    print(\"Simple Function\")\n",
    "    return \"Hi\"\n",
    "\n",
    "res = simple()\n",
    "print(res)\n",
    "print(type(res))"
   ]
  },
  {
   "cell_type": "code",
   "execution_count": null,
   "metadata": {
    "scrolled": true
   },
   "outputs": [],
   "source": [
    "def simple():\n",
    "    print(\"Simple Function\")\n",
    "    return \"Hi\",10\n",
    "\n",
    "res = simple()\n",
    "print(res)\n",
    "print(type(res))"
   ]
  },
  {
   "cell_type": "code",
   "execution_count": null,
   "metadata": {},
   "outputs": [],
   "source": [
    "res  = \"Hi\" , 10\n",
    "print(res , type(res))"
   ]
  },
  {
   "cell_type": "markdown",
   "metadata": {},
   "source": [
    "## pass by reference "
   ]
  },
  {
   "cell_type": "code",
   "execution_count": null,
   "metadata": {},
   "outputs": [],
   "source": [
    "def sumOfList(lst):\n",
    "    print(id(lst))\n",
    "    for i in range(len(lst)):\n",
    "        lst[i] = lst[i]+1\n",
    "\n",
    "a = [10,20,30] \n",
    "print(id(a))\n",
    "sumOfList(a) \n",
    "print(a)\n",
    "\n",
    "# list , set, dictionary -- pass by reference."
   ]
  },
  {
   "cell_type": "code",
   "execution_count": null,
   "metadata": {},
   "outputs": [],
   "source": []
  },
  {
   "cell_type": "code",
   "execution_count": null,
   "metadata": {},
   "outputs": [],
   "source": []
  },
  {
   "cell_type": "markdown",
   "metadata": {},
   "source": [
    "## pass by value"
   ]
  },
  {
   "cell_type": "code",
   "execution_count": null,
   "metadata": {},
   "outputs": [],
   "source": [
    "def update(num):\n",
    "    num = False\n",
    "    print(id(num))\n",
    "\n",
    "val = True\n",
    "print(id(val))\n",
    "update(val) \n",
    "\n",
    "print(val)\n",
    "\n",
    "# int , float , str, complex , boolean ---> pass by value"
   ]
  },
  {
   "cell_type": "code",
   "execution_count": null,
   "metadata": {},
   "outputs": [],
   "source": []
  },
  {
   "cell_type": "code",
   "execution_count": null,
   "metadata": {},
   "outputs": [],
   "source": []
  },
  {
   "cell_type": "markdown",
   "metadata": {},
   "source": [
    "## Variables Scope In Functions\n",
    "\n",
    "- Local Variables : Their Scope is limited to function Body , they Cant be accessed outside the functions block\n",
    "\n",
    "\n",
    "- Global Variable : scope is avaiable through out the whole program.they can be accessed anywhere in the program"
   ]
  },
  {
   "cell_type": "code",
   "execution_count": null,
   "metadata": {
    "scrolled": true
   },
   "outputs": [],
   "source": [
    "num = 1729\n",
    "\n",
    "def fun():\n",
    "    x = 1225\n",
    "    \n",
    "    print(x)\n",
    "    print(num)\n",
    "\n",
    "fun()\n",
    "print(num)\n",
    "print(x) "
   ]
  },
  {
   "cell_type": "code",
   "execution_count": null,
   "metadata": {
    "scrolled": true
   },
   "outputs": [],
   "source": [
    "#global\n",
    "num = 1729\n",
    "\n",
    "def fun():\n",
    "    x = 1225\n",
    "    print(x)\n",
    "    num=1000\n",
    "    print(num)\n",
    "\n",
    "fun()\n",
    "print(num)"
   ]
  },
  {
   "cell_type": "code",
   "execution_count": null,
   "metadata": {
    "scrolled": true
   },
   "outputs": [],
   "source": [
    "#global\n",
    "score = 1729\n",
    "\n",
    "def fun():\n",
    "    x = 1225\n",
    "    print(x)\n",
    "    global score\n",
    "    score=100\n",
    "    \n",
    "    print(score)\n",
    "    score+=10\n",
    "\n",
    "fun()\n",
    "print(score) "
   ]
  },
  {
   "cell_type": "code",
   "execution_count": null,
   "metadata": {
    "scrolled": true
   },
   "outputs": [],
   "source": [
    "x = 75\n",
    "def myfunc():\n",
    "    x = x + 1\n",
    "    print(x)\n",
    "\n",
    "myfunc()\n",
    "print(x)"
   ]
  },
  {
   "cell_type": "code",
   "execution_count": null,
   "metadata": {},
   "outputs": [],
   "source": []
  },
  {
   "cell_type": "code",
   "execution_count": null,
   "metadata": {},
   "outputs": [],
   "source": []
  },
  {
   "cell_type": "markdown",
   "metadata": {},
   "source": [
    "## Nested functions\n",
    "- A Function written inside a another functions"
   ]
  },
  {
   "cell_type": "code",
   "execution_count": null,
   "metadata": {
    "scrolled": true
   },
   "outputs": [],
   "source": [
    "def funa():\n",
    "    pass\n",
    "\n",
    "funa()\n",
    "\n"
   ]
  },
  {
   "cell_type": "code",
   "execution_count": null,
   "metadata": {
    "scrolled": true
   },
   "outputs": [],
   "source": [
    "def greet():\n",
    "    print(\"Hi\")\n",
    "\n",
    "greet()\n",
    "\n"
   ]
  },
  {
   "cell_type": "code",
   "execution_count": null,
   "metadata": {
    "scrolled": true
   },
   "outputs": [],
   "source": [
    "def NameAddition(fname,lname):\n",
    "    print(\"this function is for addition of two names.\")\n",
    "    return fname +\" \" +lname\n",
    "\n",
    "\n",
    "res = NameAddition(\"Kumar\",\"Rajamoni\")\n",
    "\n",
    "print(res)"
   ]
  },
  {
   "cell_type": "code",
   "execution_count": null,
   "metadata": {
    "scrolled": true
   },
   "outputs": [],
   "source": []
  },
  {
   "cell_type": "code",
   "execution_count": null,
   "metadata": {
    "scrolled": true
   },
   "outputs": [],
   "source": [
    "def funB(*args): #tuple\n",
    "    print(args , type(args))\n",
    "    result=0\n",
    "    \n",
    "    for data in args:\n",
    "        result = result+data\n",
    "        \n",
    "    return result\n",
    "\n",
    "res = funB(1,2,3,4)\n",
    "print(res)"
   ]
  },
  {
   "cell_type": "code",
   "execution_count": null,
   "metadata": {
    "scrolled": true
   },
   "outputs": [],
   "source": [
    "def funC(**kwargs): #dict\n",
    "    print(kwargs,type(kwargs))\n",
    "    \n",
    "    for key in kwargs.keys():\n",
    "        print(key,kwargs[key] , sep =\" : \")\n",
    "        \n",
    "funC(name=\"Kumar\",role=\"SDEII\",team=\"SE\",salary=\"1927282\")"
   ]
  },
  {
   "cell_type": "code",
   "execution_count": null,
   "metadata": {
    "scrolled": true
   },
   "outputs": [],
   "source": [
    "def funD(a,b=20):\n",
    "    print(a+b)\n",
    "    \n",
    "funD(10)\n",
    "funD(10,40)"
   ]
  },
  {
   "cell_type": "code",
   "execution_count": null,
   "metadata": {
    "scrolled": true
   },
   "outputs": [],
   "source": []
  },
  {
   "cell_type": "code",
   "execution_count": null,
   "metadata": {
    "scrolled": true
   },
   "outputs": [],
   "source": []
  },
  {
   "cell_type": "code",
   "execution_count": null,
   "metadata": {
    "scrolled": true
   },
   "outputs": [],
   "source": []
  },
  {
   "cell_type": "code",
   "execution_count": null,
   "metadata": {
    "scrolled": true
   },
   "outputs": [],
   "source": [
    "print(__name__) #magic var/ # __main__"
   ]
  },
  {
   "cell_type": "code",
   "execution_count": null,
   "metadata": {},
   "outputs": [],
   "source": []
  },
  {
   "cell_type": "code",
   "execution_count": null,
   "metadata": {
    "scrolled": true
   },
   "outputs": [],
   "source": [
    "def outerFunction(text): \n",
    "    text = text + \" World ,\"\n",
    "    \n",
    "    def innerFunction(): \n",
    "        print(text * 10) \n",
    "    \n",
    "    innerFunction() \n",
    "    \n",
    "if __name__ == '__main__':  # gets True only we we run the file directly\n",
    "    outerFunction('Hey !') \n"
   ]
  },
  {
   "cell_type": "code",
   "execution_count": null,
   "metadata": {
    "scrolled": true
   },
   "outputs": [],
   "source": [
    "def calculator(a,b):\n",
    "    \n",
    "    def addition(a):\n",
    "        return a+10\n",
    "    \n",
    "    def mutliplication(a,b):\n",
    "        return a*b\n",
    "    \n",
    "    add_ret = addition(a)\n",
    "    mul_ret = mutliplication(a,b)\n",
    "    \n",
    "    return add_ret + mul_ret\n",
    "    \n",
    "ret = calculator(10,30)\n",
    "    \n",
    "print(ret)"
   ]
  },
  {
   "cell_type": "code",
   "execution_count": null,
   "metadata": {
    "scrolled": true
   },
   "outputs": [],
   "source": [
    "def print_msg(msg):\n",
    "    def printer(name):\n",
    "        print(msg,name)\n",
    "        def third(a):\n",
    "            return a*10\n",
    "        res = third(10)\n",
    "        return res+10\n",
    "        \n",
    "    res1 = printer(\"Python User\") #calling inner function\n",
    "    print(\"Outside function\")\n",
    "    res2 = printer(\"AK\")    ##calling inner function\n",
    "    return res1*res2\n",
    "    \n",
    "    \n",
    "final_res = print_msg(\"Hello\")\n",
    "print(final_res)\n"
   ]
  },
  {
   "cell_type": "code",
   "execution_count": null,
   "metadata": {
    "scrolled": true
   },
   "outputs": [],
   "source": []
  },
  {
   "cell_type": "code",
   "execution_count": null,
   "metadata": {
    "scrolled": true
   },
   "outputs": [],
   "source": [
    "def print_msg(msg):\n",
    "    def printer(name): \n",
    "        return msg+\" \"+name\n",
    "    \n",
    "    a=printer(\"Python\")\n",
    "    print(a)\n",
    "    a+= \" Lang\"\n",
    "    return a\n",
    "\n",
    "res = print_msg(\"Hello\")\n",
    "print(res)"
   ]
  },
  {
   "cell_type": "code",
   "execution_count": null,
   "metadata": {},
   "outputs": [],
   "source": [
    "def print_msg(msg):\n",
    "    def printer(name): \n",
    "        return msg+\" \"+name\n",
    "    \n",
    "    return printer(\"Python\") + \" Lang\"\n",
    "\n",
    "res = print_msg(\"Hello\")\n",
    "print(res)"
   ]
  },
  {
   "cell_type": "code",
   "execution_count": null,
   "metadata": {},
   "outputs": [],
   "source": [
    "# Caculator \n",
    "    1.addition\n",
    "    2.sub\n",
    "    3.mult\n",
    "    4.div\n",
    "    5.modulus\n",
    "    6.expo\n",
    "    -1 : break"
   ]
  },
  {
   "cell_type": "code",
   "execution_count": null,
   "metadata": {},
   "outputs": [],
   "source": []
  },
  {
   "cell_type": "markdown",
   "metadata": {},
   "source": [
    "\n",
    "\n",
    "## Functions Closures"
   ]
  },
  {
   "cell_type": "code",
   "execution_count": null,
   "metadata": {},
   "outputs": [],
   "source": [
    "def addition(num1, num2):\n",
    "    return num1 + num2 \n",
    "\n",
    "\n",
    "# addition(10,200)\n",
    "\n",
    "someFun = addition #aliasing\n",
    "\n",
    "someFun(10,2990)\n",
    "\n",
    "print(id(someFun) , id(addition))"
   ]
  },
  {
   "cell_type": "code",
   "execution_count": null,
   "metadata": {
    "scrolled": true
   },
   "outputs": [],
   "source": [
    "def make_multiplier_of(n): \n",
    "    def multiplier(x):\n",
    "        return x * n\n",
    "    \n",
    "    return multiplier\n",
    "\n",
    "\n",
    "\n",
    "\n",
    "\n",
    "times3 = make_multiplier_of(10)\n",
    "\n",
    "times5 = make_multiplier_of(20)\n",
    "\n",
    "# print(times3 , times5)\n",
    "\n",
    "\n",
    "\n",
    "print(times3(9))\n",
    "\n",
    "print(times5(3))\n",
    "\n",
    "print(times5(times3(2)))"
   ]
  },
  {
   "cell_type": "code",
   "execution_count": null,
   "metadata": {
    "scrolled": true
   },
   "outputs": [],
   "source": [
    "times3(9)"
   ]
  },
  {
   "cell_type": "code",
   "execution_count": null,
   "metadata": {
    "scrolled": true
   },
   "outputs": [],
   "source": [
    "times5(5)"
   ]
  },
  {
   "cell_type": "code",
   "execution_count": null,
   "metadata": {
    "scrolled": true
   },
   "outputs": [],
   "source": [
    "times5(times3(2)) "
   ]
  },
  {
   "cell_type": "code",
   "execution_count": null,
   "metadata": {},
   "outputs": [],
   "source": []
  },
  {
   "cell_type": "markdown",
   "metadata": {},
   "source": [
    "## Recursion\n",
    "\n",
    "- A Function calling itself , in order to peform the next level of action\n",
    "- Recursion uses the Stack to keep trace of function calls\n",
    "- We use Recursion to slove problem like Factorial , Fibonacci series, Dynamic Programming\n",
    "- We need to define Base condition , to exit"
   ]
  },
  {
   "cell_type": "code",
   "execution_count": null,
   "metadata": {},
   "outputs": [],
   "source": []
  },
  {
   "cell_type": "code",
   "execution_count": null,
   "metadata": {
    "scrolled": true
   },
   "outputs": [],
   "source": [
    "ind = 1\n",
    "while ind<5:\n",
    "    print(ind)"
   ]
  },
  {
   "cell_type": "code",
   "execution_count": null,
   "metadata": {},
   "outputs": [],
   "source": [
    "while True:\n",
    "    print(\"hey hi python\")"
   ]
  },
  {
   "cell_type": "code",
   "execution_count": null,
   "metadata": {},
   "outputs": [],
   "source": [
    "i=0\n",
    "while True:\n",
    "    print(\"Hello world\")\n",
    "    i+=1\n",
    "    if(i==5):break"
   ]
  },
  {
   "cell_type": "code",
   "execution_count": null,
   "metadata": {
    "scrolled": true
   },
   "outputs": [],
   "source": [
    "def fun(name):\n",
    "    print(name)\n",
    "    fun(\"python\")\n",
    "\n",
    "fun(\"AK\")"
   ]
  },
  {
   "cell_type": "code",
   "execution_count": null,
   "metadata": {
    "scrolled": true
   },
   "outputs": [],
   "source": []
  },
  {
   "cell_type": "code",
   "execution_count": null,
   "metadata": {
    "scrolled": true
   },
   "outputs": [],
   "source": [
    "def fun(name,n):\n",
    "    if(n>1): #base condition to exit\n",
    "        print(name , n)\n",
    "        fun(name,n-2)\n",
    "\n",
    "fun(\"AK\",10)"
   ]
  },
  {
   "cell_type": "code",
   "execution_count": null,
   "metadata": {
    "scrolled": true
   },
   "outputs": [],
   "source": [
    "def fun(name,n):\n",
    "    if(n<=0): #base condition to exit\n",
    "        return \n",
    "    else:\n",
    "        print(name,n)\n",
    "        fun(name , n-2)\n",
    "\n",
    "fun(\"AK\",10)"
   ]
  },
  {
   "cell_type": "code",
   "execution_count": null,
   "metadata": {
    "scrolled": true
   },
   "outputs": [],
   "source": [
    "def fun(name,n):\n",
    "    if n==10: #base condition to exit\n",
    "        return \n",
    "    else:\n",
    "        print(name,n)\n",
    "        fun(name,n+2)\n",
    "\n",
    "fun(\"AK\",0)"
   ]
  },
  {
   "cell_type": "code",
   "execution_count": null,
   "metadata": {
    "scrolled": true
   },
   "outputs": [],
   "source": [
    "def fun(num):\n",
    "    if(num>0): #base condition\n",
    "        print(num ,end=\" \")\n",
    "        fun(num-1)\n",
    "\n",
    "        \n",
    "#calling function        \n",
    "res = fun(4)\n",
    "print(res)"
   ]
  },
  {
   "cell_type": "code",
   "execution_count": null,
   "metadata": {
    "scrolled": true
   },
   "outputs": [],
   "source": [
    "def fun(num):\n",
    "    if(num>0): #base condition\n",
    "        fun(num-1)\n",
    "        print(num ,end=\" \")\n",
    "        \n",
    "\n",
    "        \n",
    "#calling function        \n",
    "fun(4)"
   ]
  },
  {
   "cell_type": "code",
   "execution_count": null,
   "metadata": {
    "scrolled": true
   },
   "outputs": [],
   "source": [
    "def fun(num):\n",
    "    if(num>0): #base condition\n",
    "        print(num ,end=\" \")\n",
    "        fun(num-1)\n",
    "        print(num ,end = \" \")\n",
    "\n",
    "        \n",
    "#calling function        \n",
    "fun(4)"
   ]
  },
  {
   "cell_type": "code",
   "execution_count": null,
   "metadata": {
    "scrolled": true
   },
   "outputs": [],
   "source": [
    "def fun(num):\n",
    "    if(num>0): #base condition\n",
    "        fun(num-1)\n",
    "        print(num)\n",
    "\n",
    "        \n",
    "#calling function        \n",
    "fun(4)\n",
    "\n"
   ]
  },
  {
   "cell_type": "code",
   "execution_count": null,
   "metadata": {},
   "outputs": [],
   "source": []
  },
  {
   "cell_type": "markdown",
   "metadata": {},
   "source": [
    "### Why recursion limit only 1000? How to change"
   ]
  },
  {
   "cell_type": "markdown",
   "metadata": {},
   "source": [
    "- It is a guard against a stack overflow.\n",
    "- Python (or rather, the CPython implementation) doesn't optimize tail recursion, and unbridled recursion causes stack overflows\n",
    "- When we hit the limit (1000) it will throw RecursionError\n",
    "\n",
    "**Example**\n",
    "\n",
    "\n",
    "```python\n",
    "import sys\n",
    "\n",
    "#getting\n",
    "print(sys.getrecursionlimit())\n",
    "\n",
    "\n",
    "#setting\n",
    "sys.setrecursionlimit(1500)\n",
    "\n",
    "```"
   ]
  },
  {
   "cell_type": "markdown",
   "metadata": {},
   "source": []
  },
  {
   "cell_type": "code",
   "execution_count": null,
   "metadata": {},
   "outputs": [],
   "source": []
  },
  {
   "cell_type": "markdown",
   "metadata": {},
   "source": [
    "## QUESTIONS"
   ]
  },
  {
   "cell_type": "code",
   "execution_count": null,
   "metadata": {},
   "outputs": [],
   "source": []
  },
  {
   "cell_type": "markdown",
   "metadata": {},
   "source": [
    "## sum of n natural \n",
    "\n",
    "n=4\n",
    "- 1+2+3+4 = 10\n",
    "- n*(n+1)/2  = 10 #O(1)\n",
    "\n"
   ]
  },
  {
   "cell_type": "code",
   "execution_count": null,
   "metadata": {},
   "outputs": [],
   "source": []
  },
  {
   "cell_type": "markdown",
   "metadata": {
    "scrolled": true
   },
   "source": [
    "### Method-1 formula"
   ]
  },
  {
   "cell_type": "code",
   "execution_count": null,
   "metadata": {
    "scrolled": true
   },
   "outputs": [],
   "source": [
    "import time \n",
    "\n",
    "def SumofN(n): #O(1)\n",
    "    return (n*(n+1))/2\n",
    "\n",
    "s = time.time()\n",
    "\n",
    "res = SumofN(1000000000000000000000000000)\n",
    "print(res)\n",
    "\n",
    "e = time.time()\n",
    "\n",
    "print(f'time taken  : {e-s}')"
   ]
  },
  {
   "cell_type": "markdown",
   "metadata": {},
   "source": [
    "### Method-2 - for loop"
   ]
  },
  {
   "cell_type": "code",
   "execution_count": null,
   "metadata": {},
   "outputs": [],
   "source": [
    "def findSumOfN(num):\n",
    "    res = 0\n",
    "    for i in range(1,num+1): #O(n)\n",
    "        res = res+i\n",
    "\n",
    "    print(res)\n",
    "    \n",
    "\n",
    "#starting\n",
    "st = time.time()  \n",
    "\n",
    "findSumOfN(1000)\n",
    "\n",
    "#ending\n",
    "end = time.time()\n",
    " \n",
    "print(f'time taken : {end-st}')\n",
    "    \n",
    "    \n",
    "    \n",
    "\n",
    "# Exp\n",
    "# res = 0+1 = 1\n",
    "# res = 1+2 = 3\n",
    "# res = 3+3 = 6\n",
    "#res = 6+4 = 10\n",
    "#res = 10+5 = 15\n",
    "#1+2+3+4+5 = for loop\n",
    "# recursive 5+4+3+2+1+0 = 15"
   ]
  },
  {
   "cell_type": "markdown",
   "metadata": {},
   "source": [
    "### Method 3- using recursions"
   ]
  },
  {
   "cell_type": "code",
   "execution_count": null,
   "metadata": {},
   "outputs": [],
   "source": [
    "def sumRecur(num): \n",
    "    if num == 1:\n",
    "        return num\n",
    "    else:\n",
    "        return num+sumRecur(num-1)\n",
    "    \n",
    "    \n",
    "if __name__ == '__main__':\n",
    "    print(sumRecur(100))"
   ]
  },
  {
   "cell_type": "code",
   "execution_count": null,
   "metadata": {
    "scrolled": true
   },
   "outputs": [],
   "source": []
  },
  {
   "cell_type": "code",
   "execution_count": null,
   "metadata": {
    "scrolled": true
   },
   "outputs": [],
   "source": []
  },
  {
   "cell_type": "code",
   "execution_count": null,
   "metadata": {
    "scrolled": true
   },
   "outputs": [],
   "source": []
  },
  {
   "cell_type": "markdown",
   "metadata": {
    "scrolled": true
   },
   "source": [
    "### Factorial of a Number \n"
   ]
  },
  {
   "cell_type": "markdown",
   "metadata": {},
   "source": [
    "#### using loop"
   ]
  },
  {
   "cell_type": "code",
   "execution_count": null,
   "metadata": {},
   "outputs": [],
   "source": [
    "\n",
    "r=int(input())\n",
    "res=1\n",
    "for i in range(1,r+1):\n",
    "    print(f\"res: {res} i: {i}  = {res*i}\")\n",
    "    res = res*i\n",
    "    \n",
    "print(res)\n",
    "    \n"
   ]
  },
  {
   "cell_type": "markdown",
   "metadata": {
    "scrolled": true
   },
   "source": [
    "#### recursion"
   ]
  },
  {
   "cell_type": "code",
   "execution_count": null,
   "metadata": {
    "scrolled": true
   },
   "outputs": [],
   "source": [
    "def factorial(num):\n",
    "    #base condition\n",
    "    if num==1:\n",
    "        return num\n",
    "    else:\n",
    "        return num * factorial(num-1)\n",
    "\n",
    "factorial(4)\n",
    "\n"
   ]
  },
  {
   "cell_type": "code",
   "execution_count": null,
   "metadata": {},
   "outputs": [],
   "source": []
  },
  {
   "cell_type": "markdown",
   "metadata": {},
   "source": [
    "#### Factorial using DP\n"
   ]
  },
  {
   "cell_type": "code",
   "execution_count": null,
   "metadata": {
    "scrolled": true
   },
   "outputs": [],
   "source": [
    "def factorial_dp(n):\n",
    "    fact = [1]\n",
    "    for i in range(2, n+1):\n",
    "        fact.append(i*fact[i-2])\n",
    "        print(fact)\n",
    "    return fact[n-1]\n",
    "\n",
    "\n",
    "factorial_dp(5)"
   ]
  },
  {
   "cell_type": "code",
   "execution_count": null,
   "metadata": {
    "scrolled": true
   },
   "outputs": [],
   "source": [
    "# for loop\n",
    "# normal fun\n",
    "#  recursion fun\n",
    "#  DP \n",
    "\n",
    "# SUM on NATURAL \n",
    "#  formula\n",
    "#  for loop\n",
    "# fun and recu fun\n",
    "#  DP?\n"
   ]
  },
  {
   "cell_type": "markdown",
   "metadata": {},
   "source": [
    "### Fibonacci Series\n",
    "The Fibonacci Sequence is the series of numbers:\n",
    "\n",
    "0, 1, 1, 2, 3, 5, 8, 13, 21, 34, ...\n",
    "\n",
    "The next number is found by adding up the two numbers before it:\n",
    "\n",
    "the 2 is found by adding the two numbers before it (1+1),\n",
    "the 3 is found by adding the two numbers before it (1+2),\n",
    "the 5 is (2+3),"
   ]
  },
  {
   "cell_type": "code",
   "execution_count": null,
   "metadata": {
    "scrolled": true
   },
   "outputs": [],
   "source": [
    "#n=5\n",
    "#0 1 1 2 3 \n",
    "n=int(input())\n",
    "first=0\n",
    "second=1\n",
    "for i in range(n):\n",
    "    print(first, end=\" \")\n",
    "    third = first+second\n",
    "    first= second\n",
    "    second = third\n",
    "# print(first)\n",
    "\n",
    "# O(n)\n",
    "\n"
   ]
  },
  {
   "cell_type": "markdown",
   "metadata": {},
   "source": [
    "<img src = \"https://blog.penjee.com/wp-content/uploads/2015/06/fibonacci-recursion-demonstration-animation-python.gif\">"
   ]
  },
  {
   "cell_type": "code",
   "execution_count": null,
   "metadata": {
    "scrolled": true
   },
   "outputs": [],
   "source": [
    "def fibnacci(num):\n",
    "    if num==0 or num==1:\n",
    "        return num\n",
    "    return fibnacci(num-1)+fibnacci(num-2)"
   ]
  },
  {
   "cell_type": "code",
   "execution_count": null,
   "metadata": {
    "scrolled": true
   },
   "outputs": [],
   "source": [
    "fibnacci(5) # n th term"
   ]
  },
  {
   "cell_type": "code",
   "execution_count": null,
   "metadata": {
    "scrolled": true
   },
   "outputs": [],
   "source": [
    " 0 1 1 2 3 5 8 13 "
   ]
  },
  {
   "cell_type": "code",
   "execution_count": null,
   "metadata": {
    "scrolled": true
   },
   "outputs": [],
   "source": [
    "\n",
    "# Fibonacci Series using Dynamic Programming\n",
    "def fibonacci(n):\n",
    "     \n",
    "    # Taking 1st two fibonacci numbers as 0 and 1\n",
    "    f = [0, 1]\n",
    "     \n",
    "     \n",
    "    for i in range(2, n+1):\n",
    "        f.append(f[i-1] + f[i-2])\n",
    "    return f[n] , f\n",
    "\n",
    "     \n",
    "print(fibonacci(5))"
   ]
  },
  {
   "cell_type": "code",
   "execution_count": null,
   "metadata": {
    "scrolled": true
   },
   "outputs": [],
   "source": []
  },
  {
   "cell_type": "code",
   "execution_count": null,
   "metadata": {
    "scrolled": true
   },
   "outputs": [],
   "source": []
  },
  {
   "cell_type": "code",
   "execution_count": null,
   "metadata": {
    "scrolled": true
   },
   "outputs": [],
   "source": []
  },
  {
   "cell_type": "code",
   "execution_count": null,
   "metadata": {
    "scrolled": true
   },
   "outputs": [],
   "source": []
  },
  {
   "cell_type": "code",
   "execution_count": null,
   "metadata": {
    "scrolled": true
   },
   "outputs": [],
   "source": [
    "def add():\n",
    "    ''' addition of two numbers , this function is written by User'''\n",
    "    n1 = int(input(\"Enter Num1= \"))\n",
    "    n2 = int(input(\"Enter Num2 = \"))\n",
    "    return n1+n2\n",
    "\n",
    "def sub():\n",
    "    ''' Subtraction of two numbers'''\n",
    "    n1 = int(input(\"Enter Num1= \"))\n",
    "    n2 = int(input(\"Enter Num2= \"))\n",
    "    return n1-n2\n",
    "\n",
    "def mult():\n",
    "    ''' multiplication of two numbers by vemuri'''\n",
    "    n1 = int(input(\"Enter Num1= \"))\n",
    "    n2 = int(input(\"Enter Num2= \"))\n",
    "    return n1*n2\n",
    "\n",
    "def div():\n",
    "    ''' Division of two numbers'''\n",
    "    n1 = int(input(\"Enter Num1= \"))\n",
    "    n2 = int(input(\"Enter Num2= \"))\n",
    "    return n1/n2\n",
    "\n",
    "def modulus():\n",
    "    n1 = int(input(\"Enter Num1= \"))\n",
    "    n2 = int(input(\"Enter Num2= \"))\n",
    "    return n1%n2\n",
    "\n",
    "def exp():\n",
    "    n1 = int(input(\"Enter Num1= \"))\n",
    "    n2 = int(input(\"Enter Num2= \"))\n",
    "    return n1**n2"
   ]
  },
  {
   "cell_type": "code",
   "execution_count": null,
   "metadata": {
    "scrolled": true
   },
   "outputs": [],
   "source": [
    "add()"
   ]
  },
  {
   "cell_type": "code",
   "execution_count": null,
   "metadata": {
    "scrolled": true
   },
   "outputs": [],
   "source": [
    "\n",
    "while True:\n",
    "    print(\"\"\" 1.addition \\n 2.Subtraction \\n 3.Multiplication \\n 4.Division \\n 5.Modulus \\n 6.Exponentation \\n-1. exit \"\"\")\n",
    "\n",
    "    ch = int(input(\"Enter the Choice: \"))\n",
    "    if ch==1:\n",
    "        res=add()\n",
    "        print(f\"The addition of two numbers is {res}\")\n",
    "\n",
    "    elif ch==2:\n",
    "        res=sub()\n",
    "        print(f\"The Subtraction of two numbers is {res}\")\n",
    "\n",
    "    elif ch==3:\n",
    "        res=mult()\n",
    "        print(f\"The Multiplication of two numbers is {res}\")\n",
    "\n",
    "    elif ch==4:\n",
    "        res=div()\n",
    "        print(f\"The Division of two numbers is {res}\")\n",
    "\n",
    "    elif ch==5:\n",
    "        res=modulus()\n",
    "        print(f\"The Modulus of two numbers is {res}\")\n",
    "\n",
    "    elif ch==6:\n",
    "        res=exp()\n",
    "        print(f\"The  expotention is {res}\")\n",
    "    elif ch==-1:\n",
    "        break\n",
    "    else:\n",
    "        print(\"Invalid Choice\")\n",
    "    \n"
   ]
  },
  {
   "cell_type": "code",
   "execution_count": null,
   "metadata": {
    "scrolled": true
   },
   "outputs": [],
   "source": [
    "mult()"
   ]
  },
  {
   "cell_type": "code",
   "execution_count": null,
   "metadata": {
    "scrolled": true
   },
   "outputs": [],
   "source": []
  },
  {
   "cell_type": "markdown",
   "metadata": {},
   "source": [
    "####  Question on Recursion \n",
    "\n",
    "- Find the length of String\n",
    "- Find the length of List\n",
    "- String Revere\n",
    "- List Reverse\n",
    "- Binary Search \n",
    "- Sorting Algorithms"
   ]
  },
  {
   "cell_type": "code",
   "execution_count": null,
   "metadata": {},
   "outputs": [],
   "source": []
  },
  {
   "cell_type": "code",
   "execution_count": null,
   "metadata": {},
   "outputs": [],
   "source": []
  },
  {
   "cell_type": "markdown",
   "metadata": {},
   "source": [
    "### method-1\n",
    "\n"
   ]
  },
  {
   "cell_type": "code",
   "execution_count": null,
   "metadata": {},
   "outputs": [],
   "source": [
    "import time"
   ]
  },
  {
   "cell_type": "code",
   "execution_count": null,
   "metadata": {},
   "outputs": [],
   "source": []
  },
  {
   "cell_type": "code",
   "execution_count": null,
   "metadata": {},
   "outputs": [],
   "source": [
    "def primeChecker(num):\n",
    "    factors = 0\n",
    "    for i in range(1,num+1):\n",
    "        if num%i == 0:\n",
    "            factors+=1\n",
    "    return factors == 2\n",
    "\n",
    "\n",
    "start = time.time()\n",
    "primeChecker(100000000)  \n",
    "end = time.time()\n",
    "\n",
    "print(f\"time took: {end-start}\")"
   ]
  },
  {
   "cell_type": "code",
   "execution_count": null,
   "metadata": {},
   "outputs": [],
   "source": []
  },
  {
   "cell_type": "markdown",
   "metadata": {},
   "source": [
    "### method-2"
   ]
  },
  {
   "cell_type": "code",
   "execution_count": null,
   "metadata": {},
   "outputs": [],
   "source": [
    "from math import sqrt\n",
    "def primeChecker2(num):\n",
    "    if(num<2):\n",
    "        return False\n",
    "   \n",
    "    for i in range(2,int(sqrt(num))): #if factor found not a prime  \n",
    "        if (num%i == 0):\n",
    "            return False\n",
    "        \n",
    "    return True"
   ]
  },
  {
   "cell_type": "code",
   "execution_count": null,
   "metadata": {},
   "outputs": [],
   "source": [
    "start = time.time()\n",
    "\n",
    "primeChecker2(100000000000000)  \n",
    "\n",
    "end = time.time()\n",
    "\n",
    "print(f\"time took: {end-start}\")"
   ]
  },
  {
   "cell_type": "code",
   "execution_count": null,
   "metadata": {},
   "outputs": [],
   "source": [
    "int(sqrt(97))"
   ]
  },
  {
   "cell_type": "code",
   "execution_count": null,
   "metadata": {},
   "outputs": [],
   "source": []
  }
 ],
 "metadata": {
  "kernelspec": {
   "display_name": "Python 3 (ipykernel)",
   "language": "python",
   "name": "python3"
  },
  "language_info": {
   "codemirror_mode": {
    "name": "ipython",
    "version": 3
   },
   "file_extension": ".py",
   "mimetype": "text/x-python",
   "name": "python",
   "nbconvert_exporter": "python",
   "pygments_lexer": "ipython3",
   "version": "3.10.9"
  }
 },
 "nbformat": 4,
 "nbformat_minor": 4
}
