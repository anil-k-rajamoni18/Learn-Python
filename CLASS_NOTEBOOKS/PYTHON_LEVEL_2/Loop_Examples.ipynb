{
 "cells": [
  {
   "cell_type": "markdown",
   "metadata": {},
   "source": [
    "### LIST COMPREHENSION\n",
    "    - using for loop inside your list or tuple \n",
    "    - shorter syntax compared to normal list with for loop"
   ]
  },
  {
   "cell_type": "markdown",
   "metadata": {},
   "source": [
    "### Example-1"
   ]
  },
  {
   "cell_type": "code",
   "execution_count": null,
   "metadata": {},
   "outputs": [],
   "source": [
    "lst = [] \n",
    "for i in range(0,20,2):\n",
    "    lst.append(i)   \n",
    "print(lst)"
   ]
  },
  {
   "cell_type": "code",
   "execution_count": null,
   "metadata": {},
   "outputs": [],
   "source": [
    "evenList = [i for i in range(0,20,2)]\n",
    "print(evenList)"
   ]
  },
  {
   "cell_type": "code",
   "execution_count": null,
   "metadata": {},
   "outputs": [],
   "source": [
    "oddLst = []\n",
    "\n",
    "for i in range(0,20):\n",
    "    if(i%2 == 1):\n",
    "        oddLst.append(i)\n",
    "print(oddLst)"
   ]
  },
  {
   "cell_type": "code",
   "execution_count": null,
   "metadata": {},
   "outputs": [],
   "source": [
    "oddList = [i for i in range(20) if i%2==1 ]\n",
    "print(oddList)"
   ]
  },
  {
   "cell_type": "code",
   "execution_count": null,
   "metadata": {},
   "outputs": [],
   "source": [
    "example = [i**2 for i in range(10)]\n",
    "\n",
    "print(example)"
   ]
  },
  {
   "cell_type": "code",
   "execution_count": null,
   "metadata": {},
   "outputs": [],
   "source": []
  },
  {
   "cell_type": "markdown",
   "metadata": {},
   "source": [
    "### Example-2"
   ]
  },
  {
   "cell_type": "code",
   "execution_count": null,
   "metadata": {},
   "outputs": [],
   "source": [
    "# using nested loops \n",
    "\n",
    "first = [2, 3, 4]\n",
    "second = [20, 30, 40]\n",
    "final = []\n",
    "for i in first:\n",
    "    for j in second:\n",
    "        final.append(i+j)\n",
    "print(final)"
   ]
  },
  {
   "cell_type": "code",
   "execution_count": null,
   "metadata": {},
   "outputs": [],
   "source": [
    "first = [2, 3, 4]\n",
    "second = [20, 30, 40]\n",
    "final = [i+j for i in first for j in second]\n",
    "print(final)\n",
    "\n"
   ]
  },
  {
   "cell_type": "markdown",
   "metadata": {},
   "source": [
    "### Example-3"
   ]
  },
  {
   "cell_type": "code",
   "execution_count": null,
   "metadata": {},
   "outputs": [],
   "source": [
    "final = [[x, y] for x in [10, 20, 30] for y in [30, 10, 50] if x != y]\n",
    "print(final)\n"
   ]
  },
  {
   "cell_type": "code",
   "execution_count": null,
   "metadata": {},
   "outputs": [],
   "source": []
  },
  {
   "cell_type": "code",
   "execution_count": null,
   "metadata": {},
   "outputs": [],
   "source": []
  },
  {
   "cell_type": "markdown",
   "metadata": {},
   "source": [
    "### Dictionary Comprehension"
   ]
  },
  {
   "cell_type": "code",
   "execution_count": null,
   "metadata": {},
   "outputs": [],
   "source": [
    "d1 = {i:i**3 for i in range(10)}"
   ]
  },
  {
   "cell_type": "code",
   "execution_count": null,
   "metadata": {},
   "outputs": [],
   "source": [
    "print(d1)"
   ]
  },
  {
   "cell_type": "code",
   "execution_count": null,
   "metadata": {},
   "outputs": [],
   "source": [
    "d2 = {ch:ch.isupper() for ch in \"Kumar\"}\n",
    "print(d2)"
   ]
  },
  {
   "cell_type": "code",
   "execution_count": null,
   "metadata": {},
   "outputs": [],
   "source": [
    "nestedListComp = [ [ i+j for j in range(4)] for i in range(2)]"
   ]
  },
  {
   "cell_type": "code",
   "execution_count": null,
   "metadata": {},
   "outputs": [],
   "source": [
    "print(nestedListComp)"
   ]
  },
  {
   "cell_type": "code",
   "execution_count": null,
   "metadata": {},
   "outputs": [],
   "source": []
  },
  {
   "cell_type": "code",
   "execution_count": null,
   "metadata": {},
   "outputs": [],
   "source": []
  },
  {
   "cell_type": "markdown",
   "metadata": {},
   "source": [
    "### nested loops\n",
    "- A loop inside another loop\n",
    "\n",
    "\n",
    "nested for loop \n",
    "\n",
    "```python\n",
    "# outer for loop\n",
    "for element in sequence \n",
    "   # inner for loop\n",
    "   for element in sequence:\n",
    "       body of inner for loop\n",
    "   body of outer for loop\n",
    "```\n",
    "\n",
    "\n",
    "\n",
    "  nested while loop\n",
    "\n",
    "```python\n",
    "while expression:\n",
    "   while expression:\n",
    "      statement(s)\n",
    "   statement(s)\n",
    "```"
   ]
  },
  {
   "cell_type": "code",
   "execution_count": null,
   "metadata": {},
   "outputs": [],
   "source": []
  },
  {
   "cell_type": "markdown",
   "metadata": {},
   "source": [
    "#### Example -1"
   ]
  },
  {
   "cell_type": "code",
   "execution_count": null,
   "metadata": {},
   "outputs": [],
   "source": [
    "#outer loop\n",
    "\n",
    "for i in range(1,4):\n",
    "    for j in range(1,4):\n",
    "        print(i,j)\n",
    "    print()"
   ]
  },
  {
   "cell_type": "code",
   "execution_count": null,
   "metadata": {},
   "outputs": [],
   "source": [
    "a = ['foo', 'bar', 'baz', 'qux', 'corge']\n",
    "print(bool([]))\n",
    "print(bool(a))"
   ]
  },
  {
   "cell_type": "code",
   "execution_count": null,
   "metadata": {},
   "outputs": [],
   "source": []
  },
  {
   "cell_type": "markdown",
   "metadata": {},
   "source": [
    "#### Example -2"
   ]
  },
  {
   "cell_type": "code",
   "execution_count": null,
   "metadata": {},
   "outputs": [],
   "source": [
    "while True:\n",
    "    print(\"Python\")"
   ]
  },
  {
   "cell_type": "code",
   "execution_count": null,
   "metadata": {},
   "outputs": [],
   "source": [
    "i = 0\n",
    "while True:\n",
    "    print(\"python\")\n",
    "    if i==5:\n",
    "        break\n",
    "    i+=1"
   ]
  },
  {
   "cell_type": "code",
   "execution_count": null,
   "metadata": {},
   "outputs": [],
   "source": []
  },
  {
   "cell_type": "code",
   "execution_count": null,
   "metadata": {},
   "outputs": [],
   "source": [
    "a = ['foo', 'bar', 'baz', 'qux', 'corge']\n",
    "while a:\n",
    "    if len(a) < 3:\n",
    "        break\n",
    "    print(a.pop())\n",
    "print('Done.')"
   ]
  },
  {
   "cell_type": "code",
   "execution_count": null,
   "metadata": {},
   "outputs": [],
   "source": []
  },
  {
   "cell_type": "markdown",
   "metadata": {},
   "source": [
    "#### Example -3"
   ]
  },
  {
   "cell_type": "code",
   "execution_count": null,
   "metadata": {},
   "outputs": [],
   "source": []
  },
  {
   "cell_type": "code",
   "execution_count": null,
   "metadata": {},
   "outputs": [],
   "source": [
    "s = \"\"\n",
    "\n",
    "n = 6\n",
    "while n > 0:\n",
    "    n -= 1\n",
    "    if (n % 2) == 0:\n",
    "        break\n",
    "\n",
    "    a = ['foo', 'bar', 'baz']\n",
    "    while a:\n",
    "        s += str(n) + a.pop(0)\n",
    "        if len(a) < 2:\n",
    "            break"
   ]
  },
  {
   "cell_type": "code",
   "execution_count": null,
   "metadata": {},
   "outputs": [],
   "source": [
    "s"
   ]
  },
  {
   "cell_type": "code",
   "execution_count": null,
   "metadata": {},
   "outputs": [],
   "source": []
  },
  {
   "cell_type": "markdown",
   "metadata": {},
   "source": [
    "#### Example -4"
   ]
  },
  {
   "cell_type": "code",
   "execution_count": null,
   "metadata": {},
   "outputs": [],
   "source": []
  },
  {
   "cell_type": "code",
   "execution_count": null,
   "metadata": {},
   "outputs": [],
   "source": [
    "a=[[2,8],[15,20]]\n",
    "b=[[25,50],[50,60]]\n",
    "\n",
    "i=0\n",
    "j=0\n",
    "\n",
    "c=[]\n",
    "\n",
    "for i in range(len(a)):\n",
    "    for j in range(len(b)):\n",
    "        print(a[i][j] , b[i][j])\n",
    "        c.append(a[i][j]+b[i][j])\n",
    "print(c)"
   ]
  },
  {
   "cell_type": "code",
   "execution_count": null,
   "metadata": {},
   "outputs": [],
   "source": [
    "i=0\n",
    "\n",
    "while i<len(a):\n",
    "    j=0\n",
    "    while j<len(b):\n",
    "        print(a[i][j]+b[i][j],end=\" \")\n",
    "        j+=1\n",
    "    print()\n",
    "    i+=1"
   ]
  },
  {
   "cell_type": "code",
   "execution_count": null,
   "metadata": {},
   "outputs": [],
   "source": []
  },
  {
   "cell_type": "code",
   "execution_count": null,
   "metadata": {},
   "outputs": [],
   "source": []
  },
  {
   "cell_type": "markdown",
   "metadata": {},
   "source": [
    "#### Example -5"
   ]
  },
  {
   "cell_type": "code",
   "execution_count": null,
   "metadata": {},
   "outputs": [],
   "source": []
  },
  {
   "cell_type": "code",
   "execution_count": null,
   "metadata": {},
   "outputs": [],
   "source": [
    "i=1\n",
    "while i<4:\n",
    "    j=1\n",
    "    while j<4:\n",
    "        print(i,j)\n",
    "        j+=1 #increment inner\n",
    "    #increment\n",
    "    i+=1 \n",
    "    "
   ]
  },
  {
   "cell_type": "code",
   "execution_count": null,
   "metadata": {},
   "outputs": [],
   "source": [
    "i=4\n",
    "while i>=0:\n",
    "    j=3\n",
    "    while j!=-1:\n",
    "        print(i,j)\n",
    "        j=j-1 #increment inner\n",
    "    #increment\n",
    "    i=i-1 \n"
   ]
  },
  {
   "cell_type": "code",
   "execution_count": null,
   "metadata": {},
   "outputs": [],
   "source": []
  },
  {
   "cell_type": "markdown",
   "metadata": {},
   "source": [
    "#### Example -6\n",
    "\n",
    "```code\n",
    "n = 5 \n",
    "\n",
    "1 \n",
    "1 2 \n",
    "1 2 3 \n",
    "1 2 3 4 \n",
    "1 2 3 4 5 \n",
    "\n",
    "```"
   ]
  },
  {
   "cell_type": "code",
   "execution_count": null,
   "metadata": {},
   "outputs": [],
   "source": []
  },
  {
   "cell_type": "code",
   "execution_count": null,
   "metadata": {},
   "outputs": [],
   "source": [
    "n = int(input())\n",
    "\n",
    "for i in range(1,n+1):\n",
    "    for j in range(1,i+1):\n",
    "        print(j, end=\" \")\n",
    "        \n",
    "    print()\n",
    "   "
   ]
  },
  {
   "cell_type": "code",
   "execution_count": null,
   "metadata": {},
   "outputs": [],
   "source": []
  },
  {
   "cell_type": "markdown",
   "metadata": {},
   "source": [
    "#### Example -7\n",
    "\n",
    "```code\n",
    "n=5\n",
    "\n",
    "1 2 3 4 5 \n",
    "1 2 3 4 \n",
    "1 2 3 \n",
    "1 2 \n",
    "1 \n",
    "\n",
    "```"
   ]
  },
  {
   "cell_type": "code",
   "execution_count": null,
   "metadata": {},
   "outputs": [],
   "source": []
  },
  {
   "cell_type": "code",
   "execution_count": null,
   "metadata": {},
   "outputs": [],
   "source": [
    "n=5\n",
    "for i in range(1,n+1): #i=3\n",
    "    for j in range(1,n+2-i):\n",
    "        print(j, end=\" \")\n",
    "    print()"
   ]
  },
  {
   "cell_type": "code",
   "execution_count": null,
   "metadata": {},
   "outputs": [],
   "source": [
    "for i in range(1,6): #i=3\n",
    "    for j in range(1,i+1):\n",
    "        print(\"*\" ,end=\" \")\n",
    "    print()\n",
    "   "
   ]
  },
  {
   "cell_type": "code",
   "execution_count": null,
   "metadata": {},
   "outputs": [],
   "source": [
    "for i in range(5,-1,-1): #i=3\n",
    "    for j in range(i,-1,-1):\n",
    "        print(j ,end=\" \")\n",
    "    print()\n",
    "   "
   ]
  },
  {
   "cell_type": "code",
   "execution_count": null,
   "metadata": {},
   "outputs": [],
   "source": []
  },
  {
   "cell_type": "markdown",
   "metadata": {},
   "source": [
    "#### Example - 8"
   ]
  },
  {
   "cell_type": "code",
   "execution_count": null,
   "metadata": {},
   "outputs": [],
   "source": [
    "first = [2, 4, 6]\n",
    "second = [2, 4, 6]\n",
    "for i in first:\n",
    "    for j in second:\n",
    "        if i == j:\n",
    "            continue\n",
    "        print(i, '*', j, '= ', i * j)"
   ]
  },
  {
   "cell_type": "code",
   "execution_count": null,
   "metadata": {},
   "outputs": [],
   "source": []
  },
  {
   "cell_type": "markdown",
   "metadata": {},
   "source": [
    "### Example-9"
   ]
  },
  {
   "cell_type": "markdown",
   "metadata": {},
   "source": [
    "Print all perfect numbers from 1 to 100\n",
    "\n",
    "- Here we will iterate the first 100 numbers using a while loop\n",
    "- In each iteration of the outer while loop, the inner for loop execute from 1 up to the current outer number to check if the current number is a perfect number."
   ]
  },
  {
   "cell_type": "code",
   "execution_count": 4,
   "metadata": {},
   "outputs": [
    {
     "name": "stdout",
     "output_type": "stream",
     "text": [
      "Show Perfect number fom 1 to 100\n",
      "Perfect number: 6\n",
      "Perfect number: 28\n"
     ]
    }
   ],
   "source": [
    "print('Show Perfect number fom 1 to 100')\n",
    "n = 2\n",
    "# outer while loop\n",
    "while n <= 100:\n",
    "    x_sum = 0\n",
    "    # inner for loop\n",
    "    for i in range(1, n):\n",
    "        if n % i == 0:\n",
    "            x_sum += i\n",
    "    if x_sum == n:\n",
    "        print('Perfect number:', n)\n",
    "    n += 1"
   ]
  },
  {
   "cell_type": "code",
   "execution_count": null,
   "metadata": {},
   "outputs": [],
   "source": [
    "1-6\n",
    "\n",
    "6%1 --> x_sum = 0+1 -> 1\n",
    "6%2 --> x_sum = 1+2 -> 3\n",
    "6%3 --> x_sum = 3+3 --> 6\n",
    "6%4 --> not divisible\n",
    "6%5 --> not divisble\n",
    "\n",
    "\n",
    "\n"
   ]
  },
  {
   "cell_type": "code",
   "execution_count": null,
   "metadata": {},
   "outputs": [],
   "source": []
  },
  {
   "cell_type": "markdown",
   "metadata": {},
   "source": [
    "### While Loop"
   ]
  },
  {
   "cell_type": "markdown",
   "metadata": {},
   "source": [
    "<img src=\"https://blog.penjee.com/wp-content/uploads/2015/03/while-loop-animation-python.gif\" width=\"750\" align=\"center\" height=\"100\" width=\"200\">"
   ]
  },
  {
   "cell_type": "markdown",
   "metadata": {},
   "source": [
    "### While Even _Odd"
   ]
  },
  {
   "cell_type": "markdown",
   "metadata": {},
   "source": [
    "<img src=\"https://blog.penjee.com/wp-content/uploads/2015/11/loop-over-python-list-animation.gif\" align=\"center\" height=\"500\" width=\"300\">"
   ]
  },
  {
   "cell_type": "code",
   "execution_count": null,
   "metadata": {},
   "outputs": [],
   "source": []
  },
  {
   "cell_type": "code",
   "execution_count": null,
   "metadata": {},
   "outputs": [],
   "source": []
  },
  {
   "cell_type": "code",
   "execution_count": null,
   "metadata": {},
   "outputs": [],
   "source": [
    "#Q2\n",
    "1  \n",
    "\n",
    "2 2  \n",
    "\n",
    "3 3 3  \n",
    "\n",
    "4 4 4 4  \n",
    "\n",
    "5 5 5 5 5\n",
    "\n",
    "#Q3\n",
    "\n",
    "1 1 1 1 1 \n",
    "\n",
    "2 2 2 2 \n",
    "\n",
    "3 3 3 \n",
    "\n",
    "4 4 \n",
    "\n",
    "5\n",
    "\n",
    "# Q4 - Inverted Pyramid\n",
    "\n",
    "5 5 5 5 5 \n",
    "\n",
    "4 4 4 4 \n",
    "\n",
    "3 3 3 \n",
    "\n",
    "2 2 \n",
    "\n",
    "1\n",
    "\n",
    "#Q5 - reverse pyramid\n",
    "1 \n",
    "\n",
    "2 1 \n",
    "\n",
    "3 2 1 \n",
    "\n",
    "4 3 2 1 \n",
    "\n",
    "5 4 3 2 1"
   ]
  },
  {
   "cell_type": "markdown",
   "metadata": {},
   "source": [
    "### Loop based Question\n",
    "- read a list of values using loop and caculate the  consecutive sum at index level. \n",
    "- read a list of values and caculate second largest number\n",
    "- reverse a number\n",
    "- factorial\n",
    "- fibonaci series\n",
    "- armstrong number\n",
    "- prime number\n"
   ]
  },
  {
   "cell_type": "code",
   "execution_count": null,
   "metadata": {},
   "outputs": [],
   "source": []
  },
  {
   "cell_type": "code",
   "execution_count": null,
   "metadata": {},
   "outputs": [],
   "source": []
  },
  {
   "cell_type": "markdown",
   "metadata": {},
   "source": [
    "### CHECK GIVEN NUMBER IS A PRIME OR NOT.\n",
    "\n",
    "```code\n",
    "\n",
    "ex: A number which is divisible by one and itself\n",
    "    3 5 7 11 \n",
    "    \n",
    "    7 : in range of (1-7) has only two factors\n",
    "    1x7 = 7\n",
    "    7x1 = 7\n",
    "```\n",
    "\n"
   ]
  },
  {
   "cell_type": "code",
   "execution_count": null,
   "metadata": {},
   "outputs": [],
   "source": [
    "\n",
    "num = int(input(\"Enter the number: \"))\n",
    "\n",
    "fc = 0\n",
    "\n",
    "for i in range(1,num+1):\n",
    "    if(num%i==0):\n",
    "        fc = fc+1\n",
    "\n",
    "if(fc==2):\n",
    "    print(\"PRIME\")\n",
    "else:\n",
    "    print(\"NOT PRIME\")"
   ]
  },
  {
   "cell_type": "code",
   "execution_count": null,
   "metadata": {},
   "outputs": [],
   "source": []
  },
  {
   "cell_type": "code",
   "execution_count": null,
   "metadata": {},
   "outputs": [],
   "source": []
  },
  {
   "cell_type": "markdown",
   "metadata": {},
   "source": [
    "### Nested Loops Question\n",
    "\n",
    "- Sorting Algorithms\n",
    "- Searching Alogirthms\n",
    "- Array 2D operations\n",
    "\n"
   ]
  },
  {
   "cell_type": "code",
   "execution_count": null,
   "metadata": {},
   "outputs": [],
   "source": [
    "\n"
   ]
  }
 ],
 "metadata": {
  "kernelspec": {
   "display_name": "Python 3 (ipykernel)",
   "language": "python",
   "name": "python3"
  },
  "language_info": {
   "codemirror_mode": {
    "name": "ipython",
    "version": 3
   },
   "file_extension": ".py",
   "mimetype": "text/x-python",
   "name": "python",
   "nbconvert_exporter": "python",
   "pygments_lexer": "ipython3",
   "version": "3.10.9"
  }
 },
 "nbformat": 4,
 "nbformat_minor": 4
}
